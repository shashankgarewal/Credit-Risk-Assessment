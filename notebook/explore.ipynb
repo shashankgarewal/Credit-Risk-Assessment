{
 "cells": [
  {
   "cell_type": "code",
   "execution_count": 1,
   "metadata": {},
   "outputs": [],
   "source": [
    "import pandas as pd\n",
    "import numpy as np\n",
    "import pickle\n",
    "\n",
    "# visulization\n",
    "import matplotlib.pyplot as plt\n",
    "import seaborn as sns\n",
    "\n",
    "# feature selection\n",
    "from statsmodels.stats.outliers_influence import variance_inflation_factor\n",
    "from scipy.stats import chi2_contingency\n",
    "\n",
    "# modeling\n",
    "from sklearn.model_selection import train_test_split\n",
    "from sklearn.tree import DecisionTreeClassifier\n",
    "from sklearn.ensemble import RandomForestClassifier\n",
    "from xgboost import XGBClassifier\n",
    "from sklearn.metrics import accuracy_score, classification_report, precision_recall_fscore_support\n",
    "\n",
    "import warnings\n",
    "import os"
   ]
  },
  {
   "cell_type": "code",
   "execution_count": 2,
   "metadata": {},
   "outputs": [],
   "source": [
    "df1 = pd.read_excel('../dataset/bank_data.xlsx')\n",
    "df2 = pd.read_excel('../dataset/cibil_data.xlsx')"
   ]
  },
  {
   "cell_type": "code",
   "execution_count": 3,
   "metadata": {},
   "outputs": [],
   "source": [
    "# extensive data of the customers \n",
    "df = pd.merge(df1, df2, 'inner')"
   ]
  },
  {
   "cell_type": "code",
   "execution_count": 4,
   "metadata": {},
   "outputs": [],
   "source": [
    "# saving dataframe with pickle, faster upload\n",
    "df.to_pickle('../artifacts/full_data.pkl')\n",
    "df.to_csv('../artifacts/full_data.csv', index=False)"
   ]
  },
  {
   "cell_type": "code",
   "execution_count": 5,
   "metadata": {},
   "outputs": [],
   "source": [
    "df = pd.read_pickle('../artifacts/full_data.pkl')"
   ]
  },
  {
   "cell_type": "markdown",
   "metadata": {},
   "source": [
    "The -99999 are used for null value, and should be rectified"
   ]
  },
  {
   "cell_type": "code",
   "execution_count": 6,
   "metadata": {},
   "outputs": [],
   "source": [
    "# impute -99999 with null\n",
    "df.replace(-99999, np.nan, inplace=True)"
   ]
  },
  {
   "cell_type": "code",
   "execution_count": 7,
   "metadata": {},
   "outputs": [
    {
     "data": {
      "text/plain": [
       "Age_Oldest_TL                      40\n",
       "Age_Newest_TL                      40\n",
       "pct_currentBal_all_TL              72\n",
       "time_since_recent_payment        4291\n",
       "enq_L3m                          6321\n",
       "enq_L6m                          6321\n",
       "enq_L12m                         6321\n",
       "time_since_recent_enq            6321\n",
       "PL_enq_L12m                      6321\n",
       "PL_enq_L6m                       6321\n",
       "PL_enq                           6321\n",
       "CC_enq_L12m                      6321\n",
       "CC_enq_L6m                       6321\n",
       "CC_enq                           6321\n",
       "tot_enq                          6321\n",
       "max_deliq_12mts                 10832\n",
       "max_deliq_6mts                  12890\n",
       "max_unsec_exposure_inPct        23178\n",
       "max_delinquency_level           35949\n",
       "time_since_recent_deliquency    35949\n",
       "time_since_first_deliquency     35949\n",
       "PL_utilization                  44435\n",
       "CC_utilization                  47636\n",
       "dtype: int64"
      ]
     },
     "execution_count": 7,
     "metadata": {},
     "output_type": "execute_result"
    }
   ],
   "source": [
    "# null_col: column with null values\n",
    "null_col = df.isna().sum()[lambda x: x > 0].index\n",
    "df[null_col].isna().sum().sort_values()"
   ]
  },
  {
   "cell_type": "markdown",
   "metadata": {},
   "source": [
    "* PL_utilization and CC_utilization are only features associated with utilization of TL, and cannot be imputed with confidence.This features needs to be dropped.\n",
    "* time_since_first_deliquency, time_since_recent_deliquency, and max_delinquency_level are related to customer default/deliquency. There are many more features related to deliquency, require further analysis before making any decision.\n",
    "* max_unsec_exposure_inPct have 2 related features (Secured_TL, Unsecured_TL) which does not show any direction correlation with `maximum %(exposure to unsecured TL)`. This column cannot be immputed and should be dropped.\n",
    "* max_deliq_6mts, and max_deliq_12mts are similar to point 2, about default/deliquency. \n",
    "* Alot of features have 6321 null values (-99999). \n",
    "* "
   ]
  },
  {
   "cell_type": "code",
   "execution_count": 8,
   "metadata": {},
   "outputs": [],
   "source": [
    "# dropping utilization features.\n",
    "df.drop(['PL_utilization', 'CC_utilization'], axis=1, inplace=True)"
   ]
  },
  {
   "cell_type": "markdown",
   "metadata": {},
   "source": [
    "### Analysis for deliquency features"
   ]
  },
  {
   "cell_type": "code",
   "execution_count": 9,
   "metadata": {},
   "outputs": [
    {
     "data": {
      "text/plain": [
       "3    35949\n",
       "0    15387\n",
       "dtype: int64"
      ]
     },
     "execution_count": 9,
     "metadata": {},
     "output_type": "execute_result"
    }
   ],
   "source": [
    "# delinquency features with more than 50% null values\n",
    "\n",
    "null_deq_col = ['time_since_first_deliquency', 'time_since_recent_deliquency', 'max_delinquency_level']\n",
    "rest_deq_col = ['num_times_delinquent', 'max_recent_level_of_deliq', 'num_deliq_6mts', 'num_deliq_12mts', 'num_deliq_6_12mts', 'max_deliq_6mts', 'max_deliq_12mts', 'recent_level_of_deliq']\n",
    "\n",
    "df[null_deq_col].isna().sum(axis=1).value_counts()"
   ]
  },
  {
   "cell_type": "code",
   "execution_count": 10,
   "metadata": {},
   "outputs": [
    {
     "data": {
      "text/plain": [
       "0    35949\n",
       "Name: num_times_delinquent, dtype: int64"
      ]
     },
     "execution_count": 10,
     "metadata": {},
     "output_type": "execute_result"
    }
   ],
   "source": [
    "# check for any deq in customer history\n",
    "df.num_times_delinquent[df[null_deq_col].isna().sum(axis=1) == 3].value_counts()"
   ]
  },
  {
   "cell_type": "code",
   "execution_count": 11,
   "metadata": {},
   "outputs": [
    {
     "data": {
      "text/plain": [
       "35949"
      ]
     },
     "execution_count": 11,
     "metadata": {},
     "output_type": "execute_result"
    }
   ],
   "source": [
    "# cross verify / double check\n",
    "df.max_delinquency_level[df['num_times_delinquent'] == 0].isna().sum()"
   ]
  },
  {
   "cell_type": "code",
   "execution_count": 12,
   "metadata": {},
   "outputs": [],
   "source": [
    "# fill null deq with 0\n",
    "df[null_deq_col] = df[null_deq_col].fillna(0)"
   ]
  },
  {
   "cell_type": "code",
   "execution_count": 13,
   "metadata": {},
   "outputs": [
    {
     "data": {
      "text/plain": [
       "0    38446\n",
       "2    10832\n",
       "1     2058\n",
       "dtype: int64"
      ]
     },
     "execution_count": 13,
     "metadata": {},
     "output_type": "execute_result"
    }
   ],
   "source": [
    "other_null_deq_index = df[['max_deliq_12mts', 'max_deliq_6mts']].isna().sum(axis=1)\n",
    "other_null_deq_index.value_counts()"
   ]
  },
  {
   "cell_type": "code",
   "execution_count": 14,
   "metadata": {},
   "outputs": [
    {
     "data": {
      "text/plain": [
       "0        11\n",
       "3         0\n",
       "4         0\n",
       "6         0\n",
       "9         0\n",
       "         ..\n",
       "51322     0\n",
       "51327     1\n",
       "51328     0\n",
       "51329     0\n",
       "51335     0\n",
       "Name: num_times_delinquent, Length: 12890, dtype: int64"
      ]
     },
     "execution_count": 14,
     "metadata": {},
     "output_type": "execute_result"
    }
   ],
   "source": [
    "df.loc[other_null_deq_index > 0]['num_times_delinquent']"
   ]
  },
  {
   "cell_type": "code",
   "execution_count": 15,
   "metadata": {},
   "outputs": [],
   "source": [
    "# impute 0 for other null deq if num of deq is 0\n",
    "other_null_deq_col = ['max_deliq_6mts', 'max_deliq_12mts']\n",
    "other_null_no_deq_index = df[df.num_times_delinquent == 0].index\n",
    "df.loc[other_null_no_deq_index][other_null_deq_col] = df.loc[other_null_no_deq_index].fillna(0)[other_null_deq_col]"
   ]
  },
  {
   "cell_type": "code",
   "execution_count": 16,
   "metadata": {},
   "outputs": [
    {
     "data": {
      "text/plain": [
       "max_deliq_6mts     12890\n",
       "max_deliq_12mts    10832\n",
       "dtype: int64"
      ]
     },
     "execution_count": 16,
     "metadata": {},
     "output_type": "execute_result"
    }
   ],
   "source": [
    "# remaining null deq\n",
    "df[other_null_deq_col].isna().sum()"
   ]
  },
  {
   "cell_type": "code",
   "execution_count": 17,
   "metadata": {},
   "outputs": [
    {
     "data": {
      "text/plain": [
       "0    38446\n",
       "2    10832\n",
       "1     2058\n",
       "dtype: int64"
      ]
     },
     "execution_count": 17,
     "metadata": {},
     "output_type": "execute_result"
    }
   ],
   "source": [
    "reamining_null_deq_series = df[other_null_deq_col].isna().sum(axis=1)\n",
    "reamining_null_deq_series.value_counts()"
   ]
  },
  {
   "cell_type": "code",
   "execution_count": 18,
   "metadata": {},
   "outputs": [
    {
     "data": {
      "text/plain": [
       "num_times_delinquent    1123\n",
       "dtype: int64"
      ]
     },
     "execution_count": 18,
     "metadata": {},
     "output_type": "execute_result"
    }
   ],
   "source": [
    "(df[reamining_null_deq_series == 1][['num_times_delinquent']] == 0).sum()"
   ]
  },
  {
   "cell_type": "markdown",
   "metadata": {},
   "source": [
    "Remaining null in deq features could not be imputed with confidence, and needs to be rejected from dataset."
   ]
  },
  {
   "cell_type": "code",
   "execution_count": 20,
   "metadata": {},
   "outputs": [
    {
     "data": {
      "text/plain": [
       "Age_Oldest_TL                   40\n",
       "Age_Newest_TL                   40\n",
       "pct_currentBal_all_TL           72\n",
       "time_since_recent_payment     4291\n",
       "enq_L3m                       6321\n",
       "enq_L6m                       6321\n",
       "enq_L12m                      6321\n",
       "time_since_recent_enq         6321\n",
       "PL_enq_L12m                   6321\n",
       "PL_enq_L6m                    6321\n",
       "CC_enq_L12m                   6321\n",
       "CC_enq_L6m                    6321\n",
       "CC_enq                        6321\n",
       "tot_enq                       6321\n",
       "PL_enq                        6321\n",
       "max_deliq_12mts              10832\n",
       "max_deliq_6mts               12890\n",
       "max_unsec_exposure_inPct     23178\n",
       "dtype: int64"
      ]
     },
     "execution_count": 20,
     "metadata": {},
     "output_type": "execute_result"
    }
   ],
   "source": [
    "null_col = df.isna().sum(axis=0)[lambda x: x>0].index\n",
    "df[null_col].isna().sum(axis=0).sort_values()"
   ]
  },
  {
   "cell_type": "code",
   "execution_count": null,
   "metadata": {},
   "outputs": [],
   "source": []
  }
 ],
 "metadata": {
  "kernelspec": {
   "display_name": "base",
   "language": "python",
   "name": "python3"
  },
  "language_info": {
   "codemirror_mode": {
    "name": "ipython",
    "version": 3
   },
   "file_extension": ".py",
   "mimetype": "text/x-python",
   "name": "python",
   "nbconvert_exporter": "python",
   "pygments_lexer": "ipython3",
   "version": "3.8.5"
  }
 },
 "nbformat": 4,
 "nbformat_minor": 2
}
