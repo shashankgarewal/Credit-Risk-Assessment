{
 "cells": [
  {
   "cell_type": "code",
   "execution_count": 1,
   "metadata": {},
   "outputs": [],
   "source": [
    "# system\n",
    "import warnings\n",
    "import os\n",
    "\n",
    "# operation\n",
    "import pandas as pd\n",
    "import numpy as np\n",
    "import pickle\n",
    "\n",
    "# visulization\n",
    "import matplotlib.pyplot as plt\n",
    "import seaborn as sns\n",
    "\n",
    "# feature engineering\n",
    "import statsmodels.api as sm\n",
    "from statsmodels.stats.outliers_influence import variance_inflation_factor\n",
    "from scipy.stats import chi2_contingency, f_oneway\n",
    "from sklearn.preprocessing import OrdinalEncoder, LabelEncoder\n",
    "from sklearn.preprocessing import StandardScaler\n",
    "from sklearn.model_selection import train_test_split\n",
    "\n",
    "# modeling\n",
    "from sklearn.model_selection import GridSearchCV\n",
    "from sklearn.svm import SVC\n",
    "from sklearn.neighbors import KNeighborsClassifier\n",
    "from sklearn.tree import DecisionTreeClassifier\n",
    "from sklearn.ensemble import RandomForestClassifier\n",
    "from xgboost import XGBClassifier\n",
    "\n",
    "# evaluation\n",
    "from sklearn.metrics import confusion_matrix\n",
    "from sklearn.metrics import accuracy_score, classification_report, precision_recall_fscore_support\n",
    "\n",
    "warnings.filterwarnings(\"ignore\")\n",
    "pd.set_option('display.max_columns', None)\n",
    "%config InlineBackend.figure_format = 'retina'"
   ]
  },
  {
   "cell_type": "code",
   "execution_count": 2,
   "metadata": {},
   "outputs": [],
   "source": [
    "df1 = pd.read_excel('../dataset/bank_data.xlsx')\n",
    "df2 = pd.read_excel('../dataset/cibil_data.xlsx')"
   ]
  },
  {
   "cell_type": "code",
   "execution_count": 3,
   "metadata": {},
   "outputs": [],
   "source": [
    "# extensive data of the customers \n",
    "df = pd.merge(df1, df2, 'inner', on='PROSPECTID')"
   ]
  },
  {
   "cell_type": "code",
   "execution_count": 4,
   "metadata": {},
   "outputs": [],
   "source": [
    "# saving dataframe with pickle, faster upload\n",
    "df.to_pickle('../artifacts/full_data.pkl')\n",
    "df.to_csv('../artifacts/full_data.csv', index=False)"
   ]
  },
  {
   "cell_type": "code",
   "execution_count": 5,
   "metadata": {},
   "outputs": [],
   "source": [
    "df = pd.read_pickle('../artifacts/full_data.pkl')\n",
    "df.shape\n",
    "\n",
    "df_full = df.copy()"
   ]
  },
  {
   "cell_type": "markdown",
   "metadata": {},
   "source": [
    "The -99999 are used for null value, and should be rectified"
   ]
  },
  {
   "cell_type": "code",
   "execution_count": 6,
   "metadata": {},
   "outputs": [],
   "source": [
    "# impute -99999 with null\n",
    "df.replace(-99999, np.nan, inplace=True)"
   ]
  },
  {
   "cell_type": "code",
   "execution_count": 7,
   "metadata": {},
   "outputs": [
    {
     "data": {
      "text/plain": [
       "Age_Oldest_TL                      40\n",
       "Age_Newest_TL                      40\n",
       "pct_currentBal_all_TL              72\n",
       "time_since_recent_payment        4291\n",
       "enq_L3m                          6321\n",
       "enq_L6m                          6321\n",
       "enq_L12m                         6321\n",
       "time_since_recent_enq            6321\n",
       "PL_enq_L12m                      6321\n",
       "PL_enq_L6m                       6321\n",
       "PL_enq                           6321\n",
       "CC_enq_L12m                      6321\n",
       "CC_enq_L6m                       6321\n",
       "CC_enq                           6321\n",
       "tot_enq                          6321\n",
       "max_deliq_12mts                 10832\n",
       "max_deliq_6mts                  12890\n",
       "max_unsec_exposure_inPct        23178\n",
       "max_delinquency_level           35949\n",
       "time_since_recent_deliquency    35949\n",
       "time_since_first_deliquency     35949\n",
       "PL_utilization                  44435\n",
       "CC_utilization                  47636\n",
       "dtype: int64"
      ]
     },
     "execution_count": 7,
     "metadata": {},
     "output_type": "execute_result"
    }
   ],
   "source": [
    "# null_col: column with null values\n",
    "null_col = df.isna().sum()[lambda x: x > 0].index\n",
    "df[null_col].isna().sum().sort_values()"
   ]
  },
  {
   "cell_type": "markdown",
   "metadata": {},
   "source": [
    "* PL_utilization and CC_utilization are only features associated with utilization of TL, and cannot be imputed with confidence.This features needs to be dropped.\n",
    "* time_since_first_deliquency, time_since_recent_deliquency, and max_delinquency_level are related to customer default/deliquency. There are many more features related to deliquency, require further analysis before making any decision.\n",
    "* max_unsec_exposure_inPct have 2 related features (Secured_TL, Unsecured_TL) which does not show any direction correlation with `maximum %(exposure to unsecured TL)`. This column cannot be immputed and should be dropped.\n",
    "* max_deliq_6mts, and max_deliq_12mts are similar to point 2, about default/deliquency. \n",
    "* Alot of features have 6321 null values (-99999). \n",
    "* `time_since_recent_payment` also need further analysis, however there is no feature to interpret these missing values."
   ]
  },
  {
   "cell_type": "code",
   "execution_count": 8,
   "metadata": {},
   "outputs": [
    {
     "data": {
      "text/plain": [
       "Index(['PROSPECTID', 'Total_TL', 'Tot_Closed_TL', 'Tot_Active_TL',\n",
       "       'Total_TL_opened_L6M', 'Tot_TL_closed_L6M', 'pct_tl_open_L6M',\n",
       "       'pct_tl_closed_L6M', 'pct_active_tl', 'pct_closed_tl',\n",
       "       'Total_TL_opened_L12M', 'Tot_TL_closed_L12M', 'pct_tl_open_L12M',\n",
       "       'pct_tl_closed_L12M', 'Tot_Missed_Pmnt', 'Auto_TL', 'CC_TL',\n",
       "       'Consumer_TL', 'Gold_TL', 'Home_TL', 'PL_TL', 'Secured_TL',\n",
       "       'Unsecured_TL', 'Other_TL', 'Age_Oldest_TL', 'Age_Newest_TL',\n",
       "       'time_since_recent_payment', 'time_since_first_deliquency',\n",
       "       'time_since_recent_deliquency', 'num_times_delinquent',\n",
       "       'max_delinquency_level', 'max_recent_level_of_deliq', 'num_deliq_6mts',\n",
       "       'num_deliq_12mts', 'num_deliq_6_12mts', 'max_deliq_6mts',\n",
       "       'max_deliq_12mts', 'num_times_30p_dpd', 'num_times_60p_dpd', 'num_std',\n",
       "       'num_std_6mts', 'num_std_12mts', 'num_sub', 'num_sub_6mts',\n",
       "       'num_sub_12mts', 'num_dbt', 'num_dbt_6mts', 'num_dbt_12mts', 'num_lss',\n",
       "       'num_lss_6mts', 'num_lss_12mts', 'recent_level_of_deliq', 'tot_enq',\n",
       "       'CC_enq', 'CC_enq_L6m', 'CC_enq_L12m', 'PL_enq', 'PL_enq_L6m',\n",
       "       'PL_enq_L12m', 'time_since_recent_enq', 'enq_L12m', 'enq_L6m',\n",
       "       'enq_L3m', 'MARITALSTATUS', 'EDUCATION', 'AGE', 'GENDER',\n",
       "       'NETMONTHLYINCOME', 'Time_With_Curr_Empr', 'pct_of_active_TLs_ever',\n",
       "       'pct_opened_TLs_L6m_of_L12m', 'pct_currentBal_all_TL', 'CC_utilization',\n",
       "       'CC_Flag', 'PL_utilization', 'PL_Flag', 'pct_PL_enq_L6m_of_L12m',\n",
       "       'pct_CC_enq_L6m_of_L12m', 'pct_PL_enq_L6m_of_ever',\n",
       "       'pct_CC_enq_L6m_of_ever', 'max_unsec_exposure_inPct', 'HL_Flag',\n",
       "       'GL_Flag', 'last_prod_enq2', 'first_prod_enq2', 'Credit_Score',\n",
       "       'Approved_Flag'],\n",
       "      dtype='object')"
      ]
     },
     "execution_count": 8,
     "metadata": {},
     "output_type": "execute_result"
    }
   ],
   "source": [
    "df.columns"
   ]
  },
  {
   "cell_type": "code",
   "execution_count": 9,
   "metadata": {},
   "outputs": [
    {
     "data": {
      "text/plain": [
       "Age_Newest_TL  Age_Oldest_TL  pct_currentBal_all_TL\n",
       "False          False          False                    51226\n",
       "                              True                        70\n",
       "True           True           False                       38\n",
       "                              True                         2\n",
       "Name: count, dtype: int64"
      ]
     },
     "execution_count": 9,
     "metadata": {},
     "output_type": "execute_result"
    }
   ],
   "source": [
    "df[['Age_Newest_TL', 'Age_Oldest_TL', 'pct_currentBal_all_TL']].isna().value_counts()"
   ]
  },
  {
   "cell_type": "markdown",
   "metadata": {},
   "source": [
    "# Handling Null Values"
   ]
  },
  {
   "cell_type": "markdown",
   "metadata": {},
   "source": [
    "### Analysis for trade line features"
   ]
  },
  {
   "cell_type": "code",
   "execution_count": 10,
   "metadata": {},
   "outputs": [
    {
     "data": {
      "text/plain": [
       "Total_TL\n",
       "1           77\n",
       "2           16\n",
       "3            5\n",
       "4            5\n",
       "6            3\n",
       "5            2\n",
       "7            1\n",
       "18           1\n",
       "Name: count, dtype: int64"
      ]
     },
     "execution_count": 10,
     "metadata": {},
     "output_type": "execute_result"
    }
   ],
   "source": [
    "df[df[['Age_Newest_TL', 'Age_Oldest_TL', 'pct_currentBal_all_TL']].isna().sum(axis=1) > 0][['Total_TL']].value_counts()"
   ]
  },
  {
   "cell_type": "code",
   "execution_count": 11,
   "metadata": {},
   "outputs": [
    {
     "data": {
      "text/plain": [
       "(51226, 84)"
      ]
     },
     "execution_count": 11,
     "metadata": {},
     "output_type": "execute_result"
    }
   ],
   "source": [
    "### Dropping customer entries with null age and balance \n",
    "df.dropna(subset=['Age_Oldest_TL', 'Age_Newest_TL', 'pct_currentBal_all_TL'], inplace=True)\n",
    "\n",
    "# dropping utilization features\n",
    "df.drop(['PL_utilization', 'CC_utilization', 'max_unsec_exposure_inPct'], axis=1, inplace=True)\n",
    "\n",
    "df.shape"
   ]
  },
  {
   "cell_type": "markdown",
   "metadata": {},
   "source": [
    "### Analysis for deliquency features"
   ]
  },
  {
   "cell_type": "code",
   "execution_count": 12,
   "metadata": {},
   "outputs": [
    {
     "data": {
      "text/plain": [
       "time_since_first_deliquency  time_since_recent_deliquency  max_delinquency_level  max_deliq_12mts  max_deliq_6mts\n",
       "True                         True                          True                   False            False             25659\n",
       "False                        False                         False                  False            False             12769\n",
       "True                         True                          True                   True             True               9064\n",
       "False                        False                         False                  True             True               1677\n",
       "True                         True                          True                   False            True               1122\n",
       "False                        False                         False                  False            True                935\n",
       "Name: count, dtype: int64"
      ]
     },
     "execution_count": 12,
     "metadata": {},
     "output_type": "execute_result"
    }
   ],
   "source": [
    "# delinquency features with more than 50% null values\n",
    "\n",
    "null_deq_col = ['time_since_first_deliquency', 'time_since_recent_deliquency', 'max_delinquency_level', 'max_deliq_12mts', 'max_deliq_6mts']\n",
    "rest_deq_col = ['num_times_delinquent', 'max_recent_level_of_deliq', 'num_deliq_6mts', 'num_deliq_12mts', 'num_deliq_6_12mts', 'recent_level_of_deliq']\n",
    "\n",
    "df[null_deq_col].isna().value_counts()"
   ]
  },
  {
   "cell_type": "code",
   "execution_count": 13,
   "metadata": {},
   "outputs": [
    {
     "data": {
      "text/plain": [
       "num_times_delinquent\n",
       "0    25659\n",
       "Name: count, dtype: int64"
      ]
     },
     "execution_count": 13,
     "metadata": {},
     "output_type": "execute_result"
    }
   ],
   "source": [
    "# check for any deq in customer history\n",
    "null_deli_series = df.num_times_delinquent[df[null_deq_col].isna().sum(axis=1) == 3]\n",
    "null_deli_series.value_counts()"
   ]
  },
  {
   "cell_type": "code",
   "execution_count": 14,
   "metadata": {},
   "outputs": [
    {
     "data": {
      "text/plain": [
       "max_delinquency_level\n",
       "True    35845\n",
       "Name: count, dtype: int64"
      ]
     },
     "execution_count": 14,
     "metadata": {},
     "output_type": "execute_result"
    }
   ],
   "source": [
    "# cross verify / double check\n",
    "\n",
    "df.max_delinquency_level[df['num_times_delinquent'] == 0].isna().value_counts()"
   ]
  },
  {
   "cell_type": "markdown",
   "metadata": {},
   "source": [
    "If a customer has no default/deliquency than their 'time_since_first_deliquency', 'time_since_recent_deliquency', 'max_delinquency_level' will be 0. Similar can be said for other deliquency related feature like max_deliq_12mts."
   ]
  },
  {
   "cell_type": "code",
   "execution_count": 15,
   "metadata": {},
   "outputs": [],
   "source": [
    "# fill null deq with 0\n",
    "df[null_deq_col] = df[null_deq_col].fillna(0)"
   ]
  },
  {
   "cell_type": "code",
   "execution_count": 16,
   "metadata": {},
   "outputs": [],
   "source": [
    "df.loc[df['num_times_delinquent'] == 0, null_deq_col] = df.loc[df['num_times_delinquent'] == 0, null_deq_col].fillna(0)"
   ]
  },
  {
   "cell_type": "code",
   "execution_count": 17,
   "metadata": {},
   "outputs": [
    {
     "data": {
      "text/plain": [
       "time_since_first_deliquency     0\n",
       "time_since_recent_deliquency    0\n",
       "max_delinquency_level           0\n",
       "max_deliq_12mts                 0\n",
       "max_deliq_6mts                  0\n",
       "dtype: int64"
      ]
     },
     "execution_count": 17,
     "metadata": {},
     "output_type": "execute_result"
    }
   ],
   "source": [
    "df[null_deq_col].isna().sum()"
   ]
  },
  {
   "cell_type": "code",
   "execution_count": 18,
   "metadata": {},
   "outputs": [
    {
     "data": {
      "text/plain": [
       "max_deliq_12mts  max_deliq_6mts\n",
       "False            False             51226\n",
       "Name: count, dtype: int64"
      ]
     },
     "execution_count": 18,
     "metadata": {},
     "output_type": "execute_result"
    }
   ],
   "source": [
    "other_null_deq = df[['max_deliq_12mts', 'max_deliq_6mts']].isna()\n",
    "other_null_deq.value_counts()"
   ]
  },
  {
   "cell_type": "code",
   "execution_count": 19,
   "metadata": {},
   "outputs": [
    {
     "data": {
      "text/plain": [
       "max_deliq_6mts  max_deliq_12mts\n",
       "False           False              51226\n",
       "Name: count, dtype: int64"
      ]
     },
     "execution_count": 19,
     "metadata": {},
     "output_type": "execute_result"
    }
   ],
   "source": [
    "# impute 0 for other null deq if num of deq is 0\n",
    "remain_null_deq_col = ['max_deliq_6mts', 'max_deliq_12mts']\n",
    "\n",
    "# remaining null deq\n",
    "df[remain_null_deq_col].isna().value_counts()"
   ]
  },
  {
   "cell_type": "code",
   "execution_count": 20,
   "metadata": {},
   "outputs": [
    {
     "data": {
      "text/plain": [
       "0    51226\n",
       "Name: count, dtype: int64"
      ]
     },
     "execution_count": 20,
     "metadata": {},
     "output_type": "execute_result"
    }
   ],
   "source": [
    "reamining_null_deq_series = df[remain_null_deq_col].isna().sum(axis=1)\n",
    "reamining_null_deq_series.value_counts()"
   ]
  },
  {
   "cell_type": "code",
   "execution_count": 21,
   "metadata": {},
   "outputs": [
    {
     "name": "stdout",
     "output_type": "stream",
     "text": [
      "Series([], Name: count, dtype: int64) \n",
      "\n",
      " Series([], Name: count, dtype: int64)\n"
     ]
    }
   ],
   "source": [
    "print(\n",
    "    df.loc[reamining_null_deq_series == 1][['num_deliq_12mts',  'num_deliq_6_12mts', 'num_deliq_6mts']].value_counts(),\n",
    "    \"\\n\\n\",\n",
    "    df.loc[reamining_null_deq_series == 2][['num_deliq_12mts',  'num_deliq_6_12mts', 'num_deliq_6mts']].value_counts()\n",
    ")"
   ]
  },
  {
   "cell_type": "code",
   "execution_count": 22,
   "metadata": {},
   "outputs": [],
   "source": [
    "# when no deliquency is last 6 months is recorded\n",
    "df.loc[reamining_null_deq_series == 1, 'max_deliq_6mts'] = df.loc[reamining_null_deq_series == 1, 'max_deliq_6mts'].fillna(0)\n",
    "\n",
    "# when no deliquency is last 12 months is recorded\n",
    "df.loc[reamining_null_deq_series == 2, ['max_deliq_6mts', 'max_deliq_12mts']] = df.loc[reamining_null_deq_series == 2, ['max_deliq_6mts', 'max_deliq_12mts']].fillna(0)"
   ]
  },
  {
   "cell_type": "markdown",
   "metadata": {},
   "source": [
    "### Analysis of enquiry features"
   ]
  },
  {
   "cell_type": "code",
   "execution_count": 23,
   "metadata": {},
   "outputs": [
    {
     "data": {
      "text/plain": [
       "time_since_recent_payment    4248\n",
       "tot_enq                      6277\n",
       "CC_enq                       6277\n",
       "CC_enq_L6m                   6277\n",
       "CC_enq_L12m                  6277\n",
       "PL_enq                       6277\n",
       "PL_enq_L6m                   6277\n",
       "PL_enq_L12m                  6277\n",
       "time_since_recent_enq        6277\n",
       "enq_L12m                     6277\n",
       "enq_L6m                      6277\n",
       "enq_L3m                      6277\n",
       "dtype: int64"
      ]
     },
     "execution_count": 23,
     "metadata": {},
     "output_type": "execute_result"
    }
   ],
   "source": [
    "null_col = df.isna().sum(axis=0)[lambda x: x>0].index\n",
    "df[null_col].isna().sum(axis=0).sort_values()"
   ]
  },
  {
   "cell_type": "code",
   "execution_count": 24,
   "metadata": {},
   "outputs": [
    {
     "data": {
      "text/plain": [
       "0     44949\n",
       "11     6277\n",
       "Name: count, dtype: int64"
      ]
     },
     "execution_count": 24,
     "metadata": {},
     "output_type": "execute_result"
    }
   ],
   "source": [
    "# null enq columns which have NAN for 6277 customers.\n",
    "null_enq_col = ['tot_enq', 'CC_enq', 'CC_enq_L6m', 'enq_L3m', 'PL_enq', 'PL_enq_L6m', 'PL_enq_L12m', 'time_since_recent_enq', 'enq_L12m', 'enq_L6m', 'CC_enq_L12m']\n",
    "remain_enq_col = ['pct_PL_enq_L6m_of_L12m', 'pct_CC_enq_L6m_of_L12m', 'pct_PL_enq_L6m_of_ever', 'pct_CC_enq_L6m_of_ever', 'last_prod_enq2', 'first_prod_enq2']\n",
    "\n",
    "df[null_enq_col].isna().sum(axis=1).value_counts()"
   ]
  },
  {
   "cell_type": "code",
   "execution_count": 25,
   "metadata": {},
   "outputs": [
    {
     "data": {
      "text/html": [
       "<div>\n",
       "<style scoped>\n",
       "    .dataframe tbody tr th:only-of-type {\n",
       "        vertical-align: middle;\n",
       "    }\n",
       "\n",
       "    .dataframe tbody tr th {\n",
       "        vertical-align: top;\n",
       "    }\n",
       "\n",
       "    .dataframe thead th {\n",
       "        text-align: right;\n",
       "    }\n",
       "</style>\n",
       "<table border=\"1\" class=\"dataframe\">\n",
       "  <thead>\n",
       "    <tr style=\"text-align: right;\">\n",
       "      <th></th>\n",
       "      <th>pct_PL_enq_L6m_of_L12m</th>\n",
       "      <th>pct_CC_enq_L6m_of_L12m</th>\n",
       "      <th>pct_PL_enq_L6m_of_ever</th>\n",
       "      <th>pct_CC_enq_L6m_of_ever</th>\n",
       "      <th>last_prod_enq2</th>\n",
       "      <th>first_prod_enq2</th>\n",
       "    </tr>\n",
       "  </thead>\n",
       "  <tbody>\n",
       "    <tr>\n",
       "      <th>3</th>\n",
       "      <td>0.0</td>\n",
       "      <td>0.0</td>\n",
       "      <td>0.0</td>\n",
       "      <td>0.0</td>\n",
       "      <td>others</td>\n",
       "      <td>others</td>\n",
       "    </tr>\n",
       "    <tr>\n",
       "      <th>6</th>\n",
       "      <td>0.0</td>\n",
       "      <td>0.0</td>\n",
       "      <td>0.0</td>\n",
       "      <td>0.0</td>\n",
       "      <td>others</td>\n",
       "      <td>others</td>\n",
       "    </tr>\n",
       "    <tr>\n",
       "      <th>9</th>\n",
       "      <td>0.0</td>\n",
       "      <td>0.0</td>\n",
       "      <td>0.0</td>\n",
       "      <td>0.0</td>\n",
       "      <td>others</td>\n",
       "      <td>others</td>\n",
       "    </tr>\n",
       "    <tr>\n",
       "      <th>11</th>\n",
       "      <td>0.0</td>\n",
       "      <td>0.0</td>\n",
       "      <td>0.0</td>\n",
       "      <td>0.0</td>\n",
       "      <td>others</td>\n",
       "      <td>others</td>\n",
       "    </tr>\n",
       "    <tr>\n",
       "      <th>17</th>\n",
       "      <td>0.0</td>\n",
       "      <td>0.0</td>\n",
       "      <td>0.0</td>\n",
       "      <td>0.0</td>\n",
       "      <td>others</td>\n",
       "      <td>others</td>\n",
       "    </tr>\n",
       "    <tr>\n",
       "      <th>...</th>\n",
       "      <td>...</td>\n",
       "      <td>...</td>\n",
       "      <td>...</td>\n",
       "      <td>...</td>\n",
       "      <td>...</td>\n",
       "      <td>...</td>\n",
       "    </tr>\n",
       "    <tr>\n",
       "      <th>51293</th>\n",
       "      <td>0.0</td>\n",
       "      <td>0.0</td>\n",
       "      <td>0.0</td>\n",
       "      <td>0.0</td>\n",
       "      <td>others</td>\n",
       "      <td>others</td>\n",
       "    </tr>\n",
       "    <tr>\n",
       "      <th>51306</th>\n",
       "      <td>0.0</td>\n",
       "      <td>0.0</td>\n",
       "      <td>0.0</td>\n",
       "      <td>0.0</td>\n",
       "      <td>others</td>\n",
       "      <td>others</td>\n",
       "    </tr>\n",
       "    <tr>\n",
       "      <th>51315</th>\n",
       "      <td>0.0</td>\n",
       "      <td>0.0</td>\n",
       "      <td>0.0</td>\n",
       "      <td>0.0</td>\n",
       "      <td>others</td>\n",
       "      <td>others</td>\n",
       "    </tr>\n",
       "    <tr>\n",
       "      <th>51319</th>\n",
       "      <td>0.0</td>\n",
       "      <td>0.0</td>\n",
       "      <td>0.0</td>\n",
       "      <td>0.0</td>\n",
       "      <td>others</td>\n",
       "      <td>others</td>\n",
       "    </tr>\n",
       "    <tr>\n",
       "      <th>51328</th>\n",
       "      <td>0.0</td>\n",
       "      <td>0.0</td>\n",
       "      <td>0.0</td>\n",
       "      <td>0.0</td>\n",
       "      <td>others</td>\n",
       "      <td>others</td>\n",
       "    </tr>\n",
       "  </tbody>\n",
       "</table>\n",
       "<p>6277 rows × 6 columns</p>\n",
       "</div>"
      ],
      "text/plain": [
       "       pct_PL_enq_L6m_of_L12m  pct_CC_enq_L6m_of_L12m  pct_PL_enq_L6m_of_ever  \\\n",
       "3                         0.0                     0.0                     0.0   \n",
       "6                         0.0                     0.0                     0.0   \n",
       "9                         0.0                     0.0                     0.0   \n",
       "11                        0.0                     0.0                     0.0   \n",
       "17                        0.0                     0.0                     0.0   \n",
       "...                       ...                     ...                     ...   \n",
       "51293                     0.0                     0.0                     0.0   \n",
       "51306                     0.0                     0.0                     0.0   \n",
       "51315                     0.0                     0.0                     0.0   \n",
       "51319                     0.0                     0.0                     0.0   \n",
       "51328                     0.0                     0.0                     0.0   \n",
       "\n",
       "       pct_CC_enq_L6m_of_ever last_prod_enq2 first_prod_enq2  \n",
       "3                         0.0         others          others  \n",
       "6                         0.0         others          others  \n",
       "9                         0.0         others          others  \n",
       "11                        0.0         others          others  \n",
       "17                        0.0         others          others  \n",
       "...                       ...            ...             ...  \n",
       "51293                     0.0         others          others  \n",
       "51306                     0.0         others          others  \n",
       "51315                     0.0         others          others  \n",
       "51319                     0.0         others          others  \n",
       "51328                     0.0         others          others  \n",
       "\n",
       "[6277 rows x 6 columns]"
      ]
     },
     "execution_count": 25,
     "metadata": {},
     "output_type": "execute_result"
    }
   ],
   "source": [
    "df[remain_enq_col].loc[df[null_enq_col].isna().sum(axis=1) == 11]"
   ]
  },
  {
   "cell_type": "markdown",
   "metadata": {},
   "source": [
    "6321 customer are about 12% of the dataset and have 11 missing entries (related to enq) per customer. These customer record needs to be removed since the remaining variable isn't suffient to impute null with confidence.\n",
    "\n",
    "Dropping customer record to save enquire data is a viable and better approach as dropping features would result in no absolute enquire related feature."
   ]
  },
  {
   "cell_type": "code",
   "execution_count": 26,
   "metadata": {},
   "outputs": [
    {
     "data": {
      "text/plain": [
       "(44949, 84)"
      ]
     },
     "execution_count": 26,
     "metadata": {},
     "output_type": "execute_result"
    }
   ],
   "source": [
    "# picked any enq feature as there's no sparsity in missing values of enq features.\n",
    "df.dropna(subset=['tot_enq'], inplace=True)\n",
    "df.shape"
   ]
  },
  {
   "cell_type": "markdown",
   "metadata": {},
   "source": [
    "### Analysing remaining features with NULL"
   ]
  },
  {
   "cell_type": "code",
   "execution_count": 27,
   "metadata": {},
   "outputs": [
    {
     "data": {
      "text/plain": [
       "time_since_recent_payment    2885\n",
       "dtype: int64"
      ]
     },
     "execution_count": 27,
     "metadata": {},
     "output_type": "execute_result"
    }
   ],
   "source": [
    "df.isna().sum(axis=0)[lambda x: x>0]"
   ]
  },
  {
   "cell_type": "code",
   "execution_count": 28,
   "metadata": {},
   "outputs": [
    {
     "data": {
      "text/plain": [
       "0"
      ]
     },
     "execution_count": 28,
     "metadata": {},
     "output_type": "execute_result"
    }
   ],
   "source": [
    "# The 'time_since_recent_payment' with null entries contributes around 5% of total remaining record and have no feature to infer the value. These entries can be dropped\n",
    "\n",
    "df = df.dropna(subset=['time_since_recent_payment'])\n",
    "\n",
    "df.isna().sum(axis=1).sum()"
   ]
  },
  {
   "cell_type": "code",
   "execution_count": 29,
   "metadata": {},
   "outputs": [
    {
     "data": {
      "text/plain": [
       "(42064, 84)"
      ]
     },
     "execution_count": 29,
     "metadata": {},
     "output_type": "execute_result"
    }
   ],
   "source": [
    "df.shape"
   ]
  },
  {
   "cell_type": "markdown",
   "metadata": {},
   "source": [
    "# Handling Associated features"
   ]
  },
  {
   "cell_type": "code",
   "execution_count": 30,
   "metadata": {},
   "outputs": [
    {
     "name": "stdout",
     "output_type": "stream",
     "text": [
      "74 numeric features show correlation with target variable (Approval_Flag)\n",
      "5 categoric features show correlation with target variable (Approval_Flag)\n"
     ]
    }
   ],
   "source": [
    "# testing feature correlation with target feature.\n",
    "numeric = df.select_dtypes(exclude='object').columns.drop(['PROSPECTID'])\n",
    "categoric = df.select_dtypes(include='object').columns.drop(['Approved_Flag'])\n",
    "\n",
    "col_keep = []\n",
    "    \n",
    "# categorical vs numeric feature using anova test\n",
    "for i in numeric:\n",
    "    x = list(df[i]) \n",
    "    y = list(df['Approved_Flag'])  \n",
    "    \n",
    "    group_P1 = [value for value, group in zip(x, y) if group == 'P1']\n",
    "    group_P2 = [value for value, group in zip(x, y) if group == 'P2']\n",
    "    group_P3 = [value for value, group in zip(x, y) if group == 'P3']\n",
    "    group_P4 = [value for value, group in zip(x, y) if group == 'P4']\n",
    "\n",
    "    f_statistic, p_value = f_oneway(group_P1, group_P2, group_P3, group_P4)\n",
    "\n",
    "    if p_value <= 0.05:\n",
    "        col_keep.append(i)\n",
    "\n",
    "num_corr = len(col_keep)\n",
    "print(num_corr, 'numeric features show correlation with target variable (Approval_Flag)')\n",
    "        \n",
    "# categorical vs categorical features using chi square test\n",
    "for i in categoric:\n",
    "    chi2, p_value, _, _ = chi2_contingency(pd.crosstab(df[i], df['Approved_Flag']))\n",
    "    \n",
    "    if p_value <= 0.05:\n",
    "        col_keep.append(i)\n",
    "        \n",
    "print(len(col_keep)-num_corr, 'categoric features show correlation with target variable (Approval_Flag)')"
   ]
  },
  {
   "cell_type": "code",
   "execution_count": 31,
   "metadata": {},
   "outputs": [
    {
     "name": "stdout",
     "output_type": "stream",
     "text": [
      "53 features shows low-moderate assocaition with other feature\n"
     ]
    }
   ],
   "source": [
    "# treating multi-collinearity (associated dependent features) using vif\n",
    "numeric_col = df.select_dtypes(exclude=object).columns.drop(['PROSPECTID'])\n",
    "keep_col = numeric_col.copy()\n",
    "drop_col = list()\n",
    "threshold = 10  # > 5 or 10 is considered highly associted\n",
    "\n",
    "for i in range(numeric_col.size):\n",
    "    array = df[keep_col].values\n",
    "    index = list(keep_col).index(numeric_col[i])\n",
    "    vif = variance_inflation_factor(array, index)\n",
    "    \n",
    "    ## print(numeric_col[i] ,'=', keep_col[index])\n",
    "    # print(i, '!=', index)\n",
    "    \n",
    "    if vif > threshold:\n",
    "        ## print('drop:', i, numeric_col[i])\n",
    "        drop = numeric_col[i]\n",
    "        drop_col.append(drop)\n",
    "        keep_col = keep_col[keep_col != drop]\n",
    "        \n",
    "# recalculate vif \n",
    "array = df[keep_col].values \n",
    "vif_values = pd.DataFrame( [(keep_col[i], variance_inflation_factor(array, i)) for i in range(keep_col.size)], \n",
    "             columns=['feature', 'vif'] )\n",
    "\n",
    "print(keep_col.size, 'features shows low-moderate assocaition with other feature')"
   ]
  },
  {
   "attachments": {
    "image.png": {
     "image/png": "[encoded data removed]"
    }
   },
   "cell_type": "markdown",
   "metadata": {},
   "source": [
    "Based on the banking trade-line domain knowledge:\n",
    "1. std (standard payment) = timely payment; may show low correlation with approval_flag (customer type - priority levels)\n",
    "2. sub (sub-standard payment) = significant days default (mostly above 90days); \n",
    "3. dbt (doubtful payment) = prolonged nonpayment (180 days); may show high correction with approval_flag\n",
    "4. tl_open/close = trade-line (loan) opened/closed; may show moderate correction with approval flag\n",
    "5. deliq_level (deliquency level) = scoring system of risk with account holder, higher score means higher risk for lending; \n",
    " may show high correlation with approval_flag\n",
    "6. pl_enq (personal loan enquire) = number of enq for personal loan as per cibil report; may show moderate correlation\n",
    "7. lss (loss account); may show high correction\n",
    "\n",
    "- 9 tl_open/closed features and 8 are in high vif; Removing highest one may improve vif of others.\n",
    "- 3 deliq_level features are present; can't remove all as it may show moderate-high correlation with target\n",
    "- 2 std feature are present; can be removed as it may not show high correlation and have high vif.\n",
    "- 2 pl_enq features and 1 is very high vif; 1 can be removed\n",
    "- 3 dbt and lss features present respectively and 2 are high vif; 2 can be removed as 1 is already present\n",
    "\n",
    "removing the last 6 high features (PL_enq, max_recent_level_of_deliq, Tot_TL_closed_L6M, num_lss_12mts, Tot_TL_closed_L12M, num_dbt_12mts) and recheck vif\n",
    "\n",
    "![image.png](attachment:image.png)"
   ]
  },
  {
   "cell_type": "code",
   "execution_count": 32,
   "metadata": {},
   "outputs": [
    {
     "name": "stdout",
     "output_type": "stream",
     "text": [
      "                       feature       vif\n",
      "1              pct_tl_open_L6M  7.193593\n",
      "22                     num_std  6.890186\n",
      "23               num_std_12mts  5.740719\n",
      "39  pct_opened_TLs_L6m_of_L12m  6.871983\n"
     ]
    }
   ],
   "source": [
    "keep_col = keep_col.drop(['PL_enq', 'max_recent_level_of_deliq', 'Tot_TL_closed_L6M', 'num_lss_12mts', 'Tot_TL_closed_L12M', 'num_dbt_12mts'])\n",
    "\n",
    "array = df[keep_col].values \n",
    "vif_values = pd.DataFrame( [(keep_col[i], variance_inflation_factor(array, i)) for i in range(keep_col.size)], \n",
    "             columns=['feature', 'vif'] )\n",
    "\n",
    "print(vif_values[vif_values['vif'] > 5])\n",
    "# these 4 can be removed"
   ]
  },
  {
   "cell_type": "code",
   "execution_count": 33,
   "metadata": {},
   "outputs": [
    {
     "name": "stdout",
     "output_type": "stream",
     "text": [
      "(42064, 50)\n"
     ]
    }
   ],
   "source": [
    "keep_col = keep_col.drop(['num_std_12mts', 'pct_opened_TLs_L6m_of_L12m', 'num_std', 'pct_tl_open_L6M']) # numeric features to keep\n",
    "cat_col = df.select_dtypes(include='object').columns.drop('Approved_Flag') # categorical columns\n",
    "all_col = keep_col.to_list() + cat_col.to_list() + ['PROSPECTID', 'Approved_Flag']\n",
    "df = df[all_col]\n",
    "print(df.shape)"
   ]
  },
  {
   "cell_type": "markdown",
   "metadata": {},
   "source": [
    "# Treating categorical features for modeling"
   ]
  },
  {
   "cell_type": "code",
   "execution_count": 34,
   "metadata": {},
   "outputs": [
    {
     "name": "stdout",
     "output_type": "stream",
     "text": [
      "MARITALSTATUS :  ['Married' 'Single']\n",
      "EDUCATION :  ['12TH' 'GRADUATE' 'SSC' 'POST-GRADUATE' 'UNDER GRADUATE' 'OTHERS'\n",
      " 'PROFESSIONAL']\n",
      "GENDER :  ['M' 'F']\n",
      "last_prod_enq2 :  ['PL' 'ConsumerLoan' 'AL' 'CC' 'others' 'HL']\n",
      "first_prod_enq2 :  ['PL' 'ConsumerLoan' 'others' 'AL' 'HL' 'CC']\n",
      "Approved_Flag :  ['P2' 'P1' 'P3' 'P4']\n"
     ]
    }
   ],
   "source": [
    "cat_col = df.select_dtypes(include='object').columns\n",
    "for col in cat_col:\n",
    "    print(col, \": \", df[col].unique())"
   ]
  },
  {
   "cell_type": "code",
   "execution_count": 35,
   "metadata": {},
   "outputs": [],
   "source": [
    "# one-hot encoding\n",
    "df = pd.get_dummies(df, columns=['MARITALSTATUS', 'GENDER', 'last_prod_enq2', 'first_prod_enq2'])\n",
    "\n",
    "#label encoding\n",
    "encode_map = {'SSC':1, 'OTHERS': 1, '12TH': 2, 'GRADUATE': 3, 'UNDER GRADUATE': 3, 'POST-GRADUATE': 4, 'PROFESSIONAL': 4}\n",
    "df['EDUCATION'] = df['EDUCATION'].map(encode_map)"
   ]
  },
  {
   "cell_type": "code",
   "execution_count": 71,
   "metadata": {},
   "outputs": [],
   "source": [
    "# saving processed data for modeling\n",
    "pickle.dump(df, open('../artifacts/processed_data.pkl', 'wb'))"
   ]
  },
  {
   "cell_type": "markdown",
   "metadata": {},
   "source": [
    "# Basic Modeling "
   ]
  },
  {
   "cell_type": "code",
   "execution_count": 36,
   "metadata": {},
   "outputs": [
    {
     "data": {
      "text/plain": [
       "Approved_Flag\n",
       "P2    25452\n",
       "P3     6440\n",
       "P4     5264\n",
       "P1     4908\n",
       "Name: count, dtype: int64"
      ]
     },
     "execution_count": 36,
     "metadata": {},
     "output_type": "execute_result"
    }
   ],
   "source": [
    "df['Approved_Flag'].value_counts()"
   ]
  },
  {
   "cell_type": "markdown",
   "metadata": {},
   "source": [
    "Given the moderate imbalance nature of the dataset, the f1-score is used as performance metrics."
   ]
  },
  {
   "cell_type": "code",
   "execution_count": 37,
   "metadata": {},
   "outputs": [],
   "source": [
    "X, y = df.drop(['Approved_Flag', 'PROSPECTID'], axis=1), df[['Approved_Flag']]\n",
    "X_train, X_test, y_train, y_test = train_test_split(X, y, \n",
    "                                                    test_size=0.2, \n",
    "                                                    random_state=42)"
   ]
  },
  {
   "cell_type": "markdown",
   "metadata": {},
   "source": [
    "### Base-line Modeling\n"
   ]
  },
  {
   "cell_type": "markdown",
   "metadata": {},
   "source": [
    "Trying DCT, SVM, and KNN"
   ]
  },
  {
   "cell_type": "code",
   "execution_count": 38,
   "metadata": {},
   "outputs": [],
   "source": [
    "def basic_model(model, X_train, X_test, y_train, y_test):\n",
    "    model.fit(X_train, y_train)\n",
    "    y_pred = model.predict(X_test)\n",
    "    accuracy = accuracy_score(y_test, y_pred)\n",
    "    print(model, \"accuracy:\", accuracy)\n",
    "\n",
    "    precision, recall, f1score, _ = precision_recall_fscore_support(y_test, y_pred)\n",
    "    for i, label in enumerate(['p1', 'p2', 'p3', 'p4']):\n",
    "        print(label, 'class:')\n",
    "        print('precision:', precision[i])\n",
    "        print('recall:', recall[i])\n",
    "        print('f1score:', f1score[i])\n",
    "    \n",
    "    return model"
   ]
  },
  {
   "cell_type": "code",
   "execution_count": 39,
   "metadata": {},
   "outputs": [
    {
     "name": "stdout",
     "output_type": "stream",
     "text": [
      "DecisionTreeClassifier(random_state=42) accuracy: 0.6802567455128967\n",
      "p1 class:\n",
      "precision: 0.627254509018036\n",
      "recall: 0.6173570019723866\n",
      "f1score: 0.6222664015904572\n",
      "p2 class:\n",
      "precision: 0.7909270216962525\n",
      "recall: 0.7948463825569871\n",
      "f1score: 0.7928818586258034\n",
      "p3 class:\n",
      "precision: 0.3150266971777269\n",
      "recall: 0.31169811320754715\n",
      "f1score: 0.3133535660091047\n",
      "p4 class:\n",
      "precision: 0.6518375241779497\n",
      "recall: 0.6550048590864918\n",
      "f1score: 0.6534173533688803\n"
     ]
    }
   ],
   "source": [
    "dt = DecisionTreeClassifier(random_state=42)\n",
    "dt = basic_model(dt, X_train, X_test, y_train, y_test)"
   ]
  },
  {
   "cell_type": "code",
   "execution_count": 40,
   "metadata": {},
   "outputs": [
    {
     "name": "stdout",
     "output_type": "stream",
     "text": [
      "SVC(random_state=42) accuracy: 0.7613217639367645\n",
      "p1 class:\n",
      "precision: 0.8142681426814268\n",
      "recall: 0.6528599605522682\n",
      "f1score: 0.7246852764094143\n",
      "p2 class:\n",
      "precision: 0.785513011768606\n",
      "recall: 0.9393458870168484\n",
      "f1score: 0.8555695974002528\n",
      "p3 class:\n",
      "precision: 0.46016260162601624\n",
      "recall: 0.21358490566037736\n",
      "f1score: 0.2917525773195876\n",
      "p4 class:\n",
      "precision: 0.7573529411764706\n",
      "recall: 0.7006802721088435\n",
      "f1score: 0.7279151943462897\n"
     ]
    }
   ],
   "source": [
    "scaler = StandardScaler()\n",
    "X_train_std = scaler.fit_transform(X_train)\n",
    "X_test_std = scaler.fit_transform(X_test)\n",
    "svc = basic_model(SVC(random_state=42), X_train_std, X_test_std, y_train, y_test)"
   ]
  },
  {
   "cell_type": "code",
   "execution_count": 41,
   "metadata": {},
   "outputs": [
    {
     "name": "stdout",
     "output_type": "stream",
     "text": [
      "KNeighborsClassifier() accuracy: 0.6744324260073695\n",
      "p1 class:\n",
      "precision: 0.6400523560209425\n",
      "recall: 0.4822485207100592\n",
      "f1score: 0.5500562429696289\n",
      "p2 class:\n",
      "precision: 0.7155583837098314\n",
      "recall: 0.891575817641229\n",
      "f1score: 0.7939281616803461\n",
      "p3 class:\n",
      "precision: 0.34926958831341304\n",
      "recall: 0.19849056603773585\n",
      "f1score: 0.2531280076997113\n",
      "p4 class:\n",
      "precision: 0.6950819672131148\n",
      "recall: 0.41205053449951407\n",
      "f1score: 0.5173886516168396\n"
     ]
    }
   ],
   "source": [
    "knn = KNeighborsClassifier(n_neighbors=5)\n",
    "knn = basic_model(knn, X_train_std, X_test_std, y_train, y_test)"
   ]
  },
  {
   "cell_type": "code",
   "execution_count": 42,
   "metadata": {},
   "outputs": [
    {
     "name": "stdout",
     "output_type": "stream",
     "text": [
      "RandomForestClassifier(random_state=42) accuracy: 0.7558540354213716\n",
      "p1 class:\n",
      "precision: 0.8197596795727636\n",
      "recall: 0.6055226824457594\n",
      "f1score: 0.6965399886557005\n",
      "p2 class:\n",
      "precision: 0.7858575727181545\n",
      "recall: 0.9318136769078296\n",
      "f1score: 0.8526344427314774\n",
      "p3 class:\n",
      "precision: 0.45166402535657685\n",
      "recall: 0.21509433962264152\n",
      "f1score: 0.29141104294478526\n",
      "p4 class:\n",
      "precision: 0.7221693625118935\n",
      "recall: 0.7376093294460642\n",
      "f1score: 0.7298076923076924\n"
     ]
    }
   ],
   "source": [
    "rf = basic_model(RandomForestClassifier(random_state=42), X_train, X_test, y_train, y_test)"
   ]
  },
  {
   "cell_type": "markdown",
   "metadata": {},
   "source": [
    "SVC perform best out of all, followed by the ensemble technique on DCT i.e., rf., followed by DCT and lastly KNN. However, the time consumed by SVC is around 3 minutes, which restrict parameter tunning (gridsearch).\n",
    "\n",
    "Note: The p3 class is not getting captured by any of the model."
   ]
  },
  {
   "cell_type": "markdown",
   "metadata": {},
   "source": [
    "#### Error analysis for p3 class"
   ]
  },
  {
   "cell_type": "code",
   "execution_count": 43,
   "metadata": {},
   "outputs": [
    {
     "name": "stdout",
     "output_type": "stream",
     "text": [
      "SVC(class_weight={'P1': 1, 'P2': 1, 'P3': 5, 'P4': 1}) accuracy: 0.6966599310590752\n",
      "p1 class:\n",
      "precision: 0.811042944785276\n",
      "recall: 0.6518737672583826\n",
      "f1score: 0.7227993439037727\n",
      "p2 class:\n",
      "precision: 0.8593967517401392\n",
      "recall: 0.7341922695738354\n",
      "f1score: 0.7918760021378941\n",
      "p3 class:\n",
      "precision: 0.3706243233489715\n",
      "recall: 0.7750943396226415\n",
      "f1score: 0.50146484375\n",
      "p4 class:\n",
      "precision: 0.90715667311412\n",
      "recall: 0.4557823129251701\n",
      "f1score: 0.6067270375161709\n"
     ]
    }
   ],
   "source": [
    "# Assign higher weight to P3\n",
    "test_model = SVC(class_weight={'P3': 5, 'P1': 1, 'P2': 1, 'P4': 1})\n",
    "test_model = basic_model(test_model, X_train_std, X_test_std, y_train, y_test)"
   ]
  },
  {
   "cell_type": "code",
   "execution_count": 44,
   "metadata": {},
   "outputs": [
    {
     "data": {
      "image/png": "[encoded data removed]",
      "text/plain": [
       "<Figure size 640x480 with 2 Axes>"
      ]
     },
     "metadata": {
      "image/png": {
       "height": 454,
       "width": 548
      }
     },
     "output_type": "display_data"
    }
   ],
   "source": [
    "y_pred = svc.predict(X_test_std)  # Predictions of the model\n",
    "cm = confusion_matrix(y_test, y_pred)  # True labels vs Predicted labels\n",
    "\n",
    "sns.heatmap(cm, annot=True, fmt=\"d\", cmap=\"Blues\", xticklabels=['P1', 'P2', 'P3', 'P4'], yticklabels=['P1', 'P2', 'P3', 'P4'])\n",
    "plt.xlabel('Predicted')\n",
    "plt.ylabel('True')\n",
    "plt.title('Confusion Matrix')\n",
    "plt.show()"
   ]
  },
  {
   "cell_type": "code",
   "execution_count": 45,
   "metadata": {},
   "outputs": [
    {
     "data": {
      "image/png": "[encoded data removed]",
      "text/plain": [
       "<Figure size 640x480 with 2 Axes>"
      ]
     },
     "metadata": {
      "image/png": {
       "height": 454,
       "width": 548
      }
     },
     "output_type": "display_data"
    }
   ],
   "source": [
    "y_pred = dt.predict(X_test)  # Predictions of the model\n",
    "cm = confusion_matrix(y_test, y_pred)  # True labels vs Predicted labels\n",
    "\n",
    "sns.heatmap(cm, annot=True, fmt=\"d\", cmap=\"Blues\", xticklabels=['P1', 'P2', 'P3', 'P4'], yticklabels=['P1', 'P2', 'P3', 'P4'])\n",
    "plt.xlabel('Predicted')\n",
    "plt.ylabel('True')\n",
    "plt.title('Confusion Matrix')\n",
    "plt.show()"
   ]
  },
  {
   "cell_type": "markdown",
   "metadata": {},
   "source": [
    "actual P3 is getting predicted as P2 and P4. Input data corresponding to P3 also doesn't show any pattern or correspondence with false prediction."
   ]
  },
  {
   "cell_type": "code",
   "execution_count": 46,
   "metadata": {},
   "outputs": [
    {
     "data": {
      "text/html": [
       "<div>\n",
       "<style scoped>\n",
       "    .dataframe tbody tr th:only-of-type {\n",
       "        vertical-align: middle;\n",
       "    }\n",
       "\n",
       "    .dataframe tbody tr th {\n",
       "        vertical-align: top;\n",
       "    }\n",
       "\n",
       "    .dataframe thead th {\n",
       "        text-align: right;\n",
       "    }\n",
       "</style>\n",
       "<table border=\"1\" class=\"dataframe\">\n",
       "  <thead>\n",
       "    <tr style=\"text-align: right;\">\n",
       "      <th></th>\n",
       "      <th>Total_TL_opened_L6M</th>\n",
       "      <th>pct_tl_closed_L6M</th>\n",
       "      <th>pct_tl_open_L12M</th>\n",
       "      <th>pct_tl_closed_L12M</th>\n",
       "      <th>Tot_Missed_Pmnt</th>\n",
       "      <th>CC_TL</th>\n",
       "      <th>Home_TL</th>\n",
       "      <th>PL_TL</th>\n",
       "      <th>Secured_TL</th>\n",
       "      <th>Unsecured_TL</th>\n",
       "      <th>Other_TL</th>\n",
       "      <th>Age_Oldest_TL</th>\n",
       "      <th>Age_Newest_TL</th>\n",
       "      <th>time_since_recent_payment</th>\n",
       "      <th>time_since_recent_deliquency</th>\n",
       "      <th>num_times_delinquent</th>\n",
       "      <th>max_delinquency_level</th>\n",
       "      <th>num_deliq_6_12mts</th>\n",
       "      <th>max_deliq_6mts</th>\n",
       "      <th>max_deliq_12mts</th>\n",
       "      <th>num_times_60p_dpd</th>\n",
       "      <th>num_sub</th>\n",
       "      <th>num_sub_6mts</th>\n",
       "      <th>num_sub_12mts</th>\n",
       "      <th>num_dbt</th>\n",
       "      <th>num_dbt_6mts</th>\n",
       "      <th>num_lss</th>\n",
       "      <th>num_lss_6mts</th>\n",
       "      <th>recent_level_of_deliq</th>\n",
       "      <th>CC_enq</th>\n",
       "      <th>CC_enq_L6m</th>\n",
       "      <th>PL_enq_L12m</th>\n",
       "      <th>time_since_recent_enq</th>\n",
       "      <th>enq_L3m</th>\n",
       "      <th>NETMONTHLYINCOME</th>\n",
       "      <th>Time_With_Curr_Empr</th>\n",
       "      <th>pct_currentBal_all_TL</th>\n",
       "      <th>CC_Flag</th>\n",
       "      <th>PL_Flag</th>\n",
       "      <th>pct_PL_enq_L6m_of_ever</th>\n",
       "      <th>pct_CC_enq_L6m_of_ever</th>\n",
       "      <th>HL_Flag</th>\n",
       "      <th>GL_Flag</th>\n",
       "      <th>EDUCATION</th>\n",
       "      <th>MARITALSTATUS_Married</th>\n",
       "      <th>MARITALSTATUS_Single</th>\n",
       "      <th>GENDER_F</th>\n",
       "      <th>GENDER_M</th>\n",
       "      <th>last_prod_enq2_AL</th>\n",
       "      <th>last_prod_enq2_CC</th>\n",
       "      <th>last_prod_enq2_ConsumerLoan</th>\n",
       "      <th>last_prod_enq2_HL</th>\n",
       "      <th>last_prod_enq2_PL</th>\n",
       "      <th>last_prod_enq2_others</th>\n",
       "      <th>first_prod_enq2_AL</th>\n",
       "      <th>first_prod_enq2_CC</th>\n",
       "      <th>first_prod_enq2_ConsumerLoan</th>\n",
       "      <th>first_prod_enq2_HL</th>\n",
       "      <th>first_prod_enq2_PL</th>\n",
       "      <th>first_prod_enq2_others</th>\n",
       "    </tr>\n",
       "  </thead>\n",
       "  <tbody>\n",
       "    <tr>\n",
       "      <th>4227</th>\n",
       "      <td>0</td>\n",
       "      <td>0.0</td>\n",
       "      <td>0.000</td>\n",
       "      <td>0.000</td>\n",
       "      <td>0</td>\n",
       "      <td>0</td>\n",
       "      <td>0</td>\n",
       "      <td>0</td>\n",
       "      <td>1</td>\n",
       "      <td>0</td>\n",
       "      <td>0</td>\n",
       "      <td>50.0</td>\n",
       "      <td>50.0</td>\n",
       "      <td>533.0</td>\n",
       "      <td>0.0</td>\n",
       "      <td>0</td>\n",
       "      <td>0.0</td>\n",
       "      <td>0</td>\n",
       "      <td>0.0</td>\n",
       "      <td>0.0</td>\n",
       "      <td>0</td>\n",
       "      <td>0</td>\n",
       "      <td>0</td>\n",
       "      <td>0</td>\n",
       "      <td>0</td>\n",
       "      <td>0</td>\n",
       "      <td>0</td>\n",
       "      <td>0</td>\n",
       "      <td>0</td>\n",
       "      <td>0.0</td>\n",
       "      <td>0.0</td>\n",
       "      <td>0.0</td>\n",
       "      <td>1507.0</td>\n",
       "      <td>0.0</td>\n",
       "      <td>18000</td>\n",
       "      <td>65</td>\n",
       "      <td>0.000</td>\n",
       "      <td>0</td>\n",
       "      <td>0</td>\n",
       "      <td>0.0</td>\n",
       "      <td>0.0</td>\n",
       "      <td>0</td>\n",
       "      <td>0</td>\n",
       "      <td>3</td>\n",
       "      <td>False</td>\n",
       "      <td>True</td>\n",
       "      <td>False</td>\n",
       "      <td>True</td>\n",
       "      <td>False</td>\n",
       "      <td>False</td>\n",
       "      <td>False</td>\n",
       "      <td>False</td>\n",
       "      <td>False</td>\n",
       "      <td>True</td>\n",
       "      <td>False</td>\n",
       "      <td>False</td>\n",
       "      <td>False</td>\n",
       "      <td>False</td>\n",
       "      <td>False</td>\n",
       "      <td>True</td>\n",
       "    </tr>\n",
       "    <tr>\n",
       "      <th>4758</th>\n",
       "      <td>0</td>\n",
       "      <td>0.8</td>\n",
       "      <td>0.400</td>\n",
       "      <td>0.800</td>\n",
       "      <td>0</td>\n",
       "      <td>0</td>\n",
       "      <td>0</td>\n",
       "      <td>0</td>\n",
       "      <td>1</td>\n",
       "      <td>4</td>\n",
       "      <td>0</td>\n",
       "      <td>38.0</td>\n",
       "      <td>8.0</td>\n",
       "      <td>62.0</td>\n",
       "      <td>10.0</td>\n",
       "      <td>4</td>\n",
       "      <td>67.0</td>\n",
       "      <td>2</td>\n",
       "      <td>0.0</td>\n",
       "      <td>8.0</td>\n",
       "      <td>1</td>\n",
       "      <td>0</td>\n",
       "      <td>0</td>\n",
       "      <td>0</td>\n",
       "      <td>0</td>\n",
       "      <td>0</td>\n",
       "      <td>0</td>\n",
       "      <td>0</td>\n",
       "      <td>5</td>\n",
       "      <td>0.0</td>\n",
       "      <td>0.0</td>\n",
       "      <td>0.0</td>\n",
       "      <td>9.0</td>\n",
       "      <td>3.0</td>\n",
       "      <td>30000</td>\n",
       "      <td>66</td>\n",
       "      <td>0.000</td>\n",
       "      <td>0</td>\n",
       "      <td>0</td>\n",
       "      <td>0.0</td>\n",
       "      <td>0.0</td>\n",
       "      <td>0</td>\n",
       "      <td>0</td>\n",
       "      <td>3</td>\n",
       "      <td>True</td>\n",
       "      <td>False</td>\n",
       "      <td>True</td>\n",
       "      <td>False</td>\n",
       "      <td>False</td>\n",
       "      <td>False</td>\n",
       "      <td>True</td>\n",
       "      <td>False</td>\n",
       "      <td>False</td>\n",
       "      <td>False</td>\n",
       "      <td>False</td>\n",
       "      <td>False</td>\n",
       "      <td>False</td>\n",
       "      <td>False</td>\n",
       "      <td>False</td>\n",
       "      <td>True</td>\n",
       "    </tr>\n",
       "    <tr>\n",
       "      <th>1212</th>\n",
       "      <td>0</td>\n",
       "      <td>0.0</td>\n",
       "      <td>0.000</td>\n",
       "      <td>0.000</td>\n",
       "      <td>1</td>\n",
       "      <td>0</td>\n",
       "      <td>0</td>\n",
       "      <td>0</td>\n",
       "      <td>0</td>\n",
       "      <td>4</td>\n",
       "      <td>2</td>\n",
       "      <td>16.0</td>\n",
       "      <td>14.0</td>\n",
       "      <td>91.0</td>\n",
       "      <td>12.0</td>\n",
       "      <td>2</td>\n",
       "      <td>58.0</td>\n",
       "      <td>0</td>\n",
       "      <td>0.0</td>\n",
       "      <td>0.0</td>\n",
       "      <td>0</td>\n",
       "      <td>0</td>\n",
       "      <td>0</td>\n",
       "      <td>0</td>\n",
       "      <td>0</td>\n",
       "      <td>0</td>\n",
       "      <td>0</td>\n",
       "      <td>0</td>\n",
       "      <td>27</td>\n",
       "      <td>0.0</td>\n",
       "      <td>0.0</td>\n",
       "      <td>0.0</td>\n",
       "      <td>88.0</td>\n",
       "      <td>1.0</td>\n",
       "      <td>35000</td>\n",
       "      <td>86</td>\n",
       "      <td>0.010</td>\n",
       "      <td>0</td>\n",
       "      <td>0</td>\n",
       "      <td>0.0</td>\n",
       "      <td>0.0</td>\n",
       "      <td>0</td>\n",
       "      <td>0</td>\n",
       "      <td>2</td>\n",
       "      <td>False</td>\n",
       "      <td>True</td>\n",
       "      <td>False</td>\n",
       "      <td>True</td>\n",
       "      <td>False</td>\n",
       "      <td>False</td>\n",
       "      <td>False</td>\n",
       "      <td>True</td>\n",
       "      <td>False</td>\n",
       "      <td>False</td>\n",
       "      <td>False</td>\n",
       "      <td>False</td>\n",
       "      <td>False</td>\n",
       "      <td>False</td>\n",
       "      <td>False</td>\n",
       "      <td>True</td>\n",
       "    </tr>\n",
       "    <tr>\n",
       "      <th>3648</th>\n",
       "      <td>0</td>\n",
       "      <td>0.0</td>\n",
       "      <td>0.000</td>\n",
       "      <td>0.000</td>\n",
       "      <td>0</td>\n",
       "      <td>1</td>\n",
       "      <td>0</td>\n",
       "      <td>0</td>\n",
       "      <td>0</td>\n",
       "      <td>1</td>\n",
       "      <td>0</td>\n",
       "      <td>24.0</td>\n",
       "      <td>24.0</td>\n",
       "      <td>87.0</td>\n",
       "      <td>0.0</td>\n",
       "      <td>0</td>\n",
       "      <td>0.0</td>\n",
       "      <td>0</td>\n",
       "      <td>0.0</td>\n",
       "      <td>0.0</td>\n",
       "      <td>0</td>\n",
       "      <td>0</td>\n",
       "      <td>0</td>\n",
       "      <td>0</td>\n",
       "      <td>0</td>\n",
       "      <td>0</td>\n",
       "      <td>0</td>\n",
       "      <td>0</td>\n",
       "      <td>0</td>\n",
       "      <td>2.0</td>\n",
       "      <td>1.0</td>\n",
       "      <td>0.0</td>\n",
       "      <td>90.0</td>\n",
       "      <td>1.0</td>\n",
       "      <td>25000</td>\n",
       "      <td>80</td>\n",
       "      <td>0.650</td>\n",
       "      <td>1</td>\n",
       "      <td>0</td>\n",
       "      <td>0.0</td>\n",
       "      <td>0.5</td>\n",
       "      <td>0</td>\n",
       "      <td>0</td>\n",
       "      <td>2</td>\n",
       "      <td>True</td>\n",
       "      <td>False</td>\n",
       "      <td>True</td>\n",
       "      <td>False</td>\n",
       "      <td>False</td>\n",
       "      <td>True</td>\n",
       "      <td>False</td>\n",
       "      <td>False</td>\n",
       "      <td>False</td>\n",
       "      <td>False</td>\n",
       "      <td>False</td>\n",
       "      <td>True</td>\n",
       "      <td>False</td>\n",
       "      <td>False</td>\n",
       "      <td>False</td>\n",
       "      <td>False</td>\n",
       "    </tr>\n",
       "    <tr>\n",
       "      <th>7092</th>\n",
       "      <td>0</td>\n",
       "      <td>0.0</td>\n",
       "      <td>0.000</td>\n",
       "      <td>0.000</td>\n",
       "      <td>0</td>\n",
       "      <td>0</td>\n",
       "      <td>0</td>\n",
       "      <td>0</td>\n",
       "      <td>1</td>\n",
       "      <td>0</td>\n",
       "      <td>0</td>\n",
       "      <td>24.0</td>\n",
       "      <td>24.0</td>\n",
       "      <td>215.0</td>\n",
       "      <td>0.0</td>\n",
       "      <td>0</td>\n",
       "      <td>0.0</td>\n",
       "      <td>0</td>\n",
       "      <td>0.0</td>\n",
       "      <td>0.0</td>\n",
       "      <td>0</td>\n",
       "      <td>0</td>\n",
       "      <td>0</td>\n",
       "      <td>0</td>\n",
       "      <td>0</td>\n",
       "      <td>0</td>\n",
       "      <td>0</td>\n",
       "      <td>0</td>\n",
       "      <td>0</td>\n",
       "      <td>0.0</td>\n",
       "      <td>0.0</td>\n",
       "      <td>0.0</td>\n",
       "      <td>2.0</td>\n",
       "      <td>1.0</td>\n",
       "      <td>35000</td>\n",
       "      <td>131</td>\n",
       "      <td>0.000</td>\n",
       "      <td>0</td>\n",
       "      <td>0</td>\n",
       "      <td>0.0</td>\n",
       "      <td>0.0</td>\n",
       "      <td>0</td>\n",
       "      <td>0</td>\n",
       "      <td>3</td>\n",
       "      <td>True</td>\n",
       "      <td>False</td>\n",
       "      <td>False</td>\n",
       "      <td>True</td>\n",
       "      <td>False</td>\n",
       "      <td>False</td>\n",
       "      <td>True</td>\n",
       "      <td>False</td>\n",
       "      <td>False</td>\n",
       "      <td>False</td>\n",
       "      <td>False</td>\n",
       "      <td>False</td>\n",
       "      <td>False</td>\n",
       "      <td>False</td>\n",
       "      <td>False</td>\n",
       "      <td>True</td>\n",
       "    </tr>\n",
       "    <tr>\n",
       "      <th>...</th>\n",
       "      <td>...</td>\n",
       "      <td>...</td>\n",
       "      <td>...</td>\n",
       "      <td>...</td>\n",
       "      <td>...</td>\n",
       "      <td>...</td>\n",
       "      <td>...</td>\n",
       "      <td>...</td>\n",
       "      <td>...</td>\n",
       "      <td>...</td>\n",
       "      <td>...</td>\n",
       "      <td>...</td>\n",
       "      <td>...</td>\n",
       "      <td>...</td>\n",
       "      <td>...</td>\n",
       "      <td>...</td>\n",
       "      <td>...</td>\n",
       "      <td>...</td>\n",
       "      <td>...</td>\n",
       "      <td>...</td>\n",
       "      <td>...</td>\n",
       "      <td>...</td>\n",
       "      <td>...</td>\n",
       "      <td>...</td>\n",
       "      <td>...</td>\n",
       "      <td>...</td>\n",
       "      <td>...</td>\n",
       "      <td>...</td>\n",
       "      <td>...</td>\n",
       "      <td>...</td>\n",
       "      <td>...</td>\n",
       "      <td>...</td>\n",
       "      <td>...</td>\n",
       "      <td>...</td>\n",
       "      <td>...</td>\n",
       "      <td>...</td>\n",
       "      <td>...</td>\n",
       "      <td>...</td>\n",
       "      <td>...</td>\n",
       "      <td>...</td>\n",
       "      <td>...</td>\n",
       "      <td>...</td>\n",
       "      <td>...</td>\n",
       "      <td>...</td>\n",
       "      <td>...</td>\n",
       "      <td>...</td>\n",
       "      <td>...</td>\n",
       "      <td>...</td>\n",
       "      <td>...</td>\n",
       "      <td>...</td>\n",
       "      <td>...</td>\n",
       "      <td>...</td>\n",
       "      <td>...</td>\n",
       "      <td>...</td>\n",
       "      <td>...</td>\n",
       "      <td>...</td>\n",
       "      <td>...</td>\n",
       "      <td>...</td>\n",
       "      <td>...</td>\n",
       "      <td>...</td>\n",
       "    </tr>\n",
       "    <tr>\n",
       "      <th>7489</th>\n",
       "      <td>0</td>\n",
       "      <td>0.0</td>\n",
       "      <td>0.000</td>\n",
       "      <td>0.500</td>\n",
       "      <td>0</td>\n",
       "      <td>0</td>\n",
       "      <td>0</td>\n",
       "      <td>0</td>\n",
       "      <td>1</td>\n",
       "      <td>1</td>\n",
       "      <td>1</td>\n",
       "      <td>89.0</td>\n",
       "      <td>82.0</td>\n",
       "      <td>343.0</td>\n",
       "      <td>19.0</td>\n",
       "      <td>7</td>\n",
       "      <td>900.0</td>\n",
       "      <td>0</td>\n",
       "      <td>0.0</td>\n",
       "      <td>0.0</td>\n",
       "      <td>6</td>\n",
       "      <td>2</td>\n",
       "      <td>0</td>\n",
       "      <td>0</td>\n",
       "      <td>0</td>\n",
       "      <td>0</td>\n",
       "      <td>0</td>\n",
       "      <td>0</td>\n",
       "      <td>29</td>\n",
       "      <td>0.0</td>\n",
       "      <td>0.0</td>\n",
       "      <td>0.0</td>\n",
       "      <td>14.0</td>\n",
       "      <td>1.0</td>\n",
       "      <td>45000</td>\n",
       "      <td>147</td>\n",
       "      <td>0.000</td>\n",
       "      <td>0</td>\n",
       "      <td>0</td>\n",
       "      <td>0.0</td>\n",
       "      <td>0.0</td>\n",
       "      <td>0</td>\n",
       "      <td>0</td>\n",
       "      <td>1</td>\n",
       "      <td>False</td>\n",
       "      <td>True</td>\n",
       "      <td>False</td>\n",
       "      <td>True</td>\n",
       "      <td>False</td>\n",
       "      <td>False</td>\n",
       "      <td>True</td>\n",
       "      <td>False</td>\n",
       "      <td>False</td>\n",
       "      <td>False</td>\n",
       "      <td>False</td>\n",
       "      <td>False</td>\n",
       "      <td>False</td>\n",
       "      <td>False</td>\n",
       "      <td>False</td>\n",
       "      <td>True</td>\n",
       "    </tr>\n",
       "    <tr>\n",
       "      <th>5214</th>\n",
       "      <td>1</td>\n",
       "      <td>0.0</td>\n",
       "      <td>0.044</td>\n",
       "      <td>0.000</td>\n",
       "      <td>2</td>\n",
       "      <td>0</td>\n",
       "      <td>0</td>\n",
       "      <td>0</td>\n",
       "      <td>66</td>\n",
       "      <td>2</td>\n",
       "      <td>4</td>\n",
       "      <td>47.0</td>\n",
       "      <td>3.0</td>\n",
       "      <td>92.0</td>\n",
       "      <td>18.0</td>\n",
       "      <td>25</td>\n",
       "      <td>104.0</td>\n",
       "      <td>0</td>\n",
       "      <td>0.0</td>\n",
       "      <td>0.0</td>\n",
       "      <td>7</td>\n",
       "      <td>0</td>\n",
       "      <td>0</td>\n",
       "      <td>0</td>\n",
       "      <td>0</td>\n",
       "      <td>0</td>\n",
       "      <td>0</td>\n",
       "      <td>0</td>\n",
       "      <td>52</td>\n",
       "      <td>0.0</td>\n",
       "      <td>0.0</td>\n",
       "      <td>2.0</td>\n",
       "      <td>55.0</td>\n",
       "      <td>3.0</td>\n",
       "      <td>40000</td>\n",
       "      <td>96</td>\n",
       "      <td>0.388</td>\n",
       "      <td>0</td>\n",
       "      <td>0</td>\n",
       "      <td>1.0</td>\n",
       "      <td>0.0</td>\n",
       "      <td>1</td>\n",
       "      <td>0</td>\n",
       "      <td>3</td>\n",
       "      <td>False</td>\n",
       "      <td>True</td>\n",
       "      <td>False</td>\n",
       "      <td>True</td>\n",
       "      <td>False</td>\n",
       "      <td>False</td>\n",
       "      <td>False</td>\n",
       "      <td>False</td>\n",
       "      <td>False</td>\n",
       "      <td>True</td>\n",
       "      <td>False</td>\n",
       "      <td>False</td>\n",
       "      <td>False</td>\n",
       "      <td>False</td>\n",
       "      <td>False</td>\n",
       "      <td>True</td>\n",
       "    </tr>\n",
       "    <tr>\n",
       "      <th>8265</th>\n",
       "      <td>0</td>\n",
       "      <td>0.0</td>\n",
       "      <td>0.000</td>\n",
       "      <td>0.333</td>\n",
       "      <td>0</td>\n",
       "      <td>0</td>\n",
       "      <td>0</td>\n",
       "      <td>0</td>\n",
       "      <td>0</td>\n",
       "      <td>3</td>\n",
       "      <td>0</td>\n",
       "      <td>28.0</td>\n",
       "      <td>17.0</td>\n",
       "      <td>330.0</td>\n",
       "      <td>0.0</td>\n",
       "      <td>0</td>\n",
       "      <td>0.0</td>\n",
       "      <td>0</td>\n",
       "      <td>0.0</td>\n",
       "      <td>0.0</td>\n",
       "      <td>0</td>\n",
       "      <td>0</td>\n",
       "      <td>0</td>\n",
       "      <td>0</td>\n",
       "      <td>0</td>\n",
       "      <td>0</td>\n",
       "      <td>0</td>\n",
       "      <td>0</td>\n",
       "      <td>0</td>\n",
       "      <td>0.0</td>\n",
       "      <td>0.0</td>\n",
       "      <td>1.0</td>\n",
       "      <td>27.0</td>\n",
       "      <td>2.0</td>\n",
       "      <td>18500</td>\n",
       "      <td>6</td>\n",
       "      <td>0.000</td>\n",
       "      <td>0</td>\n",
       "      <td>0</td>\n",
       "      <td>1.0</td>\n",
       "      <td>0.0</td>\n",
       "      <td>0</td>\n",
       "      <td>0</td>\n",
       "      <td>3</td>\n",
       "      <td>False</td>\n",
       "      <td>True</td>\n",
       "      <td>False</td>\n",
       "      <td>True</td>\n",
       "      <td>False</td>\n",
       "      <td>False</td>\n",
       "      <td>False</td>\n",
       "      <td>False</td>\n",
       "      <td>False</td>\n",
       "      <td>True</td>\n",
       "      <td>False</td>\n",
       "      <td>False</td>\n",
       "      <td>True</td>\n",
       "      <td>False</td>\n",
       "      <td>False</td>\n",
       "      <td>False</td>\n",
       "    </tr>\n",
       "    <tr>\n",
       "      <th>1719</th>\n",
       "      <td>1</td>\n",
       "      <td>0.0</td>\n",
       "      <td>0.250</td>\n",
       "      <td>0.000</td>\n",
       "      <td>1</td>\n",
       "      <td>0</td>\n",
       "      <td>0</td>\n",
       "      <td>0</td>\n",
       "      <td>4</td>\n",
       "      <td>0</td>\n",
       "      <td>0</td>\n",
       "      <td>47.0</td>\n",
       "      <td>4.0</td>\n",
       "      <td>50.0</td>\n",
       "      <td>6.0</td>\n",
       "      <td>8</td>\n",
       "      <td>30.0</td>\n",
       "      <td>6</td>\n",
       "      <td>0.0</td>\n",
       "      <td>30.0</td>\n",
       "      <td>0</td>\n",
       "      <td>0</td>\n",
       "      <td>0</td>\n",
       "      <td>0</td>\n",
       "      <td>0</td>\n",
       "      <td>0</td>\n",
       "      <td>0</td>\n",
       "      <td>0</td>\n",
       "      <td>30</td>\n",
       "      <td>0.0</td>\n",
       "      <td>0.0</td>\n",
       "      <td>0.0</td>\n",
       "      <td>3.0</td>\n",
       "      <td>1.0</td>\n",
       "      <td>50000</td>\n",
       "      <td>122</td>\n",
       "      <td>0.923</td>\n",
       "      <td>0</td>\n",
       "      <td>0</td>\n",
       "      <td>0.0</td>\n",
       "      <td>0.0</td>\n",
       "      <td>1</td>\n",
       "      <td>0</td>\n",
       "      <td>3</td>\n",
       "      <td>True</td>\n",
       "      <td>False</td>\n",
       "      <td>False</td>\n",
       "      <td>True</td>\n",
       "      <td>False</td>\n",
       "      <td>False</td>\n",
       "      <td>True</td>\n",
       "      <td>False</td>\n",
       "      <td>False</td>\n",
       "      <td>False</td>\n",
       "      <td>False</td>\n",
       "      <td>False</td>\n",
       "      <td>False</td>\n",
       "      <td>False</td>\n",
       "      <td>False</td>\n",
       "      <td>True</td>\n",
       "    </tr>\n",
       "    <tr>\n",
       "      <th>1377</th>\n",
       "      <td>1</td>\n",
       "      <td>0.0</td>\n",
       "      <td>1.000</td>\n",
       "      <td>0.000</td>\n",
       "      <td>0</td>\n",
       "      <td>0</td>\n",
       "      <td>0</td>\n",
       "      <td>0</td>\n",
       "      <td>1</td>\n",
       "      <td>0</td>\n",
       "      <td>1</td>\n",
       "      <td>5.0</td>\n",
       "      <td>5.0</td>\n",
       "      <td>78.0</td>\n",
       "      <td>0.0</td>\n",
       "      <td>0</td>\n",
       "      <td>0.0</td>\n",
       "      <td>0</td>\n",
       "      <td>0.0</td>\n",
       "      <td>0.0</td>\n",
       "      <td>0</td>\n",
       "      <td>0</td>\n",
       "      <td>0</td>\n",
       "      <td>0</td>\n",
       "      <td>0</td>\n",
       "      <td>0</td>\n",
       "      <td>0</td>\n",
       "      <td>0</td>\n",
       "      <td>0</td>\n",
       "      <td>0.0</td>\n",
       "      <td>0.0</td>\n",
       "      <td>1.0</td>\n",
       "      <td>131.0</td>\n",
       "      <td>0.0</td>\n",
       "      <td>12800</td>\n",
       "      <td>63</td>\n",
       "      <td>0.989</td>\n",
       "      <td>0</td>\n",
       "      <td>0</td>\n",
       "      <td>1.0</td>\n",
       "      <td>0.0</td>\n",
       "      <td>0</td>\n",
       "      <td>0</td>\n",
       "      <td>3</td>\n",
       "      <td>False</td>\n",
       "      <td>True</td>\n",
       "      <td>False</td>\n",
       "      <td>True</td>\n",
       "      <td>False</td>\n",
       "      <td>False</td>\n",
       "      <td>False</td>\n",
       "      <td>False</td>\n",
       "      <td>True</td>\n",
       "      <td>False</td>\n",
       "      <td>False</td>\n",
       "      <td>False</td>\n",
       "      <td>False</td>\n",
       "      <td>False</td>\n",
       "      <td>False</td>\n",
       "      <td>True</td>\n",
       "    </tr>\n",
       "  </tbody>\n",
       "</table>\n",
       "<p>181 rows × 60 columns</p>\n",
       "</div>"
      ],
      "text/plain": [
       "      Total_TL_opened_L6M  pct_tl_closed_L6M  pct_tl_open_L12M  \\\n",
       "4227                    0                0.0             0.000   \n",
       "4758                    0                0.8             0.400   \n",
       "1212                    0                0.0             0.000   \n",
       "3648                    0                0.0             0.000   \n",
       "7092                    0                0.0             0.000   \n",
       "...                   ...                ...               ...   \n",
       "7489                    0                0.0             0.000   \n",
       "5214                    1                0.0             0.044   \n",
       "8265                    0                0.0             0.000   \n",
       "1719                    1                0.0             0.250   \n",
       "1377                    1                0.0             1.000   \n",
       "\n",
       "      pct_tl_closed_L12M  Tot_Missed_Pmnt  CC_TL  Home_TL  PL_TL  Secured_TL  \\\n",
       "4227               0.000                0      0        0      0           1   \n",
       "4758               0.800                0      0        0      0           1   \n",
       "1212               0.000                1      0        0      0           0   \n",
       "3648               0.000                0      1        0      0           0   \n",
       "7092               0.000                0      0        0      0           1   \n",
       "...                  ...              ...    ...      ...    ...         ...   \n",
       "7489               0.500                0      0        0      0           1   \n",
       "5214               0.000                2      0        0      0          66   \n",
       "8265               0.333                0      0        0      0           0   \n",
       "1719               0.000                1      0        0      0           4   \n",
       "1377               0.000                0      0        0      0           1   \n",
       "\n",
       "      Unsecured_TL  Other_TL  Age_Oldest_TL  Age_Newest_TL  \\\n",
       "4227             0         0           50.0           50.0   \n",
       "4758             4         0           38.0            8.0   \n",
       "1212             4         2           16.0           14.0   \n",
       "3648             1         0           24.0           24.0   \n",
       "7092             0         0           24.0           24.0   \n",
       "...            ...       ...            ...            ...   \n",
       "7489             1         1           89.0           82.0   \n",
       "5214             2         4           47.0            3.0   \n",
       "8265             3         0           28.0           17.0   \n",
       "1719             0         0           47.0            4.0   \n",
       "1377             0         1            5.0            5.0   \n",
       "\n",
       "      time_since_recent_payment  time_since_recent_deliquency  \\\n",
       "4227                      533.0                           0.0   \n",
       "4758                       62.0                          10.0   \n",
       "1212                       91.0                          12.0   \n",
       "3648                       87.0                           0.0   \n",
       "7092                      215.0                           0.0   \n",
       "...                         ...                           ...   \n",
       "7489                      343.0                          19.0   \n",
       "5214                       92.0                          18.0   \n",
       "8265                      330.0                           0.0   \n",
       "1719                       50.0                           6.0   \n",
       "1377                       78.0                           0.0   \n",
       "\n",
       "      num_times_delinquent  max_delinquency_level  num_deliq_6_12mts  \\\n",
       "4227                     0                    0.0                  0   \n",
       "4758                     4                   67.0                  2   \n",
       "1212                     2                   58.0                  0   \n",
       "3648                     0                    0.0                  0   \n",
       "7092                     0                    0.0                  0   \n",
       "...                    ...                    ...                ...   \n",
       "7489                     7                  900.0                  0   \n",
       "5214                    25                  104.0                  0   \n",
       "8265                     0                    0.0                  0   \n",
       "1719                     8                   30.0                  6   \n",
       "1377                     0                    0.0                  0   \n",
       "\n",
       "      max_deliq_6mts  max_deliq_12mts  num_times_60p_dpd  num_sub  \\\n",
       "4227             0.0              0.0                  0        0   \n",
       "4758             0.0              8.0                  1        0   \n",
       "1212             0.0              0.0                  0        0   \n",
       "3648             0.0              0.0                  0        0   \n",
       "7092             0.0              0.0                  0        0   \n",
       "...              ...              ...                ...      ...   \n",
       "7489             0.0              0.0                  6        2   \n",
       "5214             0.0              0.0                  7        0   \n",
       "8265             0.0              0.0                  0        0   \n",
       "1719             0.0             30.0                  0        0   \n",
       "1377             0.0              0.0                  0        0   \n",
       "\n",
       "      num_sub_6mts  num_sub_12mts  num_dbt  num_dbt_6mts  num_lss  \\\n",
       "4227             0              0        0             0        0   \n",
       "4758             0              0        0             0        0   \n",
       "1212             0              0        0             0        0   \n",
       "3648             0              0        0             0        0   \n",
       "7092             0              0        0             0        0   \n",
       "...            ...            ...      ...           ...      ...   \n",
       "7489             0              0        0             0        0   \n",
       "5214             0              0        0             0        0   \n",
       "8265             0              0        0             0        0   \n",
       "1719             0              0        0             0        0   \n",
       "1377             0              0        0             0        0   \n",
       "\n",
       "      num_lss_6mts  recent_level_of_deliq  CC_enq  CC_enq_L6m  PL_enq_L12m  \\\n",
       "4227             0                      0     0.0         0.0          0.0   \n",
       "4758             0                      5     0.0         0.0          0.0   \n",
       "1212             0                     27     0.0         0.0          0.0   \n",
       "3648             0                      0     2.0         1.0          0.0   \n",
       "7092             0                      0     0.0         0.0          0.0   \n",
       "...            ...                    ...     ...         ...          ...   \n",
       "7489             0                     29     0.0         0.0          0.0   \n",
       "5214             0                     52     0.0         0.0          2.0   \n",
       "8265             0                      0     0.0         0.0          1.0   \n",
       "1719             0                     30     0.0         0.0          0.0   \n",
       "1377             0                      0     0.0         0.0          1.0   \n",
       "\n",
       "      time_since_recent_enq  enq_L3m  NETMONTHLYINCOME  Time_With_Curr_Empr  \\\n",
       "4227                 1507.0      0.0             18000                   65   \n",
       "4758                    9.0      3.0             30000                   66   \n",
       "1212                   88.0      1.0             35000                   86   \n",
       "3648                   90.0      1.0             25000                   80   \n",
       "7092                    2.0      1.0             35000                  131   \n",
       "...                     ...      ...               ...                  ...   \n",
       "7489                   14.0      1.0             45000                  147   \n",
       "5214                   55.0      3.0             40000                   96   \n",
       "8265                   27.0      2.0             18500                    6   \n",
       "1719                    3.0      1.0             50000                  122   \n",
       "1377                  131.0      0.0             12800                   63   \n",
       "\n",
       "      pct_currentBal_all_TL  CC_Flag  PL_Flag  pct_PL_enq_L6m_of_ever  \\\n",
       "4227                  0.000        0        0                     0.0   \n",
       "4758                  0.000        0        0                     0.0   \n",
       "1212                  0.010        0        0                     0.0   \n",
       "3648                  0.650        1        0                     0.0   \n",
       "7092                  0.000        0        0                     0.0   \n",
       "...                     ...      ...      ...                     ...   \n",
       "7489                  0.000        0        0                     0.0   \n",
       "5214                  0.388        0        0                     1.0   \n",
       "8265                  0.000        0        0                     1.0   \n",
       "1719                  0.923        0        0                     0.0   \n",
       "1377                  0.989        0        0                     1.0   \n",
       "\n",
       "      pct_CC_enq_L6m_of_ever  HL_Flag  GL_Flag  EDUCATION  \\\n",
       "4227                     0.0        0        0          3   \n",
       "4758                     0.0        0        0          3   \n",
       "1212                     0.0        0        0          2   \n",
       "3648                     0.5        0        0          2   \n",
       "7092                     0.0        0        0          3   \n",
       "...                      ...      ...      ...        ...   \n",
       "7489                     0.0        0        0          1   \n",
       "5214                     0.0        1        0          3   \n",
       "8265                     0.0        0        0          3   \n",
       "1719                     0.0        1        0          3   \n",
       "1377                     0.0        0        0          3   \n",
       "\n",
       "      MARITALSTATUS_Married  MARITALSTATUS_Single  GENDER_F  GENDER_M  \\\n",
       "4227                  False                  True     False      True   \n",
       "4758                   True                 False      True     False   \n",
       "1212                  False                  True     False      True   \n",
       "3648                   True                 False      True     False   \n",
       "7092                   True                 False     False      True   \n",
       "...                     ...                   ...       ...       ...   \n",
       "7489                  False                  True     False      True   \n",
       "5214                  False                  True     False      True   \n",
       "8265                  False                  True     False      True   \n",
       "1719                   True                 False     False      True   \n",
       "1377                  False                  True     False      True   \n",
       "\n",
       "      last_prod_enq2_AL  last_prod_enq2_CC  last_prod_enq2_ConsumerLoan  \\\n",
       "4227              False              False                        False   \n",
       "4758              False              False                         True   \n",
       "1212              False              False                        False   \n",
       "3648              False               True                        False   \n",
       "7092              False              False                         True   \n",
       "...                 ...                ...                          ...   \n",
       "7489              False              False                         True   \n",
       "5214              False              False                        False   \n",
       "8265              False              False                        False   \n",
       "1719              False              False                         True   \n",
       "1377              False              False                        False   \n",
       "\n",
       "      last_prod_enq2_HL  last_prod_enq2_PL  last_prod_enq2_others  \\\n",
       "4227              False              False                   True   \n",
       "4758              False              False                  False   \n",
       "1212               True              False                  False   \n",
       "3648              False              False                  False   \n",
       "7092              False              False                  False   \n",
       "...                 ...                ...                    ...   \n",
       "7489              False              False                  False   \n",
       "5214              False              False                   True   \n",
       "8265              False              False                   True   \n",
       "1719              False              False                  False   \n",
       "1377              False               True                  False   \n",
       "\n",
       "      first_prod_enq2_AL  first_prod_enq2_CC  first_prod_enq2_ConsumerLoan  \\\n",
       "4227               False               False                         False   \n",
       "4758               False               False                         False   \n",
       "1212               False               False                         False   \n",
       "3648               False                True                         False   \n",
       "7092               False               False                         False   \n",
       "...                  ...                 ...                           ...   \n",
       "7489               False               False                         False   \n",
       "5214               False               False                         False   \n",
       "8265               False               False                          True   \n",
       "1719               False               False                         False   \n",
       "1377               False               False                         False   \n",
       "\n",
       "      first_prod_enq2_HL  first_prod_enq2_PL  first_prod_enq2_others  \n",
       "4227               False               False                    True  \n",
       "4758               False               False                    True  \n",
       "1212               False               False                    True  \n",
       "3648               False               False                   False  \n",
       "7092               False               False                    True  \n",
       "...                  ...                 ...                     ...  \n",
       "7489               False               False                    True  \n",
       "5214               False               False                    True  \n",
       "8265               False               False                   False  \n",
       "1719               False               False                    True  \n",
       "1377               False               False                    True  \n",
       "\n",
       "[181 rows x 60 columns]"
      ]
     },
     "execution_count": 46,
     "metadata": {},
     "output_type": "execute_result"
    }
   ],
   "source": [
    "X_test[(pd.Series(y_pred) != 'P3') & (y_test['Approved_Flag'] == 'P3')]"
   ]
  },
  {
   "cell_type": "code",
   "execution_count": 47,
   "metadata": {},
   "outputs": [
    {
     "data": {
      "text/plain": [
       "{'bootstrap': True,\n",
       " 'ccp_alpha': 0.0,\n",
       " 'class_weight': None,\n",
       " 'criterion': 'gini',\n",
       " 'max_depth': None,\n",
       " 'max_features': 'sqrt',\n",
       " 'max_leaf_nodes': None,\n",
       " 'max_samples': None,\n",
       " 'min_impurity_decrease': 0.0,\n",
       " 'min_samples_leaf': 1,\n",
       " 'min_samples_split': 2,\n",
       " 'min_weight_fraction_leaf': 0.0,\n",
       " 'n_estimators': 100,\n",
       " 'n_jobs': None,\n",
       " 'oob_score': False,\n",
       " 'random_state': 42,\n",
       " 'verbose': 0,\n",
       " 'warm_start': False}"
      ]
     },
     "execution_count": 47,
     "metadata": {},
     "output_type": "execute_result"
    }
   ],
   "source": [
    "rf.get_params()"
   ]
  },
  {
   "cell_type": "code",
   "execution_count": 101,
   "metadata": {},
   "outputs": [
    {
     "name": "stdout",
     "output_type": "stream",
     "text": [
      "RandomForestClassifier(min_samples_split=10, n_estimators=200) accuracy: 0.7550219897777249\n",
      "p1 class:\n",
      "precision: 0.815114709851552\n",
      "recall: 0.5956607495069034\n",
      "f1score: 0.6883190883190884\n",
      "p2 class:\n",
      "precision: 0.7835994677312043\n",
      "recall: 0.9337958374628345\n",
      "f1score: 0.8521298724789725\n",
      "p3 class:\n",
      "precision: 0.4446280991735537\n",
      "recall: 0.2030188679245283\n",
      "f1score: 0.2787564766839378\n",
      "p4 class:\n",
      "precision: 0.7279620853080568\n",
      "recall: 0.7463556851311953\n",
      "f1score: 0.7370441458733206\n"
     ]
    }
   ],
   "source": [
    "best_rf = RandomForestClassifier(max_depth= None, min_samples_leaf= 1, min_samples_split= 10, n_estimators= 200)\n",
    "best_rf = basic_model(best_rf, X_train, X_test, y_train, y_test)"
   ]
  },
  {
   "cell_type": "code",
   "execution_count": 49,
   "metadata": {},
   "outputs": [
    {
     "name": "stdout",
     "output_type": "stream",
     "text": [
      "XGBClassifier(base_score=None, booster=None, callbacks=None,\n",
      "              colsample_bylevel=None, colsample_bynode=None,\n",
      "              colsample_bytree=None, device=None, early_stopping_rounds=None,\n",
      "              enable_categorical=False, eval_metric=None, feature_types=None,\n",
      "              gamma=None, grow_policy=None, importance_type=None,\n",
      "              interaction_constraints=None, learning_rate=None, max_bin=None,\n",
      "              max_cat_threshold=None, max_cat_to_onehot=None,\n",
      "              max_delta_step=None, max_depth=None, max_leaves=None,\n",
      "              min_child_weight=None, missing=nan, monotone_constraints=None,\n",
      "              multi_strategy=None, n_estimators=None, n_jobs=None,\n",
      "              num_parallel_tree=None, objective='multi:softprob', ...) accuracy: 0.7680969927493165\n",
      "p1 class:\n",
      "precision: 0.8036951501154734\n",
      "recall: 0.6863905325443787\n",
      "f1score: 0.7404255319148936\n",
      "p2 class:\n",
      "precision: 0.8158081705150977\n",
      "recall: 0.910406342913776\n",
      "f1score: 0.8605152224824355\n",
      "p3 class:\n",
      "precision: 0.45464982778415614\n",
      "recall: 0.2988679245283019\n",
      "f1score: 0.36065573770491804\n",
      "p4 class:\n",
      "precision: 0.7428298279158699\n",
      "recall: 0.7551020408163265\n",
      "f1score: 0.7489156626506025\n"
     ]
    }
   ],
   "source": [
    "label_encoder = LabelEncoder()\n",
    "y_train_encoded = label_encoder.fit_transform(y_train)\n",
    "y_test_encoded = label_encoder.transform(y_test)\n",
    "\n",
    "xgb = XGBClassifier()\n",
    "xgb = basic_model(xgb, X_train, X_test, y_train_encoded, y_test_encoded)"
   ]
  },
  {
   "cell_type": "markdown",
   "metadata": {},
   "source": [
    "XGB is performing better than SVC while being computationally less expensive. fine-tuning XGB."
   ]
  },
  {
   "cell_type": "markdown",
   "metadata": {},
   "source": [
    "### fine-tuning"
   ]
  },
  {
   "cell_type": "code",
   "execution_count": 68,
   "metadata": {},
   "outputs": [
    {
     "name": "stdout",
     "output_type": "stream",
     "text": [
      "Fitting 5 folds for each of 180 candidates, totalling 900 fits\n",
      "Best Parameters: {'colsample_bytree': 0.8, 'learning_rate': 0.2, 'max_depth': 3, 'n_estimators': 300, 'subsample': 0.8}\n",
      "Best Score: 0.7578588138900019\n"
     ]
    }
   ],
   "source": [
    "param_grid = {\n",
    "    'n_estimators': [None, 50, 100, 150, 300],          # Number of trees\n",
    "    'learning_rate': [0.01, 0.1, 0.2],      # Learning rate\n",
    "    'max_depth': [3, 5, 7],                 # Maximum tree depth\n",
    "    'subsample': [0.8, 1.0],                # Subsample ratio of the training data\n",
    "    'colsample_bytree': [0.8, 1.0],         # Subsample ratio of columns\n",
    "}\n",
    "\n",
    "grid_search_xgb = GridSearchCV(estimator=XGBClassifier(random_state=42), \n",
    "                               param_grid=param_grid, cv=5, n_jobs=-1, verbose=2, scoring='f1_weighted')\n",
    "\n",
    "grid_search_xgb.fit(X_train, y_train_encoded)\n",
    "\n",
    "print(\"Best Parameters:\", grid_search_xgb.best_params_)\n",
    "print(\"Best Score:\", grid_search_xgb.best_score_)"
   ]
  },
  {
   "cell_type": "code",
   "execution_count": 70,
   "metadata": {},
   "outputs": [
    {
     "data": {
      "text/plain": [
       "'enq_L3m'"
      ]
     },
     "execution_count": 70,
     "metadata": {},
     "output_type": "execute_result"
    }
   ],
   "source": [
    "importance = grid_search_xgb.best_estimator_.feature_importances_\n",
    "features = X_train.columns\n",
    "\n",
    "features[np.argmax(importance)]"
   ]
  },
  {
   "cell_type": "code",
   "execution_count": 61,
   "metadata": {},
   "outputs": [
    {
     "data": {
      "text/plain": [
       "[('enq_L3m', 0.20030604),\n",
       " ('Age_Oldest_TL', 0.08955781),\n",
       " ('time_since_recent_deliquency', 0.07213204),\n",
       " ('pct_PL_enq_L6m_of_ever', 0.06308141),\n",
       " ('time_since_recent_enq', 0.032297265),\n",
       " ('max_deliq_12mts', 0.027259974),\n",
       " ('Secured_TL', 0.020953357),\n",
       " ('Age_Newest_TL', 0.01967959),\n",
       " ('max_delinquency_level', 0.01805858),\n",
       " ('pct_currentBal_all_TL', 0.01703543),\n",
       " ('HL_Flag', 0.016653322),\n",
       " ('Other_TL', 0.01605532),\n",
       " ('recent_level_of_deliq', 0.014783797),\n",
       " ('first_prod_enq2_PL', 0.014379232),\n",
       " ('Home_TL', 0.014359768),\n",
       " ('Tot_Missed_Pmnt', 0.014257642),\n",
       " ('pct_tl_open_L12M', 0.012395156),\n",
       " ('PL_TL', 0.012289203),\n",
       " ('time_since_recent_payment', 0.011188581),\n",
       " ('num_times_delinquent', 0.011145572),\n",
       " ('pct_tl_closed_L12M', 0.0111354785),\n",
       " ('first_prod_enq2_ConsumerLoan', 0.010958741),\n",
       " ('last_prod_enq2_others', 0.010774135),\n",
       " ('last_prod_enq2_CC', 0.01070203),\n",
       " ('num_times_60p_dpd', 0.0106605105),\n",
       " ('first_prod_enq2_CC', 0.010632253),\n",
       " ('CC_TL', 0.010495204),\n",
       " ('Total_TL_opened_L6M', 0.010473017),\n",
       " ('MARITALSTATUS_Married', 0.010448051),\n",
       " ('max_deliq_6mts', 0.010070242),\n",
       " ('pct_tl_closed_L6M', 0.01003852),\n",
       " ('last_prod_enq2_HL', 0.009966764),\n",
       " ('GENDER_F', 0.009921587),\n",
       " ('Time_With_Curr_Empr', 0.009883729),\n",
       " ('Unsecured_TL', 0.009871176),\n",
       " ('CC_enq', 0.009864018),\n",
       " ('num_deliq_6_12mts', 0.009754851),\n",
       " ('PL_enq_L12m', 0.009399713),\n",
       " ('last_prod_enq2_ConsumerLoan', 0.009394664),\n",
       " ('NETMONTHLYINCOME', 0.00907956),\n",
       " ('last_prod_enq2_PL', 0.009069057),\n",
       " ('first_prod_enq2_others', 0.00895921),\n",
       " ('EDUCATION', 0.008942536),\n",
       " ('last_prod_enq2_AL', 0.008836815),\n",
       " ('first_prod_enq2_HL', 0.0086837495),\n",
       " ('num_lss', 0.008620495),\n",
       " ('first_prod_enq2_AL', 0.008563458),\n",
       " ('pct_CC_enq_L6m_of_ever', 0.008495876),\n",
       " ('CC_enq_L6m', 0.008439676),\n",
       " ('num_sub', 0.0073810187),\n",
       " ('num_sub_12mts', 0.004464064),\n",
       " ('num_dbt', 0.0040976335),\n",
       " ('num_sub_6mts', 0.0040531135),\n",
       " ('num_dbt_6mts', 0.0),\n",
       " ('num_lss_6mts', 0.0),\n",
       " ('CC_Flag', 0.0),\n",
       " ('PL_Flag', 0.0),\n",
       " ('GL_Flag', 0.0),\n",
       " ('MARITALSTATUS_Single', 0.0),\n",
       " ('GENDER_M', 0.0)]"
      ]
     },
     "execution_count": 61,
     "metadata": {},
     "output_type": "execute_result"
    }
   ],
   "source": [
    "features_with_importance = sorted(\n",
    "    zip(features, importance),\n",
    "    key=lambda x: x[1],\n",
    "    reverse=True\n",
    ")\n",
    "\n",
    "features_with_importance"
   ]
  },
  {
   "cell_type": "code",
   "execution_count": null,
   "metadata": {},
   "outputs": [],
   "source": [
    "# saving the best model\n",
    "pickle.dump(grid_search_xgb.best_estimator_, open('../artifacts/xgb_best_v1.pkl', 'wb'))"
   ]
  },
  {
   "cell_type": "code",
   "execution_count": null,
   "metadata": {},
   "outputs": [
    {
     "name": "stdout",
     "output_type": "stream",
     "text": [
      "Fitting 5 folds for each of 81 candidates, totalling 405 fits\n"
     ]
    }
   ],
   "source": [
    "param_grid = {\n",
    "    'n_estimators': [100, 200, 300],\n",
    "    'max_depth': [None, 5, 10],\n",
    "    'min_samples_split': [2, 5, 10],\n",
    "    'min_samples_leaf': [1, 2, 4]\n",
    "}\n",
    "\n",
    "rf = RandomForestClassifier(random_state=42)\n",
    "grid_search_rf = GridSearchCV(estimator=rf, param_grid=param_grid, cv=5, n_jobs=-1, verbose=2)\n",
    "grid_search_rf.fit(X_train, y_train)\n",
    "\n",
    "print(\"Best Parameters:\", grid_search_rf.best_params_)\n",
    "print(\"Best Score:\", grid_search_rf.best_score_)"
   ]
  },
  {
   "cell_type": "code",
   "execution_count": 97,
   "metadata": {},
   "outputs": [
    {
     "data": {
      "text/plain": [
       "{'C': 1.0,\n",
       " 'break_ties': False,\n",
       " 'cache_size': 200,\n",
       " 'class_weight': None,\n",
       " 'coef0': 0.0,\n",
       " 'decision_function_shape': 'ovr',\n",
       " 'degree': 3,\n",
       " 'gamma': 'scale',\n",
       " 'kernel': 'rbf',\n",
       " 'max_iter': -1,\n",
       " 'probability': False,\n",
       " 'random_state': 42,\n",
       " 'shrinking': True,\n",
       " 'tol': 0.001,\n",
       " 'verbose': False}"
      ]
     },
     "execution_count": 97,
     "metadata": {},
     "output_type": "execute_result"
    }
   ],
   "source": [
    "svc.get_params()"
   ]
  },
  {
   "cell_type": "code",
   "execution_count": 98,
   "metadata": {},
   "outputs": [
    {
     "name": "stdout",
     "output_type": "stream",
     "text": [
      "Fitting 5 folds for each of 60 candidates, totalling 300 fits\n"
     ]
    },
    {
     "ename": "KeyboardInterrupt",
     "evalue": "",
     "output_type": "error",
     "traceback": [
      "\u001b[1;31m---------------------------------------------------------------------------\u001b[0m",
      "\u001b[1;31mKeyboardInterrupt\u001b[0m                         Traceback (most recent call last)",
      "Cell \u001b[1;32mIn[98], line 10\u001b[0m\n\u001b[0;32m      8\u001b[0m svc \u001b[38;5;241m=\u001b[39m SVC(random_state\u001b[38;5;241m=\u001b[39m\u001b[38;5;241m42\u001b[39m)\n\u001b[0;32m      9\u001b[0m grid_search \u001b[38;5;241m=\u001b[39m GridSearchCV(estimator\u001b[38;5;241m=\u001b[39msvc, param_grid\u001b[38;5;241m=\u001b[39mparam_grid, cv\u001b[38;5;241m=\u001b[39m\u001b[38;5;241m5\u001b[39m, n_jobs\u001b[38;5;241m=\u001b[39m\u001b[38;5;241m-\u001b[39m\u001b[38;5;241m1\u001b[39m, verbose\u001b[38;5;241m=\u001b[39m\u001b[38;5;241m1\u001b[39m)\n\u001b[1;32m---> 10\u001b[0m \u001b[43mgrid_search\u001b[49m\u001b[38;5;241;43m.\u001b[39;49m\u001b[43mfit\u001b[49m\u001b[43m(\u001b[49m\u001b[43mX_train_std\u001b[49m\u001b[43m,\u001b[49m\u001b[43m \u001b[49m\u001b[43my_train\u001b[49m\u001b[43m)\u001b[49m\n\u001b[0;32m     12\u001b[0m \u001b[38;5;66;03m# Best parameters and score\u001b[39;00m\n\u001b[0;32m     13\u001b[0m \u001b[38;5;28mprint\u001b[39m(\u001b[38;5;124m\"\u001b[39m\u001b[38;5;124mBest Parameters:\u001b[39m\u001b[38;5;124m\"\u001b[39m, grid_search\u001b[38;5;241m.\u001b[39mbest_params_)\n",
      "File \u001b[1;32mz:\\Google\\Anaconda\\lib\\site-packages\\sklearn\\base.py:1151\u001b[0m, in \u001b[0;36m_fit_context.<locals>.decorator.<locals>.wrapper\u001b[1;34m(estimator, *args, **kwargs)\u001b[0m\n\u001b[0;32m   1144\u001b[0m     estimator\u001b[38;5;241m.\u001b[39m_validate_params()\n\u001b[0;32m   1146\u001b[0m \u001b[38;5;28;01mwith\u001b[39;00m config_context(\n\u001b[0;32m   1147\u001b[0m     skip_parameter_validation\u001b[38;5;241m=\u001b[39m(\n\u001b[0;32m   1148\u001b[0m         prefer_skip_nested_validation \u001b[38;5;129;01mor\u001b[39;00m global_skip_validation\n\u001b[0;32m   1149\u001b[0m     )\n\u001b[0;32m   1150\u001b[0m ):\n\u001b[1;32m-> 1151\u001b[0m     \u001b[38;5;28;01mreturn\u001b[39;00m \u001b[43mfit_method\u001b[49m\u001b[43m(\u001b[49m\u001b[43mestimator\u001b[49m\u001b[43m,\u001b[49m\u001b[43m \u001b[49m\u001b[38;5;241;43m*\u001b[39;49m\u001b[43margs\u001b[49m\u001b[43m,\u001b[49m\u001b[43m \u001b[49m\u001b[38;5;241;43m*\u001b[39;49m\u001b[38;5;241;43m*\u001b[39;49m\u001b[43mkwargs\u001b[49m\u001b[43m)\u001b[49m\n",
      "File \u001b[1;32mz:\\Google\\Anaconda\\lib\\site-packages\\sklearn\\model_selection\\_search.py:898\u001b[0m, in \u001b[0;36mBaseSearchCV.fit\u001b[1;34m(self, X, y, groups, **fit_params)\u001b[0m\n\u001b[0;32m    892\u001b[0m     results \u001b[38;5;241m=\u001b[39m \u001b[38;5;28mself\u001b[39m\u001b[38;5;241m.\u001b[39m_format_results(\n\u001b[0;32m    893\u001b[0m         all_candidate_params, n_splits, all_out, all_more_results\n\u001b[0;32m    894\u001b[0m     )\n\u001b[0;32m    896\u001b[0m     \u001b[38;5;28;01mreturn\u001b[39;00m results\n\u001b[1;32m--> 898\u001b[0m \u001b[38;5;28;43mself\u001b[39;49m\u001b[38;5;241;43m.\u001b[39;49m\u001b[43m_run_search\u001b[49m\u001b[43m(\u001b[49m\u001b[43mevaluate_candidates\u001b[49m\u001b[43m)\u001b[49m\n\u001b[0;32m    900\u001b[0m \u001b[38;5;66;03m# multimetric is determined here because in the case of a callable\u001b[39;00m\n\u001b[0;32m    901\u001b[0m \u001b[38;5;66;03m# self.scoring the return type is only known after calling\u001b[39;00m\n\u001b[0;32m    902\u001b[0m first_test_score \u001b[38;5;241m=\u001b[39m all_out[\u001b[38;5;241m0\u001b[39m][\u001b[38;5;124m\"\u001b[39m\u001b[38;5;124mtest_scores\u001b[39m\u001b[38;5;124m\"\u001b[39m]\n",
      "File \u001b[1;32mz:\\Google\\Anaconda\\lib\\site-packages\\sklearn\\model_selection\\_search.py:1419\u001b[0m, in \u001b[0;36mGridSearchCV._run_search\u001b[1;34m(self, evaluate_candidates)\u001b[0m\n\u001b[0;32m   1417\u001b[0m \u001b[38;5;28;01mdef\u001b[39;00m \u001b[38;5;21m_run_search\u001b[39m(\u001b[38;5;28mself\u001b[39m, evaluate_candidates):\n\u001b[0;32m   1418\u001b[0m \u001b[38;5;250m    \u001b[39m\u001b[38;5;124;03m\"\"\"Search all candidates in param_grid\"\"\"\u001b[39;00m\n\u001b[1;32m-> 1419\u001b[0m     \u001b[43mevaluate_candidates\u001b[49m\u001b[43m(\u001b[49m\u001b[43mParameterGrid\u001b[49m\u001b[43m(\u001b[49m\u001b[38;5;28;43mself\u001b[39;49m\u001b[38;5;241;43m.\u001b[39;49m\u001b[43mparam_grid\u001b[49m\u001b[43m)\u001b[49m\u001b[43m)\u001b[49m\n",
      "File \u001b[1;32mz:\\Google\\Anaconda\\lib\\site-packages\\sklearn\\model_selection\\_search.py:845\u001b[0m, in \u001b[0;36mBaseSearchCV.fit.<locals>.evaluate_candidates\u001b[1;34m(candidate_params, cv, more_results)\u001b[0m\n\u001b[0;32m    837\u001b[0m \u001b[38;5;28;01mif\u001b[39;00m \u001b[38;5;28mself\u001b[39m\u001b[38;5;241m.\u001b[39mverbose \u001b[38;5;241m>\u001b[39m \u001b[38;5;241m0\u001b[39m:\n\u001b[0;32m    838\u001b[0m     \u001b[38;5;28mprint\u001b[39m(\n\u001b[0;32m    839\u001b[0m         \u001b[38;5;124m\"\u001b[39m\u001b[38;5;124mFitting \u001b[39m\u001b[38;5;132;01m{0}\u001b[39;00m\u001b[38;5;124m folds for each of \u001b[39m\u001b[38;5;132;01m{1}\u001b[39;00m\u001b[38;5;124m candidates,\u001b[39m\u001b[38;5;124m\"\u001b[39m\n\u001b[0;32m    840\u001b[0m         \u001b[38;5;124m\"\u001b[39m\u001b[38;5;124m totalling \u001b[39m\u001b[38;5;132;01m{2}\u001b[39;00m\u001b[38;5;124m fits\u001b[39m\u001b[38;5;124m\"\u001b[39m\u001b[38;5;241m.\u001b[39mformat(\n\u001b[0;32m    841\u001b[0m             n_splits, n_candidates, n_candidates \u001b[38;5;241m*\u001b[39m n_splits\n\u001b[0;32m    842\u001b[0m         )\n\u001b[0;32m    843\u001b[0m     )\n\u001b[1;32m--> 845\u001b[0m out \u001b[38;5;241m=\u001b[39m \u001b[43mparallel\u001b[49m\u001b[43m(\u001b[49m\n\u001b[0;32m    846\u001b[0m \u001b[43m    \u001b[49m\u001b[43mdelayed\u001b[49m\u001b[43m(\u001b[49m\u001b[43m_fit_and_score\u001b[49m\u001b[43m)\u001b[49m\u001b[43m(\u001b[49m\n\u001b[0;32m    847\u001b[0m \u001b[43m        \u001b[49m\u001b[43mclone\u001b[49m\u001b[43m(\u001b[49m\u001b[43mbase_estimator\u001b[49m\u001b[43m)\u001b[49m\u001b[43m,\u001b[49m\n\u001b[0;32m    848\u001b[0m \u001b[43m        \u001b[49m\u001b[43mX\u001b[49m\u001b[43m,\u001b[49m\n\u001b[0;32m    849\u001b[0m \u001b[43m        \u001b[49m\u001b[43my\u001b[49m\u001b[43m,\u001b[49m\n\u001b[0;32m    850\u001b[0m \u001b[43m        \u001b[49m\u001b[43mtrain\u001b[49m\u001b[38;5;241;43m=\u001b[39;49m\u001b[43mtrain\u001b[49m\u001b[43m,\u001b[49m\n\u001b[0;32m    851\u001b[0m \u001b[43m        \u001b[49m\u001b[43mtest\u001b[49m\u001b[38;5;241;43m=\u001b[39;49m\u001b[43mtest\u001b[49m\u001b[43m,\u001b[49m\n\u001b[0;32m    852\u001b[0m \u001b[43m        \u001b[49m\u001b[43mparameters\u001b[49m\u001b[38;5;241;43m=\u001b[39;49m\u001b[43mparameters\u001b[49m\u001b[43m,\u001b[49m\n\u001b[0;32m    853\u001b[0m \u001b[43m        \u001b[49m\u001b[43msplit_progress\u001b[49m\u001b[38;5;241;43m=\u001b[39;49m\u001b[43m(\u001b[49m\u001b[43msplit_idx\u001b[49m\u001b[43m,\u001b[49m\u001b[43m \u001b[49m\u001b[43mn_splits\u001b[49m\u001b[43m)\u001b[49m\u001b[43m,\u001b[49m\n\u001b[0;32m    854\u001b[0m \u001b[43m        \u001b[49m\u001b[43mcandidate_progress\u001b[49m\u001b[38;5;241;43m=\u001b[39;49m\u001b[43m(\u001b[49m\u001b[43mcand_idx\u001b[49m\u001b[43m,\u001b[49m\u001b[43m \u001b[49m\u001b[43mn_candidates\u001b[49m\u001b[43m)\u001b[49m\u001b[43m,\u001b[49m\n\u001b[0;32m    855\u001b[0m \u001b[43m        \u001b[49m\u001b[38;5;241;43m*\u001b[39;49m\u001b[38;5;241;43m*\u001b[39;49m\u001b[43mfit_and_score_kwargs\u001b[49m\u001b[43m,\u001b[49m\n\u001b[0;32m    856\u001b[0m \u001b[43m    \u001b[49m\u001b[43m)\u001b[49m\n\u001b[0;32m    857\u001b[0m \u001b[43m    \u001b[49m\u001b[38;5;28;43;01mfor\u001b[39;49;00m\u001b[43m \u001b[49m\u001b[43m(\u001b[49m\u001b[43mcand_idx\u001b[49m\u001b[43m,\u001b[49m\u001b[43m \u001b[49m\u001b[43mparameters\u001b[49m\u001b[43m)\u001b[49m\u001b[43m,\u001b[49m\u001b[43m \u001b[49m\u001b[43m(\u001b[49m\u001b[43msplit_idx\u001b[49m\u001b[43m,\u001b[49m\u001b[43m \u001b[49m\u001b[43m(\u001b[49m\u001b[43mtrain\u001b[49m\u001b[43m,\u001b[49m\u001b[43m \u001b[49m\u001b[43mtest\u001b[49m\u001b[43m)\u001b[49m\u001b[43m)\u001b[49m\u001b[43m \u001b[49m\u001b[38;5;129;43;01min\u001b[39;49;00m\u001b[43m \u001b[49m\u001b[43mproduct\u001b[49m\u001b[43m(\u001b[49m\n\u001b[0;32m    858\u001b[0m \u001b[43m        \u001b[49m\u001b[38;5;28;43menumerate\u001b[39;49m\u001b[43m(\u001b[49m\u001b[43mcandidate_params\u001b[49m\u001b[43m)\u001b[49m\u001b[43m,\u001b[49m\u001b[43m \u001b[49m\u001b[38;5;28;43menumerate\u001b[39;49m\u001b[43m(\u001b[49m\u001b[43mcv\u001b[49m\u001b[38;5;241;43m.\u001b[39;49m\u001b[43msplit\u001b[49m\u001b[43m(\u001b[49m\u001b[43mX\u001b[49m\u001b[43m,\u001b[49m\u001b[43m \u001b[49m\u001b[43my\u001b[49m\u001b[43m,\u001b[49m\u001b[43m \u001b[49m\u001b[43mgroups\u001b[49m\u001b[43m)\u001b[49m\u001b[43m)\u001b[49m\n\u001b[0;32m    859\u001b[0m \u001b[43m    \u001b[49m\u001b[43m)\u001b[49m\n\u001b[0;32m    860\u001b[0m \u001b[43m\u001b[49m\u001b[43m)\u001b[49m\n\u001b[0;32m    862\u001b[0m \u001b[38;5;28;01mif\u001b[39;00m \u001b[38;5;28mlen\u001b[39m(out) \u001b[38;5;241m<\u001b[39m \u001b[38;5;241m1\u001b[39m:\n\u001b[0;32m    863\u001b[0m     \u001b[38;5;28;01mraise\u001b[39;00m \u001b[38;5;167;01mValueError\u001b[39;00m(\n\u001b[0;32m    864\u001b[0m         \u001b[38;5;124m\"\u001b[39m\u001b[38;5;124mNo fits were performed. \u001b[39m\u001b[38;5;124m\"\u001b[39m\n\u001b[0;32m    865\u001b[0m         \u001b[38;5;124m\"\u001b[39m\u001b[38;5;124mWas the CV iterator empty? \u001b[39m\u001b[38;5;124m\"\u001b[39m\n\u001b[0;32m    866\u001b[0m         \u001b[38;5;124m\"\u001b[39m\u001b[38;5;124mWere there no candidates?\u001b[39m\u001b[38;5;124m\"\u001b[39m\n\u001b[0;32m    867\u001b[0m     )\n",
      "File \u001b[1;32mz:\\Google\\Anaconda\\lib\\site-packages\\sklearn\\utils\\parallel.py:65\u001b[0m, in \u001b[0;36mParallel.__call__\u001b[1;34m(self, iterable)\u001b[0m\n\u001b[0;32m     60\u001b[0m config \u001b[38;5;241m=\u001b[39m get_config()\n\u001b[0;32m     61\u001b[0m iterable_with_config \u001b[38;5;241m=\u001b[39m (\n\u001b[0;32m     62\u001b[0m     (_with_config(delayed_func, config), args, kwargs)\n\u001b[0;32m     63\u001b[0m     \u001b[38;5;28;01mfor\u001b[39;00m delayed_func, args, kwargs \u001b[38;5;129;01min\u001b[39;00m iterable\n\u001b[0;32m     64\u001b[0m )\n\u001b[1;32m---> 65\u001b[0m \u001b[38;5;28;01mreturn\u001b[39;00m \u001b[38;5;28;43msuper\u001b[39;49m\u001b[43m(\u001b[49m\u001b[43m)\u001b[49m\u001b[38;5;241;43m.\u001b[39;49m\u001b[38;5;21;43m__call__\u001b[39;49m\u001b[43m(\u001b[49m\u001b[43miterable_with_config\u001b[49m\u001b[43m)\u001b[49m\n",
      "File \u001b[1;32mz:\\Google\\Anaconda\\lib\\site-packages\\joblib\\parallel.py:2007\u001b[0m, in \u001b[0;36mParallel.__call__\u001b[1;34m(self, iterable)\u001b[0m\n\u001b[0;32m   2001\u001b[0m \u001b[38;5;66;03m# The first item from the output is blank, but it makes the interpreter\u001b[39;00m\n\u001b[0;32m   2002\u001b[0m \u001b[38;5;66;03m# progress until it enters the Try/Except block of the generator and\u001b[39;00m\n\u001b[0;32m   2003\u001b[0m \u001b[38;5;66;03m# reaches the first `yield` statement. This starts the asynchronous\u001b[39;00m\n\u001b[0;32m   2004\u001b[0m \u001b[38;5;66;03m# dispatch of the tasks to the workers.\u001b[39;00m\n\u001b[0;32m   2005\u001b[0m \u001b[38;5;28mnext\u001b[39m(output)\n\u001b[1;32m-> 2007\u001b[0m \u001b[38;5;28;01mreturn\u001b[39;00m output \u001b[38;5;28;01mif\u001b[39;00m \u001b[38;5;28mself\u001b[39m\u001b[38;5;241m.\u001b[39mreturn_generator \u001b[38;5;28;01melse\u001b[39;00m \u001b[38;5;28;43mlist\u001b[39;49m\u001b[43m(\u001b[49m\u001b[43moutput\u001b[49m\u001b[43m)\u001b[49m\n",
      "File \u001b[1;32mz:\\Google\\Anaconda\\lib\\site-packages\\joblib\\parallel.py:1650\u001b[0m, in \u001b[0;36mParallel._get_outputs\u001b[1;34m(self, iterator, pre_dispatch)\u001b[0m\n\u001b[0;32m   1647\u001b[0m     \u001b[38;5;28;01myield\u001b[39;00m\n\u001b[0;32m   1649\u001b[0m     \u001b[38;5;28;01mwith\u001b[39;00m \u001b[38;5;28mself\u001b[39m\u001b[38;5;241m.\u001b[39m_backend\u001b[38;5;241m.\u001b[39mretrieval_context():\n\u001b[1;32m-> 1650\u001b[0m         \u001b[38;5;28;01myield from\u001b[39;00m \u001b[38;5;28mself\u001b[39m\u001b[38;5;241m.\u001b[39m_retrieve()\n\u001b[0;32m   1652\u001b[0m \u001b[38;5;28;01mexcept\u001b[39;00m \u001b[38;5;167;01mGeneratorExit\u001b[39;00m:\n\u001b[0;32m   1653\u001b[0m     \u001b[38;5;66;03m# The generator has been garbage collected before being fully\u001b[39;00m\n\u001b[0;32m   1654\u001b[0m     \u001b[38;5;66;03m# consumed. This aborts the remaining tasks if possible and warn\u001b[39;00m\n\u001b[0;32m   1655\u001b[0m     \u001b[38;5;66;03m# the user if necessary.\u001b[39;00m\n\u001b[0;32m   1656\u001b[0m     \u001b[38;5;28mself\u001b[39m\u001b[38;5;241m.\u001b[39m_exception \u001b[38;5;241m=\u001b[39m \u001b[38;5;28;01mTrue\u001b[39;00m\n",
      "File \u001b[1;32mz:\\Google\\Anaconda\\lib\\site-packages\\joblib\\parallel.py:1762\u001b[0m, in \u001b[0;36mParallel._retrieve\u001b[1;34m(self)\u001b[0m\n\u001b[0;32m   1757\u001b[0m \u001b[38;5;66;03m# If the next job is not ready for retrieval yet, we just wait for\u001b[39;00m\n\u001b[0;32m   1758\u001b[0m \u001b[38;5;66;03m# async callbacks to progress.\u001b[39;00m\n\u001b[0;32m   1759\u001b[0m \u001b[38;5;28;01mif\u001b[39;00m ((\u001b[38;5;28mlen\u001b[39m(\u001b[38;5;28mself\u001b[39m\u001b[38;5;241m.\u001b[39m_jobs) \u001b[38;5;241m==\u001b[39m \u001b[38;5;241m0\u001b[39m) \u001b[38;5;129;01mor\u001b[39;00m\n\u001b[0;32m   1760\u001b[0m     (\u001b[38;5;28mself\u001b[39m\u001b[38;5;241m.\u001b[39m_jobs[\u001b[38;5;241m0\u001b[39m]\u001b[38;5;241m.\u001b[39mget_status(\n\u001b[0;32m   1761\u001b[0m         timeout\u001b[38;5;241m=\u001b[39m\u001b[38;5;28mself\u001b[39m\u001b[38;5;241m.\u001b[39mtimeout) \u001b[38;5;241m==\u001b[39m TASK_PENDING)):\n\u001b[1;32m-> 1762\u001b[0m     \u001b[43mtime\u001b[49m\u001b[38;5;241;43m.\u001b[39;49m\u001b[43msleep\u001b[49m\u001b[43m(\u001b[49m\u001b[38;5;241;43m0.01\u001b[39;49m\u001b[43m)\u001b[49m\n\u001b[0;32m   1763\u001b[0m     \u001b[38;5;28;01mcontinue\u001b[39;00m\n\u001b[0;32m   1765\u001b[0m \u001b[38;5;66;03m# We need to be careful: the job list can be filling up as\u001b[39;00m\n\u001b[0;32m   1766\u001b[0m \u001b[38;5;66;03m# we empty it and Python list are not thread-safe by\u001b[39;00m\n\u001b[0;32m   1767\u001b[0m \u001b[38;5;66;03m# default hence the use of the lock\u001b[39;00m\n",
      "\u001b[1;31mKeyboardInterrupt\u001b[0m: "
     ]
    }
   ],
   "source": [
    "# Define the parameter grid\n",
    "param_grid = {\n",
    "    'C': [0.1, 1, 10, 100],\n",
    "    'gamma': [10, 1, 0.1, 0.01, 0.001],\n",
    "    'kernel': ['rbf', 'poly', 'sigmoid']\n",
    "}\n",
    "\n",
    "svc = SVC(random_state=42)\n",
    "grid_search = GridSearchCV(estimator=svc, param_grid=param_grid, cv=5, n_jobs=-1, verbose=1)\n",
    "grid_search.fit(X_train_std, y_train)\n",
    "\n",
    "# Best parameters and score\n",
    "print(\"Best Parameters:\", grid_search.best_params_)\n",
    "print(\"Best Score:\", grid_search.best_score_)"
   ]
  },
  {
   "cell_type": "code",
   "execution_count": null,
   "metadata": {},
   "outputs": [],
   "source": [
    "xgb_classifier = XGBClassifier(objective='multi:softmax',  num_class=15)\n",
    "xgb_classifier.fit(X_train, y_train)\n",
    "y_pred = xgb_classifier.predict(X_test)\n",
    "\n",
    "accuracy = accuracy_score(y_test, y_pred)\n",
    "print('rf accuracy', accuracy)\n",
    "\n",
    "imp_xgb1 = pd.DataFrame()\n",
    "imp_xgb1['feature'] = xgb_classifier.feature_names_in_\n",
    "imp_xgb1['importance'] = xgb_classifier.feature_importances_\n",
    "imp_xgb1.sort_values('importance', ascending=False, inplace=True)\n",
    "imp_xgb1[imp_xgb1['importance'] > 0].iloc[0:25]"
   ]
  },
  {
   "cell_type": "markdown",
   "metadata": {},
   "source": [
    "#### dataset: full data - no null - no infite vif feature "
   ]
  },
  {
   "cell_type": "code",
   "execution_count": null,
   "metadata": {},
   "outputs": [],
   "source": [
    "no_null_a2 = no_null_a1[vif_values['feature'].values]\n",
    "no_null_a2 = pd.concat( (no_null_a1.select_dtypes(include=object), no_null_a2) )\n",
    "enc_no_null_a2 = cat_encoding(no_null_a1)\n",
    "\n",
    "X, y = enc_no_null_a2.drop(['Approved_Flag'], axis=1), enc_no_null_a2[['Approved_Flag']]\n",
    "X_train, X_test, y_train, y_test = train_test_split(X, y, \n",
    "                                                    test_size=0.2, \n",
    "                                                    random_state=42)\n",
    "\n",
    "dt = DecisionTreeClassifier()\n",
    "dt.fit(X_train, y_train)\n",
    "y_pred = dt.predict(X_test)\n",
    "accuracy = accuracy_score(y_test, y_pred)\n",
    "print(\"dt accuracy:\", accuracy)\n",
    "\n",
    "imp_dt2 = pd.DataFrame()\n",
    "imp_dt2['feature'] = dt.feature_names_in_\n",
    "imp_dt2['importance'] = dt.feature_importances_\n",
    "imp_dt2.sort_values('importance', ascending=False, inplace=True)\n",
    "imp_dt2[imp_dt2['importance'] > 0].iloc[0:25]"
   ]
  },
  {
   "cell_type": "code",
   "execution_count": null,
   "metadata": {},
   "outputs": [],
   "source": [
    "xgb_classifier = XGBClassifier(objective='multi:softmax',  num_class=15)\n",
    "xgb_classifier.fit(X_train, y_train)\n",
    "y_pred = xgb_classifier.predict(X_test)\n",
    "\n",
    "accuracy = accuracy_score(y_test, y_pred)\n",
    "print('rf accuracy', accuracy)\n",
    "\n",
    "imp_xgb2 = pd.DataFrame()\n",
    "imp_xgb2['feature'] = xgb_classifier.feature_names_in_\n",
    "imp_xgb2['importance'] = xgb_classifier.feature_importances_\n",
    "imp_xgb2.sort_values('importance', ascending=False, inplace=True)\n",
    "imp_xgb2[imp_xgb2['importance'] > 0].iloc[0:25]"
   ]
  },
  {
   "cell_type": "markdown",
   "metadata": {},
   "source": [
    "#### dataset: full data - no null - low vif"
   ]
  },
  {
   "cell_type": "code",
   "execution_count": null,
   "metadata": {},
   "outputs": [],
   "source": [
    "numeric_col = vif_values[vif_values['vif'] > 5]['feature'].values\n",
    "categoric_col = no_null_a1.select_dtypes(include=object).columns\n",
    "keep_col = np.concatenate( (numeric_col , categoric_col) )\n",
    "enc_no_null_a3 = cat_encoding(no_null_a1[keep_col])\n",
    "print(enc_no_null_a3.shape)\n",
    "\n",
    "X, y = enc_no_null_a3.drop(['Approved_Flag'], axis=1), enc_no_null_a3[['Approved_Flag']]\n",
    "X_train, X_test, y_train, y_test = train_test_split(X, y, \n",
    "                                                    test_size=0.2, \n",
    "                                                    random_state=42)"
   ]
  },
  {
   "cell_type": "code",
   "execution_count": null,
   "metadata": {},
   "outputs": [],
   "source": [
    "dt = DecisionTreeClassifier()\n",
    "dt.fit(X_train, y_train)\n",
    "y_pred = dt.predict(X_test)\n",
    "accuracy = accuracy_score(y_test, y_pred)\n",
    "print(\"dt [low vif] accuracy:\", accuracy)\n",
    "\n",
    "imp_dt3 = pd.DataFrame()\n",
    "imp_dt3['feature'] = dt.feature_names_in_\n",
    "imp_dt3['importance'] = dt.feature_importances_\n",
    "imp_dt3.sort_values('importance', ascending=False, inplace=True)\n",
    "imp_dt3[imp_dt3['importance'] > 0].iloc[0:25]"
   ]
  },
  {
   "cell_type": "code",
   "execution_count": null,
   "metadata": {},
   "outputs": [],
   "source": [
    "xgb_classifier = XGBClassifier(objective='multi:softmax',  num_class=15)\n",
    "xgb_classifier.fit(X_train, y_train)\n",
    "y_pred = xgb_classifier.predict(X_test)\n",
    "\n",
    "accuracy = accuracy_score(y_test, y_pred)\n",
    "print('rf accuracy', accuracy)\n",
    "\n",
    "imp_xgb3 = pd.DataFrame()\n",
    "imp_xgb3['feature'] = xgb_classifier.feature_names_in_\n",
    "imp_xgb3['importance'] = xgb_classifier.feature_importances_\n",
    "imp_xgb3.sort_values('importance', ascending=False, inplace=True)\n",
    "imp_xgb3[imp_xgb3['importance'] > 0].iloc[0:25]"
   ]
  },
  {
   "cell_type": "markdown",
   "metadata": {},
   "source": [
    "Choosing only low vif feature didn't improved the accuracy much."
   ]
  },
  {
   "cell_type": "code",
   "execution_count": null,
   "metadata": {},
   "outputs": [],
   "source": [
    "# merging importance with vif values\n",
    "vif_imp = pd.merge(vif_values, imp_xgb2, on='feature', how='left').sort_values(['importance', 'vif'], ascending=False)\n",
    "vif_imp.shape"
   ]
  },
  {
   "cell_type": "code",
   "execution_count": null,
   "metadata": {},
   "outputs": [],
   "source": [
    "vif_imp"
   ]
  },
  {
   "cell_type": "code",
   "execution_count": null,
   "metadata": {},
   "outputs": [],
   "source": [
    "# feature selected for further modeling basis vif and importance score along with the limited banking knowledge\n",
    "numeric_col = [ 'Age_Oldest_TL', 'enq_L3m', 'time_since_recent_enq', 'time_since_recent_deliquency', \n",
    "'num_std', 'Time_With_Curr_Empr', 'time_since_recent_payment', 'Age_Newest_TL', \n",
    "'NETMONTHLYINCOME', 'AGE', 'max_deliq_12mts', 'max_delinquency_level', 'recent_level_of_deliq', \n",
    "'pct_PL_enq_L6m_of_L12m', 'enq_L12m', 'pct_tl_open_L12M', 'num_std_6mts', 'pct_tl_closed_L12M', \n",
    "'pct_tl_open_L6M', 'max_deliq_6mts', 'num_times_30p_dpd', 'num_times_60p_dpd' ]\n",
    "\n",
    "categoric_col = no_null_a1.select_dtypes(include=object).columns\n",
    "keep_col = np.concatenate( (numeric_col , categoric_col) )\n",
    "no_null_a3 = no_null_a1[keep_col]\n",
    "enc_no_null_a3 = cat_encoding(no_null_a3)\n",
    "print(enc_no_null_a3.shape)\n",
    "\n",
    "X, y = enc_no_null_a3.drop(['Approved_Flag'], axis=1), enc_no_null_a3[['Approved_Flag']]\n",
    "X_train, X_test, y_train, y_test = train_test_split(X, y, \n",
    "                                                    test_size=0.2, \n",
    "                                                    random_state=42)\n",
    "\n",
    "xgb_classifier = XGBClassifier(objective='multi:softmax',  num_class=15)\n",
    "xgb_classifier.fit(X_train, y_train)\n",
    "y_pred = xgb_classifier.predict(X_test)\n",
    "\n",
    "accuracy = accuracy_score(y_test, y_pred)\n",
    "print('rf accuracy', accuracy)\n",
    "\n",
    "imp_xgb4 = pd.DataFrame()\n",
    "imp_xgb4['feature'] = xgb_classifier.feature_names_in_\n",
    "imp_xgb4['importance'] = xgb_classifier.feature_importances_\n",
    "imp_xgb4.sort_values('importance', ascending=False, inplace=True)\n",
    "imp_xgb4"
   ]
  },
  {
   "cell_type": "code",
   "execution_count": null,
   "metadata": {},
   "outputs": [],
   "source": [
    "# feature selected for further modeling basis vif and importance score along with the limited banking knowledge\n",
    "numeric_col = [ 'enq_L3m', 'Age_Oldest_TL', 'time_since_recent_deliquency', 'time_since_recent_enq', 'num_std', 'time_since_first_deliquency', 'max_deliq_12mts', 'max_delinquency_level', 'Age_Newest_TL', 'max_recent_level_of_deliq', 'recent_level_of_deliq', 'max_deliq_6mts', 'pct_tl_open_L12M', 'pct_CC_enq_L6m_of_L12m', 'enq_L12m', 'pct_tl_open_L6M', 'enq_L6m', 'pct_tl_closed_L12M', 'PL_enq_L6m', 'num_times_30p_dpd', 'time_since_recent_payment', 'Total_TL_opened_L12M', 'CC_enq_L6m', 'Time_With_Curr_Empr', 'NETMONTHLYINCOME', 'pct_tl_closed_L6M', 'tot_enq', 'Tot_Missed_Pmnt', 'PL_enq', 'PL_enq_L12m', 'Tot_TL_closed_L6M', 'AGE', 'CC_enq_L12m', 'Total_TL_opened_L6M', 'pct_CC_enq_L6m_of_ever', 'pct_opened_TLs_L6m_of_L12m', 'pct_closed_tl', 'Tot_TL_closed_L12M', 'CC_enq', 'num_times_60p_dpd', 'num_lss', 'num_times_delinquent', 'num_sub', 'num_sub_12mts', 'num_dbt' ]\n",
    "\n",
    "categoric_col = no_null_a1.select_dtypes(include=object).columns\n",
    "keep_col = np.concatenate( (numeric_col , categoric_col) )\n",
    "enc_no_null_a3 = cat_encoding(no_null_a1[keep_col])\n",
    "print(enc_no_null_a3.shape)\n",
    "\n",
    "X, y = enc_no_null_a3.drop(['Approved_Flag'], axis=1), enc_no_null_a3[['Approved_Flag']]\n",
    "X_train, X_test, y_train, y_test = train_test_split(X, y, \n",
    "                                                    test_size=0.2, \n",
    "                                                    random_state=42)\n",
    "\n",
    "xgb_classifier = XGBClassifier(objective='multi:softmax',  num_class=15)\n",
    "xgb_classifier.fit(X_train, y_train)\n",
    "y_pred = xgb_classifier.predict(X_test)\n",
    "\n",
    "accuracy = accuracy_score(y_test, y_pred)\n",
    "print('rf accuracy', accuracy)\n"
   ]
  },
  {
   "cell_type": "markdown",
   "metadata": {},
   "source": [
    "### Different Apporach"
   ]
  },
  {
   "cell_type": "code",
   "execution_count": 145,
   "metadata": {},
   "outputs": [],
   "source": [
    "# max deliqneunt level last 12 months have higher importance than other 2 features, per vif_imp.\n",
    "no_null_a4 = df.dropna(subset=['time_since_recent_payment']).drop([['max_deliq_6mts', 'max_deliq_12mts']], axis=1)\n",
    "no_null_a4.drop(['PROSPECTID', 'Credit_Score'], axis=1, inplace=True)\n",
    "\n",
    "numeric_col = no_null_a4.select_dtypes(exclude=object).columns\n",
    "\n",
    "# Calculate VIF for each numeric feature\n",
    "vif_values_new = pd.DataFrame()\n",
    "vif_values_new['feature'] = numeric_col\n",
    "\n",
    "vif_values_new['vif'] = [variance_inflation_factor(no_null_a4[numeric_col], i) for i in range(numeric_col.shape[0])]\n",
    "vif_values_new = vif_values_new[vif_values_new['vif'] < np.inf]\n",
    "vif_values_new.sort_values('vif', inplace=True)"
   ]
  },
  {
   "cell_type": "code",
   "execution_count": null,
   "metadata": {},
   "outputs": [],
   "source": [
    "no_null_a4 = pd.concat( (no_null_a4[vif_values_new['feature'].values], no_null_a4.select_dtypes(include=object)) )\n",
    "enc_no_null_a4 = cat_encoding(no_null_a4)\n",
    "\n",
    "X, y = enc_no_null_a4.drop(['Approved_Flag'], axis=1), enc_no_null_a4[['Approved_Flag']]\n",
    "X_train, X_test, y_train, y_test = train_test_split(X, y, \n",
    "                                                    test_size=0.2, \n",
    "                                                    random_state=42)\n",
    "xgb_classifier = XGBClassifier(objective='multi:softmax',  num_class=5)\n",
    "xgb_classifier.fit(X_train, y_train)\n",
    "y_pred = xgb_classifier.predict(X_test)\n",
    "\n",
    "accuracy = accuracy_score(y_test, y_pred)\n",
    "print('rf accuracy', accuracy)"
   ]
  },
  {
   "cell_type": "code",
   "execution_count": null,
   "metadata": {},
   "outputs": [],
   "source": [
    "imp_xgb5 = pd.DataFrame()\n",
    "imp_xgb5['feature'] = xgb_classifier.feature_names_in_\n",
    "imp_xgb5['importance'] = xgb_classifier.feature_importances_\n",
    "imp_xgb5.sort_values('importance', ascending=False, inplace=True)\n",
    "imp_xgb5[imp_xgb5['importance'] > 0]"
   ]
  },
  {
   "cell_type": "code",
   "execution_count": null,
   "metadata": {},
   "outputs": [],
   "source": [
    "vif_imp_new = pd.merge(vif_values, imp_xgb5[imp_xgb5['importance'] > 0], on='feature', how='left').sort_values(['importance', 'vif'], ascending=False)\n",
    "vif_imp_new"
   ]
  },
  {
   "cell_type": "code",
   "execution_count": null,
   "metadata": {},
   "outputs": [],
   "source": [
    "no_null_a5 = pd.concat( (no_null_a4[vif_imp_new['feature'].values], no_null_a4.select_dtypes(include=object)) )\n",
    "enc_no_null_a5 = cat_encoding(no_null_a5)\n",
    "\n",
    "X, y = enc_no_null_a5.drop(['Approved_Flag'], axis=1), enc_no_null_a5[['Approved_Flag']]\n",
    "X_train, X_test, y_train, y_test = train_test_split(X, y, \n",
    "                                                    test_size=0.2, \n",
    "                                                    random_state=42)\n",
    "xgb_classifier = XGBClassifier(objective='multi:softmax',  num_class=15)\n",
    "xgb_classifier.fit(X_train, y_train)\n",
    "y_pred = xgb_classifier.predict(X_test)\n",
    "\n",
    "accuracy = accuracy_score(y_test, y_pred)\n",
    "print('rf accuracy', accuracy)"
   ]
  },
  {
   "cell_type": "code",
   "execution_count": null,
   "metadata": {},
   "outputs": [],
   "source": [
    "imp_xgb5 = pd.DataFrame()\n",
    "imp_xgb5['feature'] = xgb_classifier.feature_names_in_\n",
    "imp_xgb5['importance'] = xgb_classifier.feature_importances_\n",
    "imp_xgb5.sort_values('importance', ascending=False, inplace=True)\n",
    "imp_xgb5[imp_xgb5['importance'] > 0]"
   ]
  },
  {
   "cell_type": "code",
   "execution_count": null,
   "metadata": {},
   "outputs": [],
   "source": [
    "vif_imp_new = pd.merge(vif_values, imp_xgb5[imp_xgb5['importance'] > 0], on='feature', how='left').sort_values(['importance', 'vif'], ascending=False)\n"
   ]
  },
  {
   "cell_type": "code",
   "execution_count": null,
   "metadata": {},
   "outputs": [],
   "source": []
  }
 ],
 "metadata": {
  "kernelspec": {
   "display_name": "Python 3",
   "language": "python",
   "name": "python3"
  },
  "language_info": {
   "codemirror_mode": {
    "name": "ipython",
    "version": 3
   },
   "file_extension": ".py",
   "mimetype": "text/x-python",
   "name": "python",
   "nbconvert_exporter": "python",
   "pygments_lexer": "ipython3",
   "version": "3.8.19"
  }
 },
 "nbformat": 4,
 "nbformat_minor": 2
}
