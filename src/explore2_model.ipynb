{
 "cells": [
  {
   "cell_type": "markdown",
   "metadata": {},
   "source": [
    "This python notebook explore formulation of credit score metric using the available credit customer record excluding the CIBIL-provided credit score."
   ]
  },
  {
   "cell_type": "code",
   "execution_count": 1,
   "metadata": {},
   "outputs": [],
   "source": [
    "import pickle\n",
    "import os.path as path\n",
    "import pandas as pd\n",
    "import numpy as np\n",
    "from sklearn.preprocessing import LabelEncoder\n",
    "from sklearn.model_selection import train_test_split, GridSearchCV\n",
    "from sklearn.tree import DecisionTreeRegressor\n",
    "from sklearn.ensemble import RandomForestRegressor\n",
    "from xgboost import XGBRegressor\n",
    "from sklearn.metrics import mean_squared_error"
   ]
  },
  {
   "cell_type": "code",
   "execution_count": 2,
   "metadata": {},
   "outputs": [
    {
     "name": "stdout",
     "output_type": "stream",
     "text": [
      "(42064, 84)\n",
      "<class 'pandas.core.frame.DataFrame'>\n",
      "Index: 42064 entries, 0 to 51335\n",
      "Data columns (total 84 columns):\n",
      " #   Column                        Non-Null Count  Dtype  \n",
      "---  ------                        --------------  -----  \n",
      " 0   PROSPECTID                    42064 non-null  int64  \n",
      " 1   Total_TL                      42064 non-null  int64  \n",
      " 2   Tot_Closed_TL                 42064 non-null  int64  \n",
      " 3   Tot_Active_TL                 42064 non-null  int64  \n",
      " 4   Total_TL_opened_L6M           42064 non-null  int64  \n",
      " 5   Tot_TL_closed_L6M             42064 non-null  int64  \n",
      " 6   pct_tl_open_L6M               42064 non-null  float64\n",
      " 7   pct_tl_closed_L6M             42064 non-null  float64\n",
      " 8   pct_active_tl                 42064 non-null  float64\n",
      " 9   pct_closed_tl                 42064 non-null  float64\n",
      " 10  Total_TL_opened_L12M          42064 non-null  int64  \n",
      " 11  Tot_TL_closed_L12M            42064 non-null  int64  \n",
      " 12  pct_tl_open_L12M              42064 non-null  float64\n",
      " 13  pct_tl_closed_L12M            42064 non-null  float64\n",
      " 14  Tot_Missed_Pmnt               42064 non-null  int64  \n",
      " 15  Auto_TL                       42064 non-null  int64  \n",
      " 16  CC_TL                         42064 non-null  int64  \n",
      " 17  Consumer_TL                   42064 non-null  int64  \n",
      " 18  Gold_TL                       42064 non-null  int64  \n",
      " 19  Home_TL                       42064 non-null  int64  \n",
      " 20  PL_TL                         42064 non-null  int64  \n",
      " 21  Secured_TL                    42064 non-null  int64  \n",
      " 22  Unsecured_TL                  42064 non-null  int64  \n",
      " 23  Other_TL                      42064 non-null  int64  \n",
      " 24  Age_Oldest_TL                 42064 non-null  float64\n",
      " 25  Age_Newest_TL                 42064 non-null  float64\n",
      " 26  time_since_recent_payment     42064 non-null  float64\n",
      " 27  time_since_first_deliquency   42064 non-null  float64\n",
      " 28  time_since_recent_deliquency  42064 non-null  float64\n",
      " 29  num_times_delinquent          42064 non-null  int64  \n",
      " 30  max_delinquency_level         42064 non-null  float64\n",
      " 31  max_recent_level_of_deliq     42064 non-null  int64  \n",
      " 32  num_deliq_6mts                42064 non-null  int64  \n",
      " 33  num_deliq_12mts               42064 non-null  int64  \n",
      " 34  num_deliq_6_12mts             42064 non-null  int64  \n",
      " 35  max_deliq_6mts                42064 non-null  float64\n",
      " 36  max_deliq_12mts               42064 non-null  float64\n",
      " 37  num_times_30p_dpd             42064 non-null  int64  \n",
      " 38  num_times_60p_dpd             42064 non-null  int64  \n",
      " 39  num_std                       42064 non-null  int64  \n",
      " 40  num_std_6mts                  42064 non-null  int64  \n",
      " 41  num_std_12mts                 42064 non-null  int64  \n",
      " 42  num_sub                       42064 non-null  int64  \n",
      " 43  num_sub_6mts                  42064 non-null  int64  \n",
      " 44  num_sub_12mts                 42064 non-null  int64  \n",
      " 45  num_dbt                       42064 non-null  int64  \n",
      " 46  num_dbt_6mts                  42064 non-null  int64  \n",
      " 47  num_dbt_12mts                 42064 non-null  int64  \n",
      " 48  num_lss                       42064 non-null  int64  \n",
      " 49  num_lss_6mts                  42064 non-null  int64  \n",
      " 50  num_lss_12mts                 42064 non-null  int64  \n",
      " 51  recent_level_of_deliq         42064 non-null  int64  \n",
      " 52  tot_enq                       42064 non-null  float64\n",
      " 53  CC_enq                        42064 non-null  float64\n",
      " 54  CC_enq_L6m                    42064 non-null  float64\n",
      " 55  CC_enq_L12m                   42064 non-null  float64\n",
      " 56  PL_enq                        42064 non-null  float64\n",
      " 57  PL_enq_L6m                    42064 non-null  float64\n",
      " 58  PL_enq_L12m                   42064 non-null  float64\n",
      " 59  time_since_recent_enq         42064 non-null  float64\n",
      " 60  enq_L12m                      42064 non-null  float64\n",
      " 61  enq_L6m                       42064 non-null  float64\n",
      " 62  enq_L3m                       42064 non-null  float64\n",
      " 63  MARITALSTATUS                 42064 non-null  object \n",
      " 64  EDUCATION                     42064 non-null  object \n",
      " 65  AGE                           42064 non-null  int64  \n",
      " 66  GENDER                        42064 non-null  object \n",
      " 67  NETMONTHLYINCOME              42064 non-null  int64  \n",
      " 68  Time_With_Curr_Empr           42064 non-null  int64  \n",
      " 69  pct_of_active_TLs_ever        42064 non-null  float64\n",
      " 70  pct_opened_TLs_L6m_of_L12m    42064 non-null  float64\n",
      " 71  pct_currentBal_all_TL         42064 non-null  float64\n",
      " 72  CC_Flag                       42064 non-null  int64  \n",
      " 73  PL_Flag                       42064 non-null  int64  \n",
      " 74  pct_PL_enq_L6m_of_L12m        42064 non-null  float64\n",
      " 75  pct_CC_enq_L6m_of_L12m        42064 non-null  float64\n",
      " 76  pct_PL_enq_L6m_of_ever        42064 non-null  float64\n",
      " 77  pct_CC_enq_L6m_of_ever        42064 non-null  float64\n",
      " 78  HL_Flag                       42064 non-null  int64  \n",
      " 79  GL_Flag                       42064 non-null  int64  \n",
      " 80  last_prod_enq2                42064 non-null  object \n",
      " 81  first_prod_enq2               42064 non-null  object \n",
      " 82  Credit_Score                  42064 non-null  int64  \n",
      " 83  Approved_Flag                 42064 non-null  object \n",
      "dtypes: float64(32), int64(46), object(6)\n",
      "memory usage: 27.3+ MB\n"
     ]
    }
   ],
   "source": [
    "df = pd.read_pickle('../artifacts/full_data_nonull.pkl')\n",
    "print(df.shape)\n",
    "\n",
    "df.info()"
   ]
  },
  {
   "cell_type": "code",
   "execution_count": 3,
   "metadata": {},
   "outputs": [
    {
     "name": "stdout",
     "output_type": "stream",
     "text": [
      "categorical columns:  Index(['MARITALSTATUS', 'EDUCATION', 'GENDER', 'last_prod_enq2',\n",
      "       'first_prod_enq2', 'Approved_Flag'],\n",
      "      dtype='object')\n",
      "\n",
      "MARITALSTATUS :  ['Married' 'Single']\n",
      "EDUCATION :  ['12TH' 'GRADUATE' 'SSC' 'POST-GRADUATE' 'UNDER GRADUATE' 'OTHERS'\n",
      " 'PROFESSIONAL']\n",
      "GENDER :  ['M' 'F']\n",
      "last_prod_enq2 :  ['PL' 'ConsumerLoan' 'AL' 'CC' 'others' 'HL']\n",
      "first_prod_enq2 :  ['PL' 'ConsumerLoan' 'others' 'AL' 'HL' 'CC']\n",
      "Approved_Flag :  ['P2' 'P1' 'P3' 'P4']\n"
     ]
    }
   ],
   "source": [
    "print('categorical columns: ', df.select_dtypes(include=['object']).columns, end='\\n\\n')\n",
    "\n",
    "cat_col = df.select_dtypes(include='object').columns\n",
    "for col in cat_col:\n",
    "    print(col, \": \", df[col].unique())\n",
    "    "
   ]
  },
  {
   "cell_type": "code",
   "execution_count": 4,
   "metadata": {},
   "outputs": [],
   "source": [
    "# one-hot encoding\n",
    "df = pd.get_dummies(df, columns=['MARITALSTATUS', 'GENDER', 'last_prod_enq2', 'first_prod_enq2'])\n",
    "\n",
    "#label encoding\n",
    "encode_map = {'SSC':1, 'OTHERS': 1, '12TH': 2, 'GRADUATE': 3, 'UNDER GRADUATE': 3, 'POST-GRADUATE': 4, 'PROFESSIONAL': 4}\n",
    "df['EDUCATION'] = df['EDUCATION'].map(encode_map)"
   ]
  },
  {
   "cell_type": "code",
   "execution_count": 5,
   "metadata": {},
   "outputs": [
    {
     "name": "stdout",
     "output_type": "stream",
     "text": [
      "<class 'pandas.core.frame.DataFrame'>\n",
      "Index: 42064 entries, 0 to 51335\n",
      "Data columns (total 96 columns):\n",
      " #   Column                        Non-Null Count  Dtype  \n",
      "---  ------                        --------------  -----  \n",
      " 0   PROSPECTID                    42064 non-null  int64  \n",
      " 1   Total_TL                      42064 non-null  int64  \n",
      " 2   Tot_Closed_TL                 42064 non-null  int64  \n",
      " 3   Tot_Active_TL                 42064 non-null  int64  \n",
      " 4   Total_TL_opened_L6M           42064 non-null  int64  \n",
      " 5   Tot_TL_closed_L6M             42064 non-null  int64  \n",
      " 6   pct_tl_open_L6M               42064 non-null  float64\n",
      " 7   pct_tl_closed_L6M             42064 non-null  float64\n",
      " 8   pct_active_tl                 42064 non-null  float64\n",
      " 9   pct_closed_tl                 42064 non-null  float64\n",
      " 10  Total_TL_opened_L12M          42064 non-null  int64  \n",
      " 11  Tot_TL_closed_L12M            42064 non-null  int64  \n",
      " 12  pct_tl_open_L12M              42064 non-null  float64\n",
      " 13  pct_tl_closed_L12M            42064 non-null  float64\n",
      " 14  Tot_Missed_Pmnt               42064 non-null  int64  \n",
      " 15  Auto_TL                       42064 non-null  int64  \n",
      " 16  CC_TL                         42064 non-null  int64  \n",
      " 17  Consumer_TL                   42064 non-null  int64  \n",
      " 18  Gold_TL                       42064 non-null  int64  \n",
      " 19  Home_TL                       42064 non-null  int64  \n",
      " 20  PL_TL                         42064 non-null  int64  \n",
      " 21  Secured_TL                    42064 non-null  int64  \n",
      " 22  Unsecured_TL                  42064 non-null  int64  \n",
      " 23  Other_TL                      42064 non-null  int64  \n",
      " 24  Age_Oldest_TL                 42064 non-null  float64\n",
      " 25  Age_Newest_TL                 42064 non-null  float64\n",
      " 26  time_since_recent_payment     42064 non-null  float64\n",
      " 27  time_since_first_deliquency   42064 non-null  float64\n",
      " 28  time_since_recent_deliquency  42064 non-null  float64\n",
      " 29  num_times_delinquent          42064 non-null  int64  \n",
      " 30  max_delinquency_level         42064 non-null  float64\n",
      " 31  max_recent_level_of_deliq     42064 non-null  int64  \n",
      " 32  num_deliq_6mts                42064 non-null  int64  \n",
      " 33  num_deliq_12mts               42064 non-null  int64  \n",
      " 34  num_deliq_6_12mts             42064 non-null  int64  \n",
      " 35  max_deliq_6mts                42064 non-null  float64\n",
      " 36  max_deliq_12mts               42064 non-null  float64\n",
      " 37  num_times_30p_dpd             42064 non-null  int64  \n",
      " 38  num_times_60p_dpd             42064 non-null  int64  \n",
      " 39  num_std                       42064 non-null  int64  \n",
      " 40  num_std_6mts                  42064 non-null  int64  \n",
      " 41  num_std_12mts                 42064 non-null  int64  \n",
      " 42  num_sub                       42064 non-null  int64  \n",
      " 43  num_sub_6mts                  42064 non-null  int64  \n",
      " 44  num_sub_12mts                 42064 non-null  int64  \n",
      " 45  num_dbt                       42064 non-null  int64  \n",
      " 46  num_dbt_6mts                  42064 non-null  int64  \n",
      " 47  num_dbt_12mts                 42064 non-null  int64  \n",
      " 48  num_lss                       42064 non-null  int64  \n",
      " 49  num_lss_6mts                  42064 non-null  int64  \n",
      " 50  num_lss_12mts                 42064 non-null  int64  \n",
      " 51  recent_level_of_deliq         42064 non-null  int64  \n",
      " 52  tot_enq                       42064 non-null  float64\n",
      " 53  CC_enq                        42064 non-null  float64\n",
      " 54  CC_enq_L6m                    42064 non-null  float64\n",
      " 55  CC_enq_L12m                   42064 non-null  float64\n",
      " 56  PL_enq                        42064 non-null  float64\n",
      " 57  PL_enq_L6m                    42064 non-null  float64\n",
      " 58  PL_enq_L12m                   42064 non-null  float64\n",
      " 59  time_since_recent_enq         42064 non-null  float64\n",
      " 60  enq_L12m                      42064 non-null  float64\n",
      " 61  enq_L6m                       42064 non-null  float64\n",
      " 62  enq_L3m                       42064 non-null  float64\n",
      " 63  EDUCATION                     42064 non-null  int64  \n",
      " 64  AGE                           42064 non-null  int64  \n",
      " 65  NETMONTHLYINCOME              42064 non-null  int64  \n",
      " 66  Time_With_Curr_Empr           42064 non-null  int64  \n",
      " 67  pct_of_active_TLs_ever        42064 non-null  float64\n",
      " 68  pct_opened_TLs_L6m_of_L12m    42064 non-null  float64\n",
      " 69  pct_currentBal_all_TL         42064 non-null  float64\n",
      " 70  CC_Flag                       42064 non-null  int64  \n",
      " 71  PL_Flag                       42064 non-null  int64  \n",
      " 72  pct_PL_enq_L6m_of_L12m        42064 non-null  float64\n",
      " 73  pct_CC_enq_L6m_of_L12m        42064 non-null  float64\n",
      " 74  pct_PL_enq_L6m_of_ever        42064 non-null  float64\n",
      " 75  pct_CC_enq_L6m_of_ever        42064 non-null  float64\n",
      " 76  HL_Flag                       42064 non-null  int64  \n",
      " 77  GL_Flag                       42064 non-null  int64  \n",
      " 78  Credit_Score                  42064 non-null  int64  \n",
      " 79  Approved_Flag                 42064 non-null  object \n",
      " 80  MARITALSTATUS_Married         42064 non-null  bool   \n",
      " 81  MARITALSTATUS_Single          42064 non-null  bool   \n",
      " 82  GENDER_F                      42064 non-null  bool   \n",
      " 83  GENDER_M                      42064 non-null  bool   \n",
      " 84  last_prod_enq2_AL             42064 non-null  bool   \n",
      " 85  last_prod_enq2_CC             42064 non-null  bool   \n",
      " 86  last_prod_enq2_ConsumerLoan   42064 non-null  bool   \n",
      " 87  last_prod_enq2_HL             42064 non-null  bool   \n",
      " 88  last_prod_enq2_PL             42064 non-null  bool   \n",
      " 89  last_prod_enq2_others         42064 non-null  bool   \n",
      " 90  first_prod_enq2_AL            42064 non-null  bool   \n",
      " 91  first_prod_enq2_CC            42064 non-null  bool   \n",
      " 92  first_prod_enq2_ConsumerLoan  42064 non-null  bool   \n",
      " 93  first_prod_enq2_HL            42064 non-null  bool   \n",
      " 94  first_prod_enq2_PL            42064 non-null  bool   \n",
      " 95  first_prod_enq2_others        42064 non-null  bool   \n",
      "dtypes: bool(16), float64(32), int64(47), object(1)\n",
      "memory usage: 26.6+ MB\n"
     ]
    }
   ],
   "source": [
    "df.info()"
   ]
  },
  {
   "cell_type": "code",
   "execution_count": 6,
   "metadata": {},
   "outputs": [
    {
     "name": "stdout",
     "output_type": "stream",
     "text": [
      "(33651, 93) (8413, 93)\n"
     ]
    }
   ],
   "source": [
    "X_train, X_test, y_train, y_test = train_test_split(df.drop(['Approved_Flag', 'PROSPECTID', 'Credit_Score'], axis=1), \n",
    "                 LabelEncoder().fit_transform(df['Credit_Score']),\n",
    "                 test_size=0.2, random_state=42)\n",
    "print(X_train.shape, X_test.shape)"
   ]
  },
  {
   "cell_type": "code",
   "execution_count": 7,
   "metadata": {},
   "outputs": [
    {
     "data": {
      "text/plain": [
       "Index([], dtype='object')"
      ]
     },
     "execution_count": 7,
     "metadata": {},
     "output_type": "execute_result"
    }
   ],
   "source": [
    "X_train.select_dtypes(include='object').columns"
   ]
  },
  {
   "cell_type": "code",
   "execution_count": 8,
   "metadata": {},
   "outputs": [
    {
     "name": "stdout",
     "output_type": "stream",
     "text": [
      "0.7689581886618266\n"
     ]
    }
   ],
   "source": [
    "dt = DecisionTreeRegressor()\n",
    "dt.fit(X_train, y_train)\n",
    "print(dt.score(X_test, y_test))"
   ]
  },
  {
   "cell_type": "code",
   "execution_count": 9,
   "metadata": {},
   "outputs": [
    {
     "name": "stdout",
     "output_type": "stream",
     "text": [
      "0.8889391299908243\n"
     ]
    }
   ],
   "source": [
    "rf = RandomForestRegressor()\n",
    "rf.fit(X_train, y_train)\n",
    "print(rf.score(X_test, y_test))"
   ]
  },
  {
   "cell_type": "code",
   "execution_count": 10,
   "metadata": {},
   "outputs": [
    {
     "name": "stdout",
     "output_type": "stream",
     "text": [
      "0.9001474319612266\n"
     ]
    }
   ],
   "source": [
    "xgb = XGBRegressor()\n",
    "xgb.fit(X_train, y_train)\n",
    "print(xgb.score(X_test, y_test))"
   ]
  },
  {
   "cell_type": "code",
   "execution_count": 11,
   "metadata": {},
   "outputs": [
    {
     "name": "stdout",
     "output_type": "stream",
     "text": [
      "DCT RMSE:  0.02437900691431946\n",
      "RF RMSE:  2.628788089063488\n",
      "XGB RMSE:  5.283890281072964\n"
     ]
    }
   ],
   "source": [
    "print('DCT RMSE: ', np.sqrt(mean_squared_error(y_train, dt.predict(X_train))))\n",
    "print('RF RMSE: ', np.sqrt(mean_squared_error(y_train, rf.predict(X_train))))\n",
    "print('XGB RMSE: ', np.sqrt(mean_squared_error(y_train, xgb.predict(X_train))))"
   ]
  },
  {
   "cell_type": "code",
   "execution_count": 12,
   "metadata": {},
   "outputs": [
    {
     "name": "stdout",
     "output_type": "stream",
     "text": [
      "DCT RMSE:  10.082578332522457\n",
      "RF RMSE:  6.99047762608153\n",
      "XGB RMSE:  6.628357648394856\n"
     ]
    }
   ],
   "source": [
    "print('DCT RMSE: ', np.sqrt(mean_squared_error(y_test, dt.predict(X_test))))\n",
    "print('RF RMSE: ', np.sqrt(mean_squared_error(y_test, rf.predict(X_test))))\n",
    "print('XGB RMSE: ', np.sqrt(mean_squared_error(y_test, xgb.predict(X_test))))"
   ]
  },
  {
   "cell_type": "code",
   "execution_count": 13,
   "metadata": {},
   "outputs": [
    {
     "name": "stdout",
     "output_type": "stream",
     "text": [
      "{\"learner\":{\"generic_param\":{\"device\":\"cpu\",\"fail_on_invalid_gpu_id\":\"0\",\"n_jobs\":\"0\",\"nthread\":\"0\",\"random_state\":\"0\",\"seed\":\"0\",\"seed_per_iteration\":\"0\",\"validate_parameters\":\"1\"},\"gradient_booster\":{\"gbtree_model_param\":{\"num_parallel_tree\":\"1\",\"num_trees\":\"100\"},\"gbtree_train_param\":{\"process_type\":\"default\",\"tree_method\":\"auto\",\"updater\":\"grow_quantile_histmaker\",\"updater_seq\":\"grow_quantile_histmaker\"},\"name\":\"gbtree\",\"specified_updater\":false,\"tree_train_param\":{\"alpha\":\"0\",\"cache_opt\":\"1\",\"colsample_bylevel\":\"1\",\"colsample_bynode\":\"1\",\"colsample_bytree\":\"1\",\"eta\":\"0.300000012\",\"gamma\":\"0\",\"grow_policy\":\"depthwise\",\"interaction_constraints\":\"\",\"lambda\":\"1\",\"learning_rate\":\"0.300000012\",\"max_bin\":\"256\",\"max_cat_threshold\":\"64\",\"max_cat_to_onehot\":\"4\",\"max_delta_step\":\"0\",\"max_depth\":\"6\",\"max_leaves\":\"0\",\"min_child_weight\":\"1\",\"min_split_loss\":\"0\",\"monotone_constraints\":\"()\",\"refresh_leaf\":\"1\",\"reg_alpha\":\"0\",\"reg_lambda\":\"1\",\"sampling_method\":\"uniform\",\"sketch_ratio\":\"2\",\"sparse_threshold\":\"0.20000000000000001\",\"subsample\":\"1\"},\"updater\":[{\"hist_train_param\":{\"debug_synchronize\":\"0\",\"max_cached_hist_node\":\"65536\"},\"name\":\"grow_quantile_histmaker\"}]},\"learner_model_param\":{\"base_score\":\"1.3336835E2\",\"boost_from_average\":\"1\",\"num_class\":\"0\",\"num_feature\":\"93\",\"num_target\":\"1\"},\"learner_train_param\":{\"booster\":\"gbtree\",\"disable_default_eval_metric\":\"0\",\"multi_strategy\":\"one_output_per_tree\",\"objective\":\"reg:squarederror\"},\"metrics\":[{\"name\":\"rmse\"}],\"objective\":{\"name\":\"reg:squarederror\",\"reg_loss_param\":{\"scale_pos_weight\":\"1\"}}},\"version\":[2,0,3]}\n"
     ]
    }
   ],
   "source": [
    "print(xgb.get_booster().save_config())"
   ]
  },
  {
   "cell_type": "code",
   "execution_count": 16,
   "metadata": {},
   "outputs": [
    {
     "name": "stdout",
     "output_type": "stream",
     "text": [
      "0.9026601695950269\n"
     ]
    }
   ],
   "source": [
    "xgb_tuning = GridSearchCV(XGBRegressor(random_state=42), \n",
    "                          param_grid = {'n_estimators': [50, 100]\n",
    "                                        , 'max_depth': [5, 8]\n",
    "                                        , 'learning_rate': [0.2, 0.3, 0.4]\n",
    "                                        , 'min_child_weight': [1, 3, 5]\n",
    "                                        #, 'subsample': [0.8, 1.0]\n",
    "                                        #, 'colsample_bytree': [0.8, 1.0]\n",
    "                                        #, 'gamma': [0, 0.1, 0.2],  \n",
    "                                    }, \n",
    "                          cv=3, n_jobs=-1, \n",
    "                          scoring='r2')\n",
    "\n",
    "xgb_tuning.fit(X_train, y_train)\n",
    "\n",
    "print(xgb_tuning.best_score_)\n",
    "best_xgb = xgb_tuning.best_estimator_"
   ]
  },
  {
   "cell_type": "code",
   "execution_count": 19,
   "metadata": {},
   "outputs": [
    {
     "name": "stdout",
     "output_type": "stream",
     "text": [
      "train XGB RMSE:  5.853729883553944\n",
      "test XGB RMSE:  6.398063573259226\n"
     ]
    }
   ],
   "source": [
    "print('train XGB RMSE: ', np.sqrt(mean_squared_error(y_train, best_xgb.predict(X_train))))\n",
    "print('test XGB RMSE: ', np.sqrt(mean_squared_error(y_test, best_xgb.predict(X_test))))"
   ]
  },
  {
   "cell_type": "code",
   "execution_count": 22,
   "metadata": {},
   "outputs": [
    {
     "data": {
      "text/plain": [
       "{'learning_rate': 0.2,\n",
       " 'max_depth': 5,\n",
       " 'min_child_weight': 5,\n",
       " 'n_estimators': 100}"
      ]
     },
     "execution_count": 22,
     "metadata": {},
     "output_type": "execute_result"
    }
   ],
   "source": [
    "xgb_tuning.best_params_"
   ]
  },
  {
   "cell_type": "code",
   "execution_count": 25,
   "metadata": {},
   "outputs": [
    {
     "name": "stdout",
     "output_type": "stream",
     "text": [
      "0.9058513848828862\n",
      "{'learning_rate': 0.05, 'max_depth': 5, 'min_child_weight': 5, 'n_estimators': 200}\n"
     ]
    }
   ],
   "source": [
    "# refining\n",
    "xgb_refine = GridSearchCV(XGBRegressor(random_state=42), \n",
    "                          param_grid = {'n_estimators': [100, 150, 200]\n",
    "                                        , 'max_depth': [5, 7]\n",
    "                                        , 'learning_rate': [0.02, 0.05, 0.1]\n",
    "                                        , 'min_child_weight': [5, 7]\n",
    "                                        #, 'subsample': [0.8, 1.0]\n",
    "                                        #, 'colsample_bytree': [0.8, 1.0]\n",
    "                                        #, 'gamma': [0, 0.1, 0.2],  \n",
    "                                    }, \n",
    "                          cv=3, n_jobs=-1, \n",
    "                          scoring='r2')\n",
    "\n",
    "xgb_refine.fit(X_train, y_train)\n",
    "\n",
    "print(xgb_refine.best_score_)\n",
    "print(xgb_refine.best_params_)\n",
    "best_xgb = xgb_refine.best_estimator_"
   ]
  },
  {
   "cell_type": "code",
   "execution_count": 26,
   "metadata": {},
   "outputs": [
    {
     "name": "stdout",
     "output_type": "stream",
     "text": [
      "train XGB RMSE:  5.986243910385184\n",
      "test XGB RMSE:  6.327345421394047\n"
     ]
    }
   ],
   "source": [
    "print('train XGB RMSE: ', np.sqrt(mean_squared_error(y_train, best_xgb.predict(X_train))))\n",
    "print('test XGB RMSE: ', np.sqrt(mean_squared_error(y_test, best_xgb.predict(X_test))))"
   ]
  },
  {
   "cell_type": "markdown",
   "metadata": {},
   "source": [
    "- The estimated credit score, generated through various modeling approaches, achieved a best R² score of approximately 0.9 and an RMSE of around 6. Given that the credit score scale ranges from 300 to 900, this level of error is not severe. \n",
    "\n",
    "- The slight inaccuracy in estimation may indicate that CIBIL incorporates additional attributes in its credit score formulation, or that exploring different algorithms could improve generalization.\n",
    "\n",
    "- Based on the achieved accuracy and manageable error margin, the formulated credit score demonstrates potential as a reliable alternative to the CIBIL-provided credit score for credit risk classification. Following has been explored in [`explore3_model.ipynb`](explore3_model.ipynb)."
   ]
  }
 ],
 "metadata": {
  "kernelspec": {
   "display_name": "base",
   "language": "python",
   "name": "python3"
  },
  "language_info": {
   "codemirror_mode": {
    "name": "ipython",
    "version": 3
   },
   "file_extension": ".py",
   "mimetype": "text/x-python",
   "name": "python",
   "nbconvert_exporter": "python",
   "pygments_lexer": "ipython3",
   "version": "3.8.19"
  }
 },
 "nbformat": 4,
 "nbformat_minor": 2
}
