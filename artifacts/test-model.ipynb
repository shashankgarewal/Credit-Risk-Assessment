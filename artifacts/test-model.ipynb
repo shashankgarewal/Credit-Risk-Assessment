{
 "cells": [
  {
   "cell_type": "code",
   "execution_count": null,
   "id": "8321cacb-b91c-42ca-b816-cb825c0bd9a9",
   "metadata": {},
   "outputs": [],
   "source": [
    "## IMPORT LIBRARIES\n",
    "# os level\n",
    "import warnings\n",
    "import os\n",
    "\n",
    "# data handling\n",
    "import pandas as pd\n",
    "import numpy as np\n",
    "import pickle\n",
    "\n",
    "# visulization\n",
    "import matplotlib.pyplot as plt\n",
    "import seaborn as sns\n",
    "\n",
    "# feature engineering\n",
    "from sklearn.model_selection import train_test_split\n",
    "from sklearn.preprocessing import LabelEncoder\n",
    "\n",
    "# modeling\n",
    "from sklearn.tree import DecisionTreeClassifier\n",
    "from sklearn.ensemble import RandomForestClassifier\n",
    "from sklearn.svm import SVC\n",
    "from xgboost import XGBClassifier\n",
    "\n",
    "# evaluation\n",
    "from sklearn.metrics import confusion_matrix\n",
    "from sklearn.metrics import accuracy_score, classification_report, precision_recall_fscore_support"
   ]
  },
  {
   "cell_type": "code",
   "execution_count": null,
   "id": "50a0de68-5947-4049-8d70-22fa0d151cf3",
   "metadata": {},
   "outputs": [],
   "source": [
    "df = pickle.load(open('artifacts\\processed_data.pkl','rb'))"
   ]
  },
  {
   "cell_type": "code",
   "execution_count": null,
   "id": "a532f1e2-320c-4ebd-87ba-549e6a6c52cf",
   "metadata": {},
   "outputs": [
    {
     "data": {
      "text/html": [
       "<div>\n",
       "<style scoped>\n",
       "    .dataframe tbody tr th:only-of-type {\n",
       "        vertical-align: middle;\n",
       "    }\n",
       "\n",
       "    .dataframe tbody tr th {\n",
       "        vertical-align: top;\n",
       "    }\n",
       "\n",
       "    .dataframe thead th {\n",
       "        text-align: right;\n",
       "    }\n",
       "</style>\n",
       "<table border=\"1\" class=\"dataframe\">\n",
       "  <thead>\n",
       "    <tr style=\"text-align: right;\">\n",
       "      <th></th>\n",
       "      <th>Total_TL_opened_L6M</th>\n",
       "      <th>pct_tl_closed_L6M</th>\n",
       "      <th>pct_tl_open_L12M</th>\n",
       "      <th>pct_tl_closed_L12M</th>\n",
       "      <th>Tot_Missed_Pmnt</th>\n",
       "      <th>CC_TL</th>\n",
       "      <th>Home_TL</th>\n",
       "      <th>PL_TL</th>\n",
       "      <th>Secured_TL</th>\n",
       "      <th>Unsecured_TL</th>\n",
       "      <th>...</th>\n",
       "      <th>last_prod_enq2_ConsumerLoan</th>\n",
       "      <th>last_prod_enq2_HL</th>\n",
       "      <th>last_prod_enq2_PL</th>\n",
       "      <th>last_prod_enq2_others</th>\n",
       "      <th>first_prod_enq2_AL</th>\n",
       "      <th>first_prod_enq2_CC</th>\n",
       "      <th>first_prod_enq2_ConsumerLoan</th>\n",
       "      <th>first_prod_enq2_HL</th>\n",
       "      <th>first_prod_enq2_PL</th>\n",
       "      <th>first_prod_enq2_others</th>\n",
       "    </tr>\n",
       "  </thead>\n",
       "  <tbody>\n",
       "    <tr>\n",
       "      <th>0</th>\n",
       "      <td>0</td>\n",
       "      <td>0.0</td>\n",
       "      <td>0.00</td>\n",
       "      <td>0.000</td>\n",
       "      <td>0</td>\n",
       "      <td>0</td>\n",
       "      <td>0</td>\n",
       "      <td>4</td>\n",
       "      <td>1</td>\n",
       "      <td>4</td>\n",
       "      <td>...</td>\n",
       "      <td>False</td>\n",
       "      <td>False</td>\n",
       "      <td>True</td>\n",
       "      <td>False</td>\n",
       "      <td>False</td>\n",
       "      <td>False</td>\n",
       "      <td>False</td>\n",
       "      <td>False</td>\n",
       "      <td>True</td>\n",
       "      <td>False</td>\n",
       "    </tr>\n",
       "    <tr>\n",
       "      <th>1</th>\n",
       "      <td>0</td>\n",
       "      <td>0.0</td>\n",
       "      <td>1.00</td>\n",
       "      <td>0.000</td>\n",
       "      <td>0</td>\n",
       "      <td>0</td>\n",
       "      <td>0</td>\n",
       "      <td>0</td>\n",
       "      <td>0</td>\n",
       "      <td>1</td>\n",
       "      <td>...</td>\n",
       "      <td>True</td>\n",
       "      <td>False</td>\n",
       "      <td>False</td>\n",
       "      <td>False</td>\n",
       "      <td>False</td>\n",
       "      <td>False</td>\n",
       "      <td>True</td>\n",
       "      <td>False</td>\n",
       "      <td>False</td>\n",
       "      <td>False</td>\n",
       "    </tr>\n",
       "    <tr>\n",
       "      <th>2</th>\n",
       "      <td>1</td>\n",
       "      <td>0.0</td>\n",
       "      <td>0.25</td>\n",
       "      <td>0.000</td>\n",
       "      <td>1</td>\n",
       "      <td>0</td>\n",
       "      <td>0</td>\n",
       "      <td>0</td>\n",
       "      <td>2</td>\n",
       "      <td>6</td>\n",
       "      <td>...</td>\n",
       "      <td>True</td>\n",
       "      <td>False</td>\n",
       "      <td>False</td>\n",
       "      <td>False</td>\n",
       "      <td>False</td>\n",
       "      <td>False</td>\n",
       "      <td>False</td>\n",
       "      <td>False</td>\n",
       "      <td>False</td>\n",
       "      <td>True</td>\n",
       "    </tr>\n",
       "    <tr>\n",
       "      <th>4</th>\n",
       "      <td>0</td>\n",
       "      <td>0.0</td>\n",
       "      <td>0.00</td>\n",
       "      <td>0.000</td>\n",
       "      <td>0</td>\n",
       "      <td>0</td>\n",
       "      <td>0</td>\n",
       "      <td>0</td>\n",
       "      <td>3</td>\n",
       "      <td>0</td>\n",
       "      <td>...</td>\n",
       "      <td>False</td>\n",
       "      <td>False</td>\n",
       "      <td>False</td>\n",
       "      <td>False</td>\n",
       "      <td>True</td>\n",
       "      <td>False</td>\n",
       "      <td>False</td>\n",
       "      <td>False</td>\n",
       "      <td>False</td>\n",
       "      <td>False</td>\n",
       "    </tr>\n",
       "    <tr>\n",
       "      <th>5</th>\n",
       "      <td>0</td>\n",
       "      <td>0.0</td>\n",
       "      <td>0.00</td>\n",
       "      <td>0.167</td>\n",
       "      <td>0</td>\n",
       "      <td>0</td>\n",
       "      <td>0</td>\n",
       "      <td>0</td>\n",
       "      <td>6</td>\n",
       "      <td>0</td>\n",
       "      <td>...</td>\n",
       "      <td>True</td>\n",
       "      <td>False</td>\n",
       "      <td>False</td>\n",
       "      <td>False</td>\n",
       "      <td>False</td>\n",
       "      <td>False</td>\n",
       "      <td>False</td>\n",
       "      <td>False</td>\n",
       "      <td>True</td>\n",
       "      <td>False</td>\n",
       "    </tr>\n",
       "  </tbody>\n",
       "</table>\n",
       "<p>5 rows × 62 columns</p>\n",
       "</div>"
      ],
      "text/plain": [
       "   Total_TL_opened_L6M  pct_tl_closed_L6M  pct_tl_open_L12M  \\\n",
       "0                    0                0.0              0.00   \n",
       "1                    0                0.0              1.00   \n",
       "2                    1                0.0              0.25   \n",
       "4                    0                0.0              0.00   \n",
       "5                    0                0.0              0.00   \n",
       "\n",
       "   pct_tl_closed_L12M  Tot_Missed_Pmnt  CC_TL  Home_TL  PL_TL  Secured_TL  \\\n",
       "0               0.000                0      0        0      4           1   \n",
       "1               0.000                0      0        0      0           0   \n",
       "2               0.000                1      0        0      0           2   \n",
       "4               0.000                0      0        0      0           3   \n",
       "5               0.167                0      0        0      0           6   \n",
       "\n",
       "   Unsecured_TL  ...  last_prod_enq2_ConsumerLoan  last_prod_enq2_HL  \\\n",
       "0             4  ...                        False              False   \n",
       "1             1  ...                         True              False   \n",
       "2             6  ...                         True              False   \n",
       "4             0  ...                        False              False   \n",
       "5             0  ...                         True              False   \n",
       "\n",
       "   last_prod_enq2_PL  last_prod_enq2_others  first_prod_enq2_AL  \\\n",
       "0               True                  False               False   \n",
       "1              False                  False               False   \n",
       "2              False                  False               False   \n",
       "4              False                  False                True   \n",
       "5              False                  False               False   \n",
       "\n",
       "   first_prod_enq2_CC  first_prod_enq2_ConsumerLoan  first_prod_enq2_HL  \\\n",
       "0               False                         False               False   \n",
       "1               False                          True               False   \n",
       "2               False                         False               False   \n",
       "4               False                         False               False   \n",
       "5               False                         False               False   \n",
       "\n",
       "   first_prod_enq2_PL  first_prod_enq2_others  \n",
       "0                True                   False  \n",
       "1               False                   False  \n",
       "2               False                    True  \n",
       "4               False                   False  \n",
       "5                True                   False  \n",
       "\n",
       "[5 rows x 62 columns]"
      ]
     },
     "execution_count": 3,
     "metadata": {},
     "output_type": "execute_result"
    }
   ],
   "source": [
    "df.head()"
   ]
  },
  {
   "cell_type": "code",
   "execution_count": null,
   "id": "14cb78a5-741f-468e-acd1-5d0a10b16455",
   "metadata": {},
   "outputs": [
    {
     "name": "stdout",
     "output_type": "stream",
     "text": [
      "(42064, 62)\n"
     ]
    }
   ],
   "source": [
    "print(df.shape)"
   ]
  },
  {
   "cell_type": "code",
   "execution_count": null,
   "id": "05ee5150-a8fe-4921-a61f-f715adaf09b0",
   "metadata": {},
   "outputs": [
    {
     "data": {
      "text/plain": [
       "Index(['Total_TL_opened_L6M', 'pct_tl_closed_L6M', 'pct_tl_open_L12M',\n",
       "       'pct_tl_closed_L12M', 'Tot_Missed_Pmnt', 'CC_TL', 'Home_TL', 'PL_TL',\n",
       "       'Secured_TL', 'Unsecured_TL', 'Other_TL', 'Age_Oldest_TL',\n",
       "       'Age_Newest_TL', 'time_since_recent_payment',\n",
       "       'time_since_recent_deliquency', 'num_times_delinquent',\n",
       "       'max_delinquency_level', 'num_deliq_6_12mts', 'max_deliq_6mts',\n",
       "       'max_deliq_12mts', 'num_times_60p_dpd', 'num_sub', 'num_sub_6mts',\n",
       "       'num_sub_12mts', 'num_dbt', 'num_dbt_6mts', 'num_lss', 'num_lss_6mts',\n",
       "       'recent_level_of_deliq', 'CC_enq', 'CC_enq_L6m', 'PL_enq_L12m',\n",
       "       'time_since_recent_enq', 'enq_L3m', 'NETMONTHLYINCOME',\n",
       "       'Time_With_Curr_Empr', 'pct_currentBal_all_TL', 'CC_Flag', 'PL_Flag',\n",
       "       'pct_PL_enq_L6m_of_ever', 'pct_CC_enq_L6m_of_ever', 'HL_Flag',\n",
       "       'GL_Flag', 'EDUCATION', 'PROSPECTID', 'Approved_Flag',\n",
       "       'MARITALSTATUS_Married', 'MARITALSTATUS_Single', 'GENDER_F', 'GENDER_M',\n",
       "       'last_prod_enq2_AL', 'last_prod_enq2_CC', 'last_prod_enq2_ConsumerLoan',\n",
       "       'last_prod_enq2_HL', 'last_prod_enq2_PL', 'last_prod_enq2_others',\n",
       "       'first_prod_enq2_AL', 'first_prod_enq2_CC',\n",
       "       'first_prod_enq2_ConsumerLoan', 'first_prod_enq2_HL',\n",
       "       'first_prod_enq2_PL', 'first_prod_enq2_others'],\n",
       "      dtype='object')"
      ]
     },
     "execution_count": 5,
     "metadata": {},
     "output_type": "execute_result"
    }
   ],
   "source": [
    "df.columns"
   ]
  },
  {
   "cell_type": "code",
   "execution_count": null,
   "id": "71b5d011-162b-46f8-95e5-2f09dbf10a22",
   "metadata": {},
   "outputs": [],
   "source": [
    "df_model, df_unseen = train_test_split(df, test_size=0.01, random_state=42)"
   ]
  },
  {
   "cell_type": "code",
   "execution_count": null,
   "id": "20b29e48-d548-434c-9233-19b4d8049b15",
   "metadata": {},
   "outputs": [
    {
     "ename": "SyntaxError",
     "evalue": "(unicode error) 'unicodeescape' codec can't decode bytes in position 9-10: truncated \\uXXXX escape (<ipython-input-7-e31ff670a16b>, line 1)",
     "output_type": "error",
     "traceback": [
      "\u001b[1;36m  Cell \u001b[1;32mIn[7], line 1\u001b[1;36m\u001b[0m\n\u001b[1;33m    pickle.dump(df_model, open('artifacts\\unseen_data.pkl','wb'))\u001b[0m\n\u001b[1;37m                               ^\u001b[0m\n\u001b[1;31mSyntaxError\u001b[0m\u001b[1;31m:\u001b[0m (unicode error) 'unicodeescape' codec can't decode bytes in position 9-10: truncated \\uXXXX escape\n"
     ]
    }
   ],
   "source": [
    "pickle.dump(df_model, open('artifacts\\unseen_data.pkl','wb'))"
   ]
  },
  {
   "cell_type": "code",
   "execution_count": null,
   "id": "edbe31fc-efd0-4543-9679-9a3231016650",
   "metadata": {},
   "outputs": [],
   "source": [
    "pickle.dump(df_model, open(r'artifacts\\unseen_data.pkl','wb'))"
   ]
  },
  {
   "cell_type": "code",
   "execution_count": null,
   "id": "130e728b-59d4-4dc6-983b-fa88332839d4",
   "metadata": {},
   "outputs": [],
   "source": [
    "# Feature Engineering\n",
    "X_train, X_test, y_train, y_test = train_test_split(df_model.drop(['Approved_Flag', 'PROSPECTID'], axis=1), \n",
    "                                                    df_model['Approved_Flag'], test_size=0.2, \n",
    "                                                    random_state=42)\n",
    "\n",
    "df_model['Approved_Flag'].value_counts()\n",
    "df_unseen['Approved_Flag'].value_counts()\n",
    "\n",
    "label_encoder = LabelEncoder()\n",
    "y_train_enc = label_encoder.fit_transform(y_train)\n",
    "y_test_enc = label_encoder.transform(y_test)"
   ]
  },
  {
   "cell_type": "code",
   "execution_count": null,
   "id": "875e6b7d-e221-4aef-b353-58c2785dd70b",
   "metadata": {},
   "outputs": [
    {
     "name": "stdout",
     "output_type": "stream",
     "text": [
      "accuracy 0.764437507503902\n",
      "p1 class:\n",
      "precision: 0.8007075471698113\n",
      "recall: 0.6886409736308317\n",
      "f1score: 0.7404580152671756\n",
      "p2 class:\n",
      "precision: 0.8135654046294635\n",
      "recall: 0.9108075532342306\n",
      "f1score: 0.8594446024073548\n",
      "p3 class:\n",
      "precision: 0.4330357142857143\n",
      "recall: 0.29573170731707316\n",
      "f1score: 0.3514492753623188\n",
      "p4 class:\n",
      "precision: 0.7569169960474308\n",
      "recall: 0.7274453941120608\n",
      "f1score: 0.7418886198547215\n"
     ]
    }
   ],
   "source": [
    "## Base Model\n",
    "xgb = XGBClassifier(n_estimators=200, n_jobs=-1, verbosity=2, random_state=42)\n",
    "xgb.fit(X_train, y_train_enc)\n",
    "print('accuracy', xgb.score(X_test, y_test_enc))\n",
    "precision, recall, f1, _ = precision_recall_fscore_support(y_test_enc, xgb.predict(X_test))\n",
    "# base performance\n",
    "for i, label in enumerate(['p1', 'p2', 'p3', 'p4']):\n",
    "    print(label, 'class:')\n",
    "    print('precision:', precision[i])\n",
    "    print('recall:', recall[i])\n",
    "    print('f1score:', f1[i])"
   ]
  },
  {
   "cell_type": "code",
   "execution_count": null,
   "id": "7cbca3c0-992b-4c8a-966e-b5c93d13bb14",
   "metadata": {},
   "outputs": [],
   "source": [
    "# P2 vs Rest data\n",
    "y_train_p2rest = (y_train_enc == 2).astype(int)\n",
    "y_test_p2rest = (y_test_enc == 2).astype(int)"
   ]
  },
  {
   "cell_type": "code",
   "execution_count": null,
   "id": "38ab2219-85e0-4dd3-8668-4d32f65caaa2",
   "metadata": {},
   "outputs": [
    {
     "name": "stdout",
     "output_type": "stream",
     "text": [
      "P3 vs Rest model accuracy: 0.8317925321167007\n",
      "Rest class:\n",
      "precision: 0.8576158940397351\n",
      "recall: 0.9596693743765142\n",
      "f1score: 0.905777120182931\n",
      "P3 class:\n",
      "precision: 0.40670859538784065\n",
      "recall: 0.14786585365853658\n",
      "f1score: 0.21688093907210731\n"
     ]
    }
   ],
   "source": [
    "# xgb without weights for feature\n",
    "xgb = XGBClassifier(n_jobs=-1, verbosity=2, random_state=42)\n",
    "xgb.fit(X_train, y_train_p2rest)\n",
    "xgb.score(X_test, y_test_p2rest)\n",
    "print('P3 vs Rest model accuracy:', xgb.score(X_test, y_test_p2rest))\n",
    "precision, recall, f1, _ = precision_recall_fscore_support(y_test_p2rest, xgb.predict(X_test))\n",
    "for i, label in enumerate(['Rest', 'P3']):\n",
    "    print(label, 'class:')\n",
    "    print('precision:', precision[i])\n",
    "    print('recall:', recall[i])\n",
    "    print('f1score:', f1[i])"
   ]
  },
  {
   "cell_type": "code",
   "execution_count": null,
   "id": "0bddb187-5657-45dc-a651-efc0153c499b",
   "metadata": {},
   "outputs": [],
   "source": [
    "# P2 vs Rest data\n",
    "y_train_p2rest = (y_train_enc == 1).astype(int)\n",
    "y_test_p2rest = (y_test_enc == 1).astype(int)"
   ]
  },
  {
   "cell_type": "code",
   "execution_count": null,
   "id": "a02301bb-20a6-4f21-9d7b-7ab332baa4a6",
   "metadata": {},
   "outputs": [],
   "source": [
    "# P2 vs Rest data\n",
    "y_train_p2rest = (y_train == 'P2').astype(int)\n",
    "y_test_p2rest = (y_test == 'P2').astype(int)"
   ]
  },
  {
   "cell_type": "code",
   "execution_count": null,
   "id": "6e4f8058-cb6b-4575-8553-12dd31f36c70",
   "metadata": {},
   "outputs": [
    {
     "name": "stdout",
     "output_type": "stream",
     "text": [
      "P3 vs Rest model accuracy: 0.8226677872493696\n",
      "Rest class:\n",
      "precision: 0.821551132463967\n",
      "recall: 0.7144136078782453\n",
      "f1score: 0.7642458100558658\n",
      "P3 class:\n",
      "precision: 0.8232686980609418\n",
      "recall: 0.8955403776617116\n",
      "f1score: 0.8578851149812374\n"
     ]
    }
   ],
   "source": [
    "# xgb without weights for feature\n",
    "xgb = XGBClassifier(n_jobs=-1, verbosity=2, random_state=42)\n",
    "xgb.fit(X_train, y_train_p2rest)\n",
    "xgb.score(X_test, y_test_p2rest)\n",
    "print('P3 vs Rest model accuracy:', xgb.score(X_test, y_test_p2rest))\n",
    "precision, recall, f1, _ = precision_recall_fscore_support(y_test_p2rest, xgb.predict(X_test))\n",
    "for i, label in enumerate(['Rest', 'P3']):\n",
    "    print(label, 'class:')\n",
    "    print('precision:', precision[i])\n",
    "    print('recall:', recall[i])\n",
    "    print('f1score:', f1[i])"
   ]
  },
  {
   "cell_type": "code",
   "execution_count": null,
   "metadata": {},
   "outputs": [
    {
     "data": {
      "text/plain": [
       "(array([0, 1]), array([13100, 20214], dtype=int64))"
      ]
     },
     "execution_count": 18,
     "metadata": {},
     "output_type": "execute_result"
    }
   ],
   "source": [
    "np.unique(y_train_p2rest, return_counts=True)"
   ]
  },
  {
   "cell_type": "code",
   "execution_count": null,
   "metadata": {},
   "outputs": [
    {
     "data": {
      "text/plain": [
       "(array([0, 1]), array([3351, 4978], dtype=int64))"
      ]
     },
     "execution_count": 19,
     "metadata": {},
     "output_type": "execute_result"
    }
   ],
   "source": [
    "# %%\n",
    "np.unique(y_test_p2rest, return_counts=True)"
   ]
  },
  {
   "cell_type": "code",
   "execution_count": null,
   "metadata": {},
   "outputs": [
    {
     "data": {
      "text/plain": [
       "1.4855267084452402"
      ]
     },
     "execution_count": 20,
     "metadata": {},
     "output_type": "execute_result"
    }
   ],
   "source": [
    "4978/3351"
   ]
  },
  {
   "cell_type": "code",
   "execution_count": null,
   "metadata": {},
   "outputs": [
    {
     "data": {
      "text/plain": [
       "1.5430534351145038"
      ]
     },
     "execution_count": 21,
     "metadata": {},
     "output_type": "execute_result"
    }
   ],
   "source": [
    "20214/13100"
   ]
  },
  {
   "cell_type": "code",
   "execution_count": null,
   "id": "0dbbcaa6-264a-43ca-886b-75635f053e37",
   "metadata": {},
   "outputs": [
    {
     "name": "stdout",
     "output_type": "stream",
     "text": [
      "f1score: 0.8578851149812374\n"
     ]
    }
   ],
   "source": [
    "print('f1score:', f1[i])"
   ]
  },
  {
   "cell_type": "code",
   "execution_count": null,
   "id": "3f3ae2c9-9791-4c69-a91f-e3274b8a78fa",
   "metadata": {},
   "outputs": [
    {
     "name": "stdout",
     "output_type": "stream",
     "text": [
      "P3 vs Rest model accuracy: 0.8062192340016808\n",
      "Rest class:\n",
      "precision: 0.8725868725868726\n",
      "recall: 0.6069829901521934\n",
      "f1score: 0.7159450897571277\n",
      "P3 class:\n",
      "precision: 0.7804268089363121\n",
      "recall: 0.9403374849337083\n",
      "f1score: 0.8529518950437318\n"
     ]
    }
   ],
   "source": [
    "# xgb with custom weights for feature\n",
    "weights = y_test_p2rest.map({0: 1, 1: 1.5})  # Custom weights\n",
    "scale_weights = (weights.sum() / weights[weights == 1].sum())\n",
    "\n",
    "xgb_p2rest_weight = XGBClassifier(scale_pos_weight=scale_weights, n_estimators=200, \n",
    "                    n_jobs=-1, verbosity=2, random_state=42)\n",
    "xgb_p2rest_weight.fit(X_train, y_train_p2rest)\n",
    "print('P3 vs Rest model accuracy:', xgb_p2rest_weight.score(X_test, y_test_p2rest))\n",
    "precision, recall, f1, _ = precision_recall_fscore_support(y_test_p2rest, xgb_p2rest_weight.predict(X_test))\n",
    "for i, label in enumerate(['Rest', 'P3']):\n",
    "    print(label, 'class:')\n",
    "    print('precision:', precision[i])\n",
    "    print('recall:', recall[i])\n",
    "    print('f1score:', f1[i])"
   ]
  },
  {
   "cell_type": "code",
   "execution_count": null,
   "id": "82f4746b-ed3c-426b-941f-8c35da3b7c95",
   "metadata": {},
   "outputs": [
    {
     "name": "stdout",
     "output_type": "stream",
     "text": [
      "P3 vs Rest model accuracy: 0.8226677872493696\n",
      "Rest class:\n",
      "precision: 0.821551132463967\n",
      "recall: 0.7144136078782453\n",
      "f1score: 0.7642458100558658\n",
      "P3 class:\n",
      "precision: 0.8232686980609418\n",
      "recall: 0.8955403776617116\n",
      "f1score: 0.8578851149812374\n"
     ]
    }
   ],
   "source": [
    "# xgb without weights for feature\n",
    "xgb_p2rest_unweigh = XGBClassifier(n_jobs=-1, verbosity=2, random_state=42)\n",
    "xgb_p2rest_unweigh.fit(X_train, y_train_p2rest)\n",
    "print('P3 vs Rest model accuracy:', xgb_p2rest_unweigh.score(X_test, y_test_p2rest))\n",
    "precision, recall, f1, _ = precision_recall_fscore_support(y_test_p2rest, xgb_p2rest_unweigh.predict(X_test))\n",
    "for i, label in enumerate(['Rest', 'P3']):\n",
    "    print(label, 'class:')\n",
    "    print('precision:', precision[i])\n",
    "    print('recall:', recall[i])\n",
    "    print('f1score:', f1[i])"
   ]
  },
  {
   "cell_type": "code",
   "execution_count": null,
   "id": "dd77c3b7-9874-4795-93ab-b3a36fabb750",
   "metadata": {},
   "outputs": [
    {
     "name": "stdout",
     "output_type": "stream",
     "text": [
      "0.5976707888101813\n",
      "P3 vs Rest model accuracy: 0.5976707888101813\n",
      "Rest class:\n",
      "precision: 0.5\n",
      "recall: 0.003282602208296031\n",
      "f1score: 0.006522383634746516\n",
      "P3 class:\n",
      "precision: 0.5979294570843866\n",
      "recall: 0.997790277219767\n",
      "f1score: 0.7477606322920587\n"
     ]
    }
   ],
   "source": [
    "# svc\n",
    "svc = SVC()\n",
    "svc.fit(X_train, y_train_p2rest)\n",
    "print(svc.score(X_test, y_test_p2rest))\n",
    "precision, recall, f1, _ = precision_recall_fscore_support(y_test_p2rest, svc.predict(X_test))\n",
    "print('P3 vs Rest model accuracy:', accuracy_score(y_test_p2rest, svc.predict(X_test)))\n",
    "for i, label in enumerate(['Rest', 'P3']):\n",
    "    print(label, 'class:')\n",
    "    print('precision:', precision[i])\n",
    "    print('recall:', recall[i])\n",
    "    print('f1score:', f1[i])"
   ]
  },
  {
   "cell_type": "code",
   "execution_count": null,
   "id": "62e951c0-375d-436e-a6d1-8b56a6a5fd1c",
   "metadata": {},
   "outputs": [],
   "source": [
    "from imblearn.over_sampling import BorderlineSMOTE"
   ]
  },
  {
   "cell_type": "code",
   "execution_count": null,
   "id": "c8986c4b-24c7-4aea-bb61-fdcdf5046db5",
   "metadata": {},
   "outputs": [],
   "source": [
    "borderline_smote = BorderlineSMOTE(random_state=42)"
   ]
  },
  {
   "cell_type": "code",
   "execution_count": null,
   "id": "ca0be1a8-7460-4048-88c7-569d8869a3b8",
   "metadata": {},
   "outputs": [],
   "source": [
    "X_resampled, y_resampled = borderline_smote.fit_resample(X_train, y_train_p2rest)"
   ]
  },
  {
   "cell_type": "code",
   "execution_count": null,
   "id": "c646e5de-e061-4721-bc9b-18379a982388",
   "metadata": {},
   "outputs": [
    {
     "name": "stdout",
     "output_type": "stream",
     "text": [
      "P3 vs Rest model accuracy: 0.8259094729259214\n",
      "Rest class:\n",
      "precision: 0.8184254606365159\n",
      "recall: 0.7290361086242912\n",
      "f1score: 0.77114898989899\n",
      "P3 class:\n",
      "precision: 0.8300898203592815\n",
      "recall: 0.8911209321012454\n",
      "f1score: 0.8595233481883355\n"
     ]
    }
   ],
   "source": [
    "# xgb without weights for feature\n",
    "xgb_p2rest_bal = XGBClassifier(n_jobs=-1, verbosity=2, random_state=42)\n",
    "xgb_p2rest_bal.fit(X_resampled, y_resampled)\n",
    "print('P3 vs Rest model accuracy:', xgb_p2rest_bal.score(X_test, y_test_p2rest))\n",
    "precision, recall, f1, _ = precision_recall_fscore_support(y_test_p2rest, xgb_p2rest_bal.predict(X_test))\n",
    "for i, label in enumerate(['Rest', 'P3']):\n",
    "    print(label, 'class:')\n",
    "    print('precision:', precision[i])\n",
    "    print('recall:', recall[i])\n",
    "    print('f1score:', f1[i])"
   ]
  },
  {
   "cell_type": "code",
   "execution_count": null,
   "id": "2ef080b1-2227-4396-9e55-7e4818da0fa4",
   "metadata": {},
   "outputs": [
    {
     "name": "stdout",
     "output_type": "stream",
     "text": [
      "P3 vs Rest model accuracy: 0.8259094729259214\n",
      "Rest class:\n",
      "precision: 0.8184254606365159\n",
      "recall: 0.7290361086242912\n",
      "f1score: 0.77114898989899\n",
      "P3 class:\n",
      "precision: 0.8300898203592815\n",
      "recall: 0.8911209321012454\n",
      "f1score: 0.8595233481883355\n"
     ]
    }
   ],
   "source": [
    "# xgb on balanced data\n",
    "xgb_p2rest_bal = XGBClassifier(n_jobs=-1, verbosity=2, random_state=42)\n",
    "xgb_p2rest_bal.fit(X_resampled, y_resampled)\n",
    "print('P3 vs Rest model accuracy:', xgb_p2rest_bal.score(X_test, y_test_p2rest))\n",
    "precision, recall, f1, _ = precision_recall_fscore_support(y_test_p2rest, xgb_p2rest_bal.predict(X_test))\n",
    "for i, label in enumerate(['Rest', 'P3']):\n",
    "    print(label, 'class:')\n",
    "    print('precision:', precision[i])\n",
    "    print('recall:', recall[i])\n",
    "    print('f1score:', f1[i])"
   ]
  },
  {
   "cell_type": "code",
   "execution_count": null,
   "metadata": {},
   "outputs": [
    {
     "name": "stdout",
     "output_type": "stream",
     "text": [
      "After ADASYN: {0: 19872, 1: 20214}\n"
     ]
    }
   ],
   "source": [
    "from imblearn.over_sampling import ADASYN\n",
    "\n",
    "# Apply ADASYN\n",
    "adasyn = ADASYN(random_state=42)\n",
    "X_resampled, y_resampled = adasyn.fit_resample(X_train, y_train_p2rest)\n",
    "\n",
    "print(\"After ADASYN:\", dict(zip(*np.unique(y_resampled, return_counts=True))))\n"
   ]
  },
  {
   "cell_type": "code",
   "execution_count": null,
   "id": "6b7d60dc-12e7-4738-b78f-60d770ee3222",
   "metadata": {},
   "outputs": [
    {
     "name": "stdout",
     "output_type": "stream",
     "text": [
      "P3 vs Rest model accuracy: 0.8256693480609917\n",
      "Rest class:\n",
      "precision: 0.8202360876897133\n",
      "recall: 0.7257535064159952\n",
      "f1score: 0.7701076630778974\n",
      "P3 class:\n",
      "precision: 0.8286726323639075\n",
      "recall: 0.8929288871032544\n",
      "f1score: 0.8596016244440147\n"
     ]
    }
   ],
   "source": [
    "# xgb on ADASYN balanced data\n",
    "xgb_p2rest_bal = XGBClassifier(n_jobs=-1, verbosity=2, random_state=42)\n",
    "xgb_p2rest_bal.fit(X_resampled, y_resampled)\n",
    "print('P3 vs Rest model accuracy:', xgb_p2rest_bal.score(X_test, y_test_p2rest))\n",
    "precision, recall, f1, _ = precision_recall_fscore_support(y_test_p2rest, xgb_p2rest_bal.predict(X_test))\n",
    "for i, label in enumerate(['Rest', 'P3']):\n",
    "    print(label, 'class:')\n",
    "    print('precision:', precision[i])\n",
    "    print('recall:', recall[i])\n",
    "    print('f1score:', f1[i])"
   ]
  },
  {
   "cell_type": "code",
   "execution_count": null,
   "metadata": {},
   "outputs": [
    {
     "data": {
      "text/plain": [
       "(array([0, 1]), array([19872, 20214], dtype=int64))"
      ]
     },
     "execution_count": 39,
     "metadata": {},
     "output_type": "execute_result"
    }
   ],
   "source": [
    "np.unique(y_resampled, return_counts=True)"
   ]
  },
  {
   "cell_type": "code",
   "execution_count": null,
   "metadata": {},
   "outputs": [],
   "source": [
    "from imblearn.over_sampling import SMOTE\n",
    "smote = SMOTE(random_state=42)\n",
    "X_resampled, y_resampled = smote.fit_resample(X_train, y_train_p2rest)"
   ]
  },
  {
   "cell_type": "code",
   "execution_count": null,
   "id": "eb793a20-1477-4135-9d1d-a06315ad8fa3",
   "metadata": {},
   "outputs": [
    {
     "name": "stdout",
     "output_type": "stream",
     "text": [
      "P3 vs Rest model accuracy: 0.8260295353583864\n",
      "Rest class:\n",
      "precision: 0.8228105906313645\n",
      "recall: 0.7233661593554163\n",
      "f1score: 0.769890424011434\n",
      "P3 class:\n",
      "precision: 0.8277911945012075\n",
      "recall: 0.8951386098834874\n",
      "f1score: 0.8601486343017083\n"
     ]
    }
   ],
   "source": [
    "# xgb on SMOTE balanced data\n",
    "xgb_p2rest_bal = XGBClassifier(n_jobs=-1, verbosity=2, random_state=42)\n",
    "xgb_p2rest_bal.fit(X_resampled, y_resampled)\n",
    "print('P3 vs Rest model accuracy:', xgb_p2rest_bal.score(X_test, y_test_p2rest))\n",
    "precision, recall, f1, _ = precision_recall_fscore_support(y_test_p2rest, xgb_p2rest_bal.predict(X_test))\n",
    "for i, label in enumerate(['Rest', 'P3']):\n",
    "    print(label, 'class:')\n",
    "    print('precision:', precision[i])\n",
    "    print('recall:', recall[i])\n",
    "    print('f1score:', f1[i])"
   ]
  },
  {
   "cell_type": "code",
   "execution_count": null,
   "id": "79529f3d-e086-4fd8-88b6-c1ed46b12a07",
   "metadata": {},
   "outputs": [],
   "source": [
    "from sklearn.model_selection import GridSearchCV"
   ]
  },
  {
   "cell_type": "code",
   "execution_count": null,
   "metadata": {},
   "outputs": [
    {
     "data": {
      "text/plain": [
       "{'objective': 'binary:logistic',\n",
       " 'base_score': None,\n",
       " 'booster': None,\n",
       " 'colsample_bylevel': None,\n",
       " 'colsample_bynode': None,\n",
       " 'colsample_bytree': None,\n",
       " 'device': None,\n",
       " 'eval_metric': None,\n",
       " 'gamma': None,\n",
       " 'grow_policy': None,\n",
       " 'interaction_constraints': None,\n",
       " 'learning_rate': None,\n",
       " 'max_bin': None,\n",
       " 'max_cat_threshold': None,\n",
       " 'max_cat_to_onehot': None,\n",
       " 'max_delta_step': None,\n",
       " 'max_depth': None,\n",
       " 'max_leaves': None,\n",
       " 'min_child_weight': None,\n",
       " 'monotone_constraints': None,\n",
       " 'multi_strategy': None,\n",
       " 'n_jobs': -1,\n",
       " 'num_parallel_tree': None,\n",
       " 'random_state': 42,\n",
       " 'reg_alpha': None,\n",
       " 'reg_lambda': None,\n",
       " 'sampling_method': None,\n",
       " 'scale_pos_weight': None,\n",
       " 'subsample': None,\n",
       " 'tree_method': None,\n",
       " 'validate_parameters': None,\n",
       " 'verbosity': 2}"
      ]
     },
     "execution_count": 45,
     "metadata": {},
     "output_type": "execute_result"
    }
   ],
   "source": [
    "xgb_p2rest_unweigh.get_xgb_params()"
   ]
  },
  {
   "cell_type": "code",
   "execution_count": null,
   "id": "12d40283-3cc3-4282-9271-e85d6f6eb1ec",
   "metadata": {},
   "outputs": [
    {
     "name": "stdout",
     "output_type": "stream",
     "text": [
      "Fitting 3 folds for each of 1024 candidates, totalling 3072 fits\n"
     ]
    },
    {
     "ename": "ValueError",
     "evalue": "\nAll the 3072 fits failed.\nIt is very likely that your model is misconfigured.\nYou can try to debug the error by setting error_score='raise'.\n\nBelow are more details about the failures:\n--------------------------------------------------------------------------------\n3072 fits failed with the following error:\nTraceback (most recent call last):\n  File \"z:\\Google\\Anaconda\\lib\\site-packages\\sklearn\\model_selection\\_validation.py\", line 732, in _fit_and_score\n    estimator.fit(X_train, y_train, **fit_params)\n  File \"z:\\Google\\Anaconda\\lib\\site-packages\\xgboost\\core.py\", line 730, in inner_f\n    return func(**kwargs)\n  File \"z:\\Google\\Anaconda\\lib\\site-packages\\xgboost\\sklearn.py\", line 1519, in fit\n    self._Booster = train(\n  File \"z:\\Google\\Anaconda\\lib\\site-packages\\xgboost\\core.py\", line 730, in inner_f\n    return func(**kwargs)\n  File \"z:\\Google\\Anaconda\\lib\\site-packages\\xgboost\\training.py\", line 181, in train\n    bst.update(dtrain, i, obj)\n  File \"z:\\Google\\Anaconda\\lib\\site-packages\\xgboost\\core.py\", line 2050, in update\n    _check_call(\n  File \"z:\\Google\\Anaconda\\lib\\site-packages\\xgboost\\core.py\", line 282, in _check_call\n    raise XGBoostError(py_str(_LIB.XGBGetLastError()))\nxgboost.core.XGBoostError: value 0 for Parameter num_class should be greater equal to 1\nnum_class: Number of output class in the multi-class classification.\n",
     "output_type": "error",
     "traceback": [
      "\u001b[1;31m---------------------------------------------------------------------------\u001b[0m",
      "\u001b[1;31mValueError\u001b[0m                                Traceback (most recent call last)",
      "Cell \u001b[1;32mIn[48], line 14\u001b[0m\n\u001b[0;32m      2\u001b[0m param_grid \u001b[39m=\u001b[39m {\n\u001b[0;32m      3\u001b[0m     \u001b[39m'\u001b[39m\u001b[39mn_estimators\u001b[39m\u001b[39m'\u001b[39m: [\u001b[39mNone\u001b[39;00m, \u001b[39m50\u001b[39m, \u001b[39m100\u001b[39m, \u001b[39m150\u001b[39m],\n\u001b[0;32m      4\u001b[0m     \u001b[39m'\u001b[39m\u001b[39mlearning_rate\u001b[39m\u001b[39m'\u001b[39m: [\u001b[39mNone\u001b[39;00m, \u001b[39m0.01\u001b[39m, \u001b[39m0.1\u001b[39m, \u001b[39m0.2\u001b[39m],\n\u001b[1;32m   (...)\u001b[0m\n\u001b[0;32m      7\u001b[0m     \u001b[39m'\u001b[39m\u001b[39mcolsample_bytree\u001b[39m\u001b[39m'\u001b[39m: [\u001b[39mNone\u001b[39;00m, \u001b[39m0.6\u001b[39m, \u001b[39m0.8\u001b[39m, \u001b[39m1.0\u001b[39m],\n\u001b[0;32m      8\u001b[0m }\n\u001b[0;32m     10\u001b[0m xgb_finetune \u001b[39m=\u001b[39m GridSearchCV(estimator\u001b[39m=\u001b[39mXGBClassifier(objective\u001b[39m=\u001b[39m\u001b[39m'\u001b[39m\u001b[39mmulti:softmax\u001b[39m\u001b[39m'\u001b[39m, use_label_encoder\u001b[39m=\u001b[39m\u001b[39mFalse\u001b[39;00m, \n\u001b[0;32m     11\u001b[0m                                                     eval_metric\u001b[39m=\u001b[39m\u001b[39m'\u001b[39m\u001b[39mmlogloss\u001b[39m\u001b[39m'\u001b[39m, n_jobs\u001b[39m=\u001b[39m\u001b[39m-\u001b[39m\u001b[39m1\u001b[39m, random_state\u001b[39m=\u001b[39m\u001b[39m42\u001b[39m),\n\u001b[0;32m     12\u001b[0m                             param_grid\u001b[39m=\u001b[39mparam_grid, scoring\u001b[39m=\u001b[39m\u001b[39m'\u001b[39m\u001b[39mf1_weighted\u001b[39m\u001b[39m'\u001b[39m, cv\u001b[39m=\u001b[39m\u001b[39m3\u001b[39m, verbose\u001b[39m=\u001b[39m\u001b[39m1\u001b[39m, n_jobs\u001b[39m=\u001b[39m\u001b[39m-\u001b[39m\u001b[39m1\u001b[39m)\n\u001b[1;32m---> 14\u001b[0m xgb_finetune\u001b[39m.\u001b[39;49mfit(X_train, y_train_p2rest)\n",
      "File \u001b[1;32mz:\\Google\\Anaconda\\lib\\site-packages\\sklearn\\base.py:1151\u001b[0m, in \u001b[0;36m_fit_context.<locals>.decorator.<locals>.wrapper\u001b[1;34m(estimator, *args, **kwargs)\u001b[0m\n\u001b[0;32m   1144\u001b[0m     estimator\u001b[39m.\u001b[39m_validate_params()\n\u001b[0;32m   1146\u001b[0m \u001b[39mwith\u001b[39;00m config_context(\n\u001b[0;32m   1147\u001b[0m     skip_parameter_validation\u001b[39m=\u001b[39m(\n\u001b[0;32m   1148\u001b[0m         prefer_skip_nested_validation \u001b[39mor\u001b[39;00m global_skip_validation\n\u001b[0;32m   1149\u001b[0m     )\n\u001b[0;32m   1150\u001b[0m ):\n\u001b[1;32m-> 1151\u001b[0m     \u001b[39mreturn\u001b[39;00m fit_method(estimator, \u001b[39m*\u001b[39;49margs, \u001b[39m*\u001b[39;49m\u001b[39m*\u001b[39;49mkwargs)\n",
      "File \u001b[1;32mz:\\Google\\Anaconda\\lib\\site-packages\\sklearn\\model_selection\\_search.py:898\u001b[0m, in \u001b[0;36mBaseSearchCV.fit\u001b[1;34m(self, X, y, groups, **fit_params)\u001b[0m\n\u001b[0;32m    892\u001b[0m     results \u001b[39m=\u001b[39m \u001b[39mself\u001b[39m\u001b[39m.\u001b[39m_format_results(\n\u001b[0;32m    893\u001b[0m         all_candidate_params, n_splits, all_out, all_more_results\n\u001b[0;32m    894\u001b[0m     )\n\u001b[0;32m    896\u001b[0m     \u001b[39mreturn\u001b[39;00m results\n\u001b[1;32m--> 898\u001b[0m \u001b[39mself\u001b[39;49m\u001b[39m.\u001b[39;49m_run_search(evaluate_candidates)\n\u001b[0;32m    900\u001b[0m \u001b[39m# multimetric is determined here because in the case of a callable\u001b[39;00m\n\u001b[0;32m    901\u001b[0m \u001b[39m# self.scoring the return type is only known after calling\u001b[39;00m\n\u001b[0;32m    902\u001b[0m first_test_score \u001b[39m=\u001b[39m all_out[\u001b[39m0\u001b[39m][\u001b[39m\"\u001b[39m\u001b[39mtest_scores\u001b[39m\u001b[39m\"\u001b[39m]\n",
      "File \u001b[1;32mz:\\Google\\Anaconda\\lib\\site-packages\\sklearn\\model_selection\\_search.py:1419\u001b[0m, in \u001b[0;36mGridSearchCV._run_search\u001b[1;34m(self, evaluate_candidates)\u001b[0m\n\u001b[0;32m   1417\u001b[0m \u001b[39mdef\u001b[39;00m \u001b[39m_run_search\u001b[39m(\u001b[39mself\u001b[39m, evaluate_candidates):\n\u001b[0;32m   1418\u001b[0m \u001b[39m    \u001b[39m\u001b[39m\"\"\"Search all candidates in param_grid\"\"\"\u001b[39;00m\n\u001b[1;32m-> 1419\u001b[0m     evaluate_candidates(ParameterGrid(\u001b[39mself\u001b[39;49m\u001b[39m.\u001b[39;49mparam_grid))\n",
      "File \u001b[1;32mz:\\Google\\Anaconda\\lib\\site-packages\\sklearn\\model_selection\\_search.py:875\u001b[0m, in \u001b[0;36mBaseSearchCV.fit.<locals>.evaluate_candidates\u001b[1;34m(candidate_params, cv, more_results)\u001b[0m\n\u001b[0;32m    868\u001b[0m \u001b[39melif\u001b[39;00m \u001b[39mlen\u001b[39m(out) \u001b[39m!=\u001b[39m n_candidates \u001b[39m*\u001b[39m n_splits:\n\u001b[0;32m    869\u001b[0m     \u001b[39mraise\u001b[39;00m \u001b[39mValueError\u001b[39;00m(\n\u001b[0;32m    870\u001b[0m         \u001b[39m\"\u001b[39m\u001b[39mcv.split and cv.get_n_splits returned \u001b[39m\u001b[39m\"\u001b[39m\n\u001b[0;32m    871\u001b[0m         \u001b[39m\"\u001b[39m\u001b[39minconsistent results. Expected \u001b[39m\u001b[39m{}\u001b[39;00m\u001b[39m \u001b[39m\u001b[39m\"\u001b[39m\n\u001b[0;32m    872\u001b[0m         \u001b[39m\"\u001b[39m\u001b[39msplits, got \u001b[39m\u001b[39m{}\u001b[39;00m\u001b[39m\"\u001b[39m\u001b[39m.\u001b[39mformat(n_splits, \u001b[39mlen\u001b[39m(out) \u001b[39m/\u001b[39m\u001b[39m/\u001b[39m n_candidates)\n\u001b[0;32m    873\u001b[0m     )\n\u001b[1;32m--> 875\u001b[0m _warn_or_raise_about_fit_failures(out, \u001b[39mself\u001b[39;49m\u001b[39m.\u001b[39;49merror_score)\n\u001b[0;32m    877\u001b[0m \u001b[39m# For callable self.scoring, the return type is only know after\u001b[39;00m\n\u001b[0;32m    878\u001b[0m \u001b[39m# calling. If the return type is a dictionary, the error scores\u001b[39;00m\n\u001b[0;32m    879\u001b[0m \u001b[39m# can now be inserted with the correct key. The type checking\u001b[39;00m\n\u001b[0;32m    880\u001b[0m \u001b[39m# of out will be done in `_insert_error_scores`.\u001b[39;00m\n\u001b[0;32m    881\u001b[0m \u001b[39mif\u001b[39;00m \u001b[39mcallable\u001b[39m(\u001b[39mself\u001b[39m\u001b[39m.\u001b[39mscoring):\n",
      "File \u001b[1;32mz:\\Google\\Anaconda\\lib\\site-packages\\sklearn\\model_selection\\_validation.py:414\u001b[0m, in \u001b[0;36m_warn_or_raise_about_fit_failures\u001b[1;34m(results, error_score)\u001b[0m\n\u001b[0;32m    407\u001b[0m \u001b[39mif\u001b[39;00m num_failed_fits \u001b[39m==\u001b[39m num_fits:\n\u001b[0;32m    408\u001b[0m     all_fits_failed_message \u001b[39m=\u001b[39m (\n\u001b[0;32m    409\u001b[0m         \u001b[39mf\u001b[39m\u001b[39m\"\u001b[39m\u001b[39m\\n\u001b[39;00m\u001b[39mAll the \u001b[39m\u001b[39m{\u001b[39;00mnum_fits\u001b[39m}\u001b[39;00m\u001b[39m fits failed.\u001b[39m\u001b[39m\\n\u001b[39;00m\u001b[39m\"\u001b[39m\n\u001b[0;32m    410\u001b[0m         \u001b[39m\"\u001b[39m\u001b[39mIt is very likely that your model is misconfigured.\u001b[39m\u001b[39m\\n\u001b[39;00m\u001b[39m\"\u001b[39m\n\u001b[0;32m    411\u001b[0m         \u001b[39m\"\u001b[39m\u001b[39mYou can try to debug the error by setting error_score=\u001b[39m\u001b[39m'\u001b[39m\u001b[39mraise\u001b[39m\u001b[39m'\u001b[39m\u001b[39m.\u001b[39m\u001b[39m\\n\u001b[39;00m\u001b[39m\\n\u001b[39;00m\u001b[39m\"\u001b[39m\n\u001b[0;32m    412\u001b[0m         \u001b[39mf\u001b[39m\u001b[39m\"\u001b[39m\u001b[39mBelow are more details about the failures:\u001b[39m\u001b[39m\\n\u001b[39;00m\u001b[39m{\u001b[39;00mfit_errors_summary\u001b[39m}\u001b[39;00m\u001b[39m\"\u001b[39m\n\u001b[0;32m    413\u001b[0m     )\n\u001b[1;32m--> 414\u001b[0m     \u001b[39mraise\u001b[39;00m \u001b[39mValueError\u001b[39;00m(all_fits_failed_message)\n\u001b[0;32m    416\u001b[0m \u001b[39melse\u001b[39;00m:\n\u001b[0;32m    417\u001b[0m     some_fits_failed_message \u001b[39m=\u001b[39m (\n\u001b[0;32m    418\u001b[0m         \u001b[39mf\u001b[39m\u001b[39m\"\u001b[39m\u001b[39m\\n\u001b[39;00m\u001b[39m{\u001b[39;00mnum_failed_fits\u001b[39m}\u001b[39;00m\u001b[39m fits failed out of a total of \u001b[39m\u001b[39m{\u001b[39;00mnum_fits\u001b[39m}\u001b[39;00m\u001b[39m.\u001b[39m\u001b[39m\\n\u001b[39;00m\u001b[39m\"\u001b[39m\n\u001b[0;32m    419\u001b[0m         \u001b[39m\"\u001b[39m\u001b[39mThe score on these train-test partitions for these parameters\u001b[39m\u001b[39m\"\u001b[39m\n\u001b[1;32m   (...)\u001b[0m\n\u001b[0;32m    423\u001b[0m         \u001b[39mf\u001b[39m\u001b[39m\"\u001b[39m\u001b[39mBelow are more details about the failures:\u001b[39m\u001b[39m\\n\u001b[39;00m\u001b[39m{\u001b[39;00mfit_errors_summary\u001b[39m}\u001b[39;00m\u001b[39m\"\u001b[39m\n\u001b[0;32m    424\u001b[0m     )\n",
      "\u001b[1;31mValueError\u001b[0m: \nAll the 3072 fits failed.\nIt is very likely that your model is misconfigured.\nYou can try to debug the error by setting error_score='raise'.\n\nBelow are more details about the failures:\n--------------------------------------------------------------------------------\n3072 fits failed with the following error:\nTraceback (most recent call last):\n  File \"z:\\Google\\Anaconda\\lib\\site-packages\\sklearn\\model_selection\\_validation.py\", line 732, in _fit_and_score\n    estimator.fit(X_train, y_train, **fit_params)\n  File \"z:\\Google\\Anaconda\\lib\\site-packages\\xgboost\\core.py\", line 730, in inner_f\n    return func(**kwargs)\n  File \"z:\\Google\\Anaconda\\lib\\site-packages\\xgboost\\sklearn.py\", line 1519, in fit\n    self._Booster = train(\n  File \"z:\\Google\\Anaconda\\lib\\site-packages\\xgboost\\core.py\", line 730, in inner_f\n    return func(**kwargs)\n  File \"z:\\Google\\Anaconda\\lib\\site-packages\\xgboost\\training.py\", line 181, in train\n    bst.update(dtrain, i, obj)\n  File \"z:\\Google\\Anaconda\\lib\\site-packages\\xgboost\\core.py\", line 2050, in update\n    _check_call(\n  File \"z:\\Google\\Anaconda\\lib\\site-packages\\xgboost\\core.py\", line 282, in _check_call\n    raise XGBoostError(py_str(_LIB.XGBGetLastError()))\nxgboost.core.XGBoostError: value 0 for Parameter num_class should be greater equal to 1\nnum_class: Number of output class in the multi-class classification.\n"
     ]
    }
   ],
   "source": [
    "## hyperparameter tuning for xgb without weights and imabalanced data\n",
    "param_grid = {\n",
    "    'n_estimators': [None, 50, 100, 150],\n",
    "    'learning_rate': [None, 0.01, 0.1, 0.2],\n",
    "    'max_depth': [None, 3, 5, 7],\n",
    "    'subsample': [None, 0.6, 0.8, 1.0],\n",
    "    'colsample_bytree': [None, 0.6, 0.8, 1.0],\n",
    "}\n",
    "\n",
    "xgb_finetune = GridSearchCV(estimator=XGBClassifier(objective='multi:softmax', use_label_encoder=False, \n",
    "                                                    eval_metric='mlogloss', n_jobs=-1, random_state=42),\n",
    "                            param_grid=param_grid, scoring='f1_weighted', cv=3, verbose=1, n_jobs=-1)\n",
    "\n",
    "xgb_finetune.fit(X_train, y_train_p2rest)"
   ]
  },
  {
   "cell_type": "code",
   "execution_count": null,
   "id": "3f94510f-5fc5-41bd-adfd-567d9ba50947",
   "metadata": {},
   "outputs": [
    {
     "name": "stdout",
     "output_type": "stream",
     "text": [
      "Fitting 3 folds for each of 1024 candidates, totalling 3072 fits\n"
     ]
    },
    {
     "data": {
      "text/html": [
       "<style>#sk-container-id-1 {color: black;}#sk-container-id-1 pre{padding: 0;}#sk-container-id-1 div.sk-toggleable {background-color: white;}#sk-container-id-1 label.sk-toggleable__label {cursor: pointer;display: block;width: 100%;margin-bottom: 0;padding: 0.3em;box-sizing: border-box;text-align: center;}#sk-container-id-1 label.sk-toggleable__label-arrow:before {content: \"▸\";float: left;margin-right: 0.25em;color: #696969;}#sk-container-id-1 label.sk-toggleable__label-arrow:hover:before {color: black;}#sk-container-id-1 div.sk-estimator:hover label.sk-toggleable__label-arrow:before {color: black;}#sk-container-id-1 div.sk-toggleable__content {max-height: 0;max-width: 0;overflow: hidden;text-align: left;background-color: #f0f8ff;}#sk-container-id-1 div.sk-toggleable__content pre {margin: 0.2em;color: black;border-radius: 0.25em;background-color: #f0f8ff;}#sk-container-id-1 input.sk-toggleable__control:checked~div.sk-toggleable__content {max-height: 200px;max-width: 100%;overflow: auto;}#sk-container-id-1 input.sk-toggleable__control:checked~label.sk-toggleable__label-arrow:before {content: \"▾\";}#sk-container-id-1 div.sk-estimator input.sk-toggleable__control:checked~label.sk-toggleable__label {background-color: #d4ebff;}#sk-container-id-1 div.sk-label input.sk-toggleable__control:checked~label.sk-toggleable__label {background-color: #d4ebff;}#sk-container-id-1 input.sk-hidden--visually {border: 0;clip: rect(1px 1px 1px 1px);clip: rect(1px, 1px, 1px, 1px);height: 1px;margin: -1px;overflow: hidden;padding: 0;position: absolute;width: 1px;}#sk-container-id-1 div.sk-estimator {font-family: monospace;background-color: #f0f8ff;border: 1px dotted black;border-radius: 0.25em;box-sizing: border-box;margin-bottom: 0.5em;}#sk-container-id-1 div.sk-estimator:hover {background-color: #d4ebff;}#sk-container-id-1 div.sk-parallel-item::after {content: \"\";width: 100%;border-bottom: 1px solid gray;flex-grow: 1;}#sk-container-id-1 div.sk-label:hover label.sk-toggleable__label {background-color: #d4ebff;}#sk-container-id-1 div.sk-serial::before {content: \"\";position: absolute;border-left: 1px solid gray;box-sizing: border-box;top: 0;bottom: 0;left: 50%;z-index: 0;}#sk-container-id-1 div.sk-serial {display: flex;flex-direction: column;align-items: center;background-color: white;padding-right: 0.2em;padding-left: 0.2em;position: relative;}#sk-container-id-1 div.sk-item {position: relative;z-index: 1;}#sk-container-id-1 div.sk-parallel {display: flex;align-items: stretch;justify-content: center;background-color: white;position: relative;}#sk-container-id-1 div.sk-item::before, #sk-container-id-1 div.sk-parallel-item::before {content: \"\";position: absolute;border-left: 1px solid gray;box-sizing: border-box;top: 0;bottom: 0;left: 50%;z-index: -1;}#sk-container-id-1 div.sk-parallel-item {display: flex;flex-direction: column;z-index: 1;position: relative;background-color: white;}#sk-container-id-1 div.sk-parallel-item:first-child::after {align-self: flex-end;width: 50%;}#sk-container-id-1 div.sk-parallel-item:last-child::after {align-self: flex-start;width: 50%;}#sk-container-id-1 div.sk-parallel-item:only-child::after {width: 0;}#sk-container-id-1 div.sk-dashed-wrapped {border: 1px dashed gray;margin: 0 0.4em 0.5em 0.4em;box-sizing: border-box;padding-bottom: 0.4em;background-color: white;}#sk-container-id-1 div.sk-label label {font-family: monospace;font-weight: bold;display: inline-block;line-height: 1.2em;}#sk-container-id-1 div.sk-label-container {text-align: center;}#sk-container-id-1 div.sk-container {/* jupyter's `normalize.less` sets `[hidden] { display: none; }` but bootstrap.min.css set `[hidden] { display: none !important; }` so we also need the `!important` here to be able to override the default hidden behavior on the sphinx rendered scikit-learn.org. See: https://github.com/scikit-learn/scikit-learn/issues/21755 */display: inline-block !important;position: relative;}#sk-container-id-1 div.sk-text-repr-fallback {display: none;}</style><div id=\"sk-container-id-1\" class=\"sk-top-container\"><div class=\"sk-text-repr-fallback\"><pre>GridSearchCV(cv=3,\n",
       "             estimator=XGBClassifier(base_score=None, booster=None,\n",
       "                                     callbacks=None, colsample_bylevel=None,\n",
       "                                     colsample_bynode=None,\n",
       "                                     colsample_bytree=None, device=None,\n",
       "                                     early_stopping_rounds=None,\n",
       "                                     enable_categorical=False,\n",
       "                                     eval_metric=&#x27;error&#x27;, feature_types=None,\n",
       "                                     gamma=None, grow_policy=None,\n",
       "                                     importance_type=None,\n",
       "                                     interaction_constraints=None,\n",
       "                                     learning_rate=No...\n",
       "                                     max_leaves=None, min_child_weight=None,\n",
       "                                     missing=nan, monotone_constraints=None,\n",
       "                                     multi_strategy=None, n_estimators=None,\n",
       "                                     n_jobs=-1, num_parallel_tree=None,\n",
       "                                     random_state=42, ...),\n",
       "             n_jobs=-1,\n",
       "             param_grid={&#x27;colsample_bytree&#x27;: [None, 0.6, 0.8, 1.0],\n",
       "                         &#x27;learning_rate&#x27;: [None, 0.01, 0.1, 0.2],\n",
       "                         &#x27;max_depth&#x27;: [None, 3, 5, 7],\n",
       "                         &#x27;n_estimators&#x27;: [None, 50, 100, 150],\n",
       "                         &#x27;subsample&#x27;: [None, 0.6, 0.8, 1.0]},\n",
       "             scoring=&#x27;f1_weighted&#x27;, verbose=1)</pre><b>In a Jupyter environment, please rerun this cell to show the HTML representation or trust the notebook. <br />On GitHub, the HTML representation is unable to render, please try loading this page with nbviewer.org.</b></div><div class=\"sk-container\" hidden><div class=\"sk-item sk-dashed-wrapped\"><div class=\"sk-label-container\"><div class=\"sk-label sk-toggleable\"><input class=\"sk-toggleable__control sk-hidden--visually\" id=\"sk-estimator-id-1\" type=\"checkbox\" ><label for=\"sk-estimator-id-1\" class=\"sk-toggleable__label sk-toggleable__label-arrow\">GridSearchCV</label><div class=\"sk-toggleable__content\"><pre>GridSearchCV(cv=3,\n",
       "             estimator=XGBClassifier(base_score=None, booster=None,\n",
       "                                     callbacks=None, colsample_bylevel=None,\n",
       "                                     colsample_bynode=None,\n",
       "                                     colsample_bytree=None, device=None,\n",
       "                                     early_stopping_rounds=None,\n",
       "                                     enable_categorical=False,\n",
       "                                     eval_metric=&#x27;error&#x27;, feature_types=None,\n",
       "                                     gamma=None, grow_policy=None,\n",
       "                                     importance_type=None,\n",
       "                                     interaction_constraints=None,\n",
       "                                     learning_rate=No...\n",
       "                                     max_leaves=None, min_child_weight=None,\n",
       "                                     missing=nan, monotone_constraints=None,\n",
       "                                     multi_strategy=None, n_estimators=None,\n",
       "                                     n_jobs=-1, num_parallel_tree=None,\n",
       "                                     random_state=42, ...),\n",
       "             n_jobs=-1,\n",
       "             param_grid={&#x27;colsample_bytree&#x27;: [None, 0.6, 0.8, 1.0],\n",
       "                         &#x27;learning_rate&#x27;: [None, 0.01, 0.1, 0.2],\n",
       "                         &#x27;max_depth&#x27;: [None, 3, 5, 7],\n",
       "                         &#x27;n_estimators&#x27;: [None, 50, 100, 150],\n",
       "                         &#x27;subsample&#x27;: [None, 0.6, 0.8, 1.0]},\n",
       "             scoring=&#x27;f1_weighted&#x27;, verbose=1)</pre></div></div></div><div class=\"sk-parallel\"><div class=\"sk-parallel-item\"><div class=\"sk-item\"><div class=\"sk-label-container\"><div class=\"sk-label sk-toggleable\"><input class=\"sk-toggleable__control sk-hidden--visually\" id=\"sk-estimator-id-2\" type=\"checkbox\" ><label for=\"sk-estimator-id-2\" class=\"sk-toggleable__label sk-toggleable__label-arrow\">estimator: XGBClassifier</label><div class=\"sk-toggleable__content\"><pre>XGBClassifier(base_score=None, booster=None, callbacks=None,\n",
       "              colsample_bylevel=None, colsample_bynode=None,\n",
       "              colsample_bytree=None, device=None, early_stopping_rounds=None,\n",
       "              enable_categorical=False, eval_metric=&#x27;error&#x27;, feature_types=None,\n",
       "              gamma=None, grow_policy=None, importance_type=None,\n",
       "              interaction_constraints=None, learning_rate=None, max_bin=None,\n",
       "              max_cat_threshold=None, max_cat_to_onehot=None,\n",
       "              max_delta_step=None, max_depth=None, max_leaves=None,\n",
       "              min_child_weight=None, missing=nan, monotone_constraints=None,\n",
       "              multi_strategy=None, n_estimators=None, n_jobs=-1,\n",
       "              num_parallel_tree=None, random_state=42, ...)</pre></div></div></div><div class=\"sk-serial\"><div class=\"sk-item\"><div class=\"sk-estimator sk-toggleable\"><input class=\"sk-toggleable__control sk-hidden--visually\" id=\"sk-estimator-id-3\" type=\"checkbox\" ><label for=\"sk-estimator-id-3\" class=\"sk-toggleable__label sk-toggleable__label-arrow\">XGBClassifier</label><div class=\"sk-toggleable__content\"><pre>XGBClassifier(base_score=None, booster=None, callbacks=None,\n",
       "              colsample_bylevel=None, colsample_bynode=None,\n",
       "              colsample_bytree=None, device=None, early_stopping_rounds=None,\n",
       "              enable_categorical=False, eval_metric=&#x27;error&#x27;, feature_types=None,\n",
       "              gamma=None, grow_policy=None, importance_type=None,\n",
       "              interaction_constraints=None, learning_rate=None, max_bin=None,\n",
       "              max_cat_threshold=None, max_cat_to_onehot=None,\n",
       "              max_delta_step=None, max_depth=None, max_leaves=None,\n",
       "              min_child_weight=None, missing=nan, monotone_constraints=None,\n",
       "              multi_strategy=None, n_estimators=None, n_jobs=-1,\n",
       "              num_parallel_tree=None, random_state=42, ...)</pre></div></div></div></div></div></div></div></div></div></div>"
      ],
      "text/plain": [
       "GridSearchCV(cv=3,\n",
       "             estimator=XGBClassifier(base_score=None, booster=None,\n",
       "                                     callbacks=None, colsample_bylevel=None,\n",
       "                                     colsample_bynode=None,\n",
       "                                     colsample_bytree=None, device=None,\n",
       "                                     early_stopping_rounds=None,\n",
       "                                     enable_categorical=False,\n",
       "                                     eval_metric='error', feature_types=None,\n",
       "                                     gamma=None, grow_policy=None,\n",
       "                                     importance_type=None,\n",
       "                                     interaction_constraints=None,\n",
       "                                     learning_rate=No...\n",
       "                                     max_leaves=None, min_child_weight=None,\n",
       "                                     missing=nan, monotone_constraints=None,\n",
       "                                     multi_strategy=None, n_estimators=None,\n",
       "                                     n_jobs=-1, num_parallel_tree=None,\n",
       "                                     random_state=42, ...),\n",
       "             n_jobs=-1,\n",
       "             param_grid={'colsample_bytree': [None, 0.6, 0.8, 1.0],\n",
       "                         'learning_rate': [None, 0.01, 0.1, 0.2],\n",
       "                         'max_depth': [None, 3, 5, 7],\n",
       "                         'n_estimators': [None, 50, 100, 150],\n",
       "                         'subsample': [None, 0.6, 0.8, 1.0]},\n",
       "             scoring='f1_weighted', verbose=1)"
      ]
     },
     "execution_count": 49,
     "metadata": {},
     "output_type": "execute_result"
    }
   ],
   "source": [
    "xgb_finetune = GridSearchCV(estimator=XGBClassifier(use_label_encoder=False, \n",
    "                                                    eval_metric='error', n_jobs=-1, random_state=42),\n",
    "                            param_grid=param_grid, scoring='f1_weighted', cv=3, verbose=1, n_jobs=-1)\n",
    "\n",
    "xgb_finetune.fit(X_train, y_train_p2rest)"
   ]
  },
  {
   "cell_type": "code",
   "execution_count": null,
   "id": "d66149ce-41b0-4ed4-9bad-0dc3cf30f724",
   "metadata": {},
   "outputs": [
    {
     "name": "stdout",
     "output_type": "stream",
     "text": [
      "Best Parameters: {'colsample_bytree': 0.8, 'learning_rate': 0.1, 'max_depth': 7, 'n_estimators': None, 'subsample': None}\n",
      "Best Score: 0.821785968976252\n"
     ]
    }
   ],
   "source": [
    "print(\"Best Parameters:\", xgb_finetune.best_params_)\n",
    "print(\"Best Score:\", xgb_finetune.best_score_)"
   ]
  },
  {
   "cell_type": "code",
   "execution_count": null,
   "id": "f3acab62-9097-4ee8-a394-a3f54cc5e49f",
   "metadata": {},
   "outputs": [
    {
     "name": "stdout",
     "output_type": "stream",
     "text": [
      "P3 vs Rest model accuracy: 0.8239884740064833\n",
      "Rest class:\n",
      "precision: 0.8294302691366655\n",
      "recall: 0.7081468218442256\n",
      "f1score: 0.7640051513200258\n",
      "P3 class:\n",
      "precision: 0.8211411850768106\n",
      "recall: 0.9019686621132985\n",
      "f1score: 0.8596591996936627\n"
     ]
    }
   ],
   "source": [
    "print('P3 vs Rest model accuracy:', xgb_finetune.best_estimator_.score(X_test, y_test_p2rest))\n",
    "precision, recall, f1, _ = precision_recall_fscore_support(y_test_p2rest, xgb_finetune.best_estimator_.predict(X_test))\n",
    "for i, label in enumerate(['Rest', 'P3']):\n",
    "    print(label, 'class:')\n",
    "    print('precision:', precision[i])\n",
    "    print('recall:', recall[i])\n",
    "    print('f1score:', f1[i])"
   ]
  },
  {
   "cell_type": "code",
   "execution_count": null,
   "id": "f43f242b-d5a7-4342-98a2-df0dc762c980",
   "metadata": {},
   "outputs": [],
   "source": [
    "rf = RandomForestClassifier(n_estimators=200, n_jobs=-1, random_state=42).fit(X_train, y_train_p2rest)"
   ]
  },
  {
   "cell_type": "code",
   "execution_count": null,
   "id": "a3920b74-a852-4caf-91a7-50e1b40252d8",
   "metadata": {},
   "outputs": [
    {
     "data": {
      "text/plain": [
       "0.8147436667066875"
      ]
     },
     "execution_count": 55,
     "metadata": {},
     "output_type": "execute_result"
    }
   ],
   "source": [
    "rf.score(X_test, y_test_p2rest)"
   ]
  },
  {
   "cell_type": "code",
   "execution_count": null,
   "id": "a2c9c187-ef80-4fb3-aa70-bc200b8cf6cc",
   "metadata": {},
   "outputs": [
    {
     "name": "stdout",
     "output_type": "stream",
     "text": [
      "Rest class:\n",
      "precision: 0.8074829931972789\n",
      "recall: 0.708445240226798\n",
      "f1score: 0.7547289779049436\n",
      "P3 class:\n",
      "precision: 0.8187047689738356\n",
      "recall: 0.8862997187625552\n",
      "f1score: 0.8511623420468795\n"
     ]
    }
   ],
   "source": [
    "precision, recall, f1, _ = precision_recall_fscore_support(y_test_p2rest, rf.predict(X_test))\n",
    "for i, label in enumerate(['Rest', 'P3']):\n",
    "    print(label, 'class:')\n",
    "    print('precision:', precision[i])\n",
    "    print('recall:', recall[i])\n",
    "    print('f1score:', f1[i])"
   ]
  }
 ],
 "metadata": {
  "language_info": {
   "codemirror_mode": {
    "name": "ipython",
    "version": 3
   },
   "file_extension": ".py",
   "mimetype": "text/x-python",
   "name": "python",
   "nbconvert_exporter": "python",
   "pygments_lexer": "ipython3",
   "version": 3
  }
 },
 "nbformat": 4,
 "nbformat_minor": 2
}
